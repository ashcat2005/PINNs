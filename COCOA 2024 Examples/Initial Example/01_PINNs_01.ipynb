{
  "cells": [
    {
      "cell_type": "markdown",
      "metadata": {
        "id": "OcHBsBXo2z13"
      },
      "source": [
        "![](../../logo.png)"
      ]
    },
    {
      "cell_type": "markdown",
      "metadata": {
        "id": "5soGuirloNgq"
      },
      "source": [
        "# Physics Informed Neural Networks (PINNs) from scratch\n",
        "\n",
        "\n",
        "Eduard Larrañaga (ealarranaga@unal.edu.co)\n",
        "\n",
        "---"
      ]
    },
    {
      "cell_type": "markdown",
      "metadata": {
        "id": "nvgwoPCK2z17"
      },
      "source": [
        "\n",
        "\n",
        "## Example: Exponential decay\n",
        "\n",
        "An exponential decay of a physical quantity $y(x)$ is described by the ODE\n",
        "\n",
        "\\begin{equation} \n",
        "  y'(x) = -\\gamma y(x),\n",
        "\\end{equation}\n",
        "\n",
        "\n",
        "together with the initial condition $y(0) = y_0$, with $y_0$ a constant. In this example we will consider the values $\\gamma = 2$ and $y_0 = 10$.\n",
        "\n",
        "It is well known that the analytical solution of this problem is\n",
        "\n",
        "\\begin{equation}\n",
        "  y(x) = y_0 \\exp\\left(-\\gamma x\\right).\n",
        "\\end{equation}\n",
        "\n",
        "\n",
        "Since we know the analytical solution, it is possible to use it to compare with the result of the neural network's solution."
      ]
    },
    {
      "cell_type": "markdown",
      "metadata": {
        "id": "WTkOe_FY2z17"
      },
      "source": [
        "## Setup of the Neural Network  and the trial solution\n",
        "\n",
        "We will create a neural network with the following structure:\n",
        "\n",
        "- an input layer with $N_{\\text{in}}$ (no weights and no bias to optimize)\n",
        "- a hidden layer with $N_{\\text{hid} }$ neurons and $\\theta^{\\text{hid}}$ parameters to optimize\n",
        "- an output layer with $N_{\\text{out} }$ neurons and $\\theta^{\\text{out}}$ parameters to optimize.\n",
        "\n",
        "\n",
        "Hence, we will have  a set of parameters  $\\theta = \\{ \\theta^{\\text{hid}},  \\theta^{\\text{out}} \\}$ that will be optimized.\n",
        "\n",
        "## The trial solution\n",
        "The trial solution $\\hat{y}(t)$ is written as\n",
        "\n",
        "$$\n",
        "\\hat{y}(x; \\theta) = h_0(x) + h_1(x, \\mathcal{N}(x; \\theta)).\n",
        "$$\n",
        "\n",
        "Since the initial condition states that $y(0) = y_0$, we need that $\\hat{y}(0; \\theta) = y_0$. This is acomplished by choosing $h_0(x) = y_0$ and $h_1(x, \\mathcal{N}(x; \\theta)) = x \\cdot \\mathcal{N}(x; \\theta)$. Then, we get\n",
        "\n",
        "\\begin{equation}\n",
        "\\hat{y}(x, \\theta) = y_0 + x \\cdot \\mathcal{N}(x, \\theta).\n",
        "\\end{equation}\n"
      ]
    },
    {
      "cell_type": "markdown",
      "metadata": {
        "id": "fFS5sVYq2z17"
      },
      "source": [
        "### The Loss Function\n",
        "\n",
        "The trial solution has been chosen such that it already solves the initial condition $y(0) = y_0$. Now, the neural network must find the set of weights and biases $P$ such that the trial solution satisfies the ODE, i.e. such that\n",
        "\n",
        "\n",
        "\\begin{equation} \n",
        "\\hat{y}'(x; \\theta) = - \\gamma \\hat{y}(x; \\theta),\n",
        "\\end{equation}\n",
        "\n",
        "\n",
        "is fulfilled as *best as possible*. Therefore, we define the loss function for an input value $x$ as\n",
        "\n",
        "\\begin{equation}\n",
        "\\mathcal{L}(x;\\theta ) = \\left[ \\hat{y}'(x; \\theta ) - ( -\\gamma \\hat{y}(x; \\theta ) ) \\right]^2\n",
        "\\end{equation}\n",
        "\n"
      ]
    },
    {
      "cell_type": "markdown",
      "metadata": {
        "id": "V6qdrorH2z18"
      },
      "source": [
        "## Gradient descent\n",
        "\n",
        "The idea of the gradient descent algorithm is to update the parameters in a direction where the loss function decreases.\n",
        "\n",
        "In general, the update of the parameters $\\theta$ given the loss function goes as\n",
        "\n",
        "$$\n",
        "\\theta_{\\text{new} } = \\theta - \\alpha \\nabla_{\\theta} \\mathcal{L}(\\boldsymbol{x}; \\theta)\n",
        "$$\n",
        "\n",
        "for a given number of iterations or until $ \\big|\\big| \\theta_{\\text{new} } - \\theta \\big|\\big|$ becomes smaller than some given tolerance. The value of $\\alpha$ (learning rate) decides how large steps the algorithm must take\n",
        "in the direction of $ \\nabla_{\\theta} \\mathcal{L}(\\boldsymbol{x}; \\theta)$.\n",
        "\n",
        "\n"
      ]
    },
    {
      "cell_type": "markdown",
      "metadata": {
        "id": "yJtBWT5N2z18"
      },
      "source": [
        "\n",
        "Note that we will use the library [autograd](https://github.com/HIPS/autograd) for automatic differentiation. A detailed description of this library can be found [here](https://www.cs.toronto.edu/~rgrosse/courses/csc321_2017/tutorials/tut4.pdf) and [here](https://jermwatt.github.io/machine_learning_refined/notes/3_First_order_methods/3_5_Automatic.html)"
      ]
    },
    {
      "cell_type": "code",
      "execution_count": 6,
      "metadata": {
        "colab": {
          "base_uri": "https://localhost:8080/",
          "height": 694
        },
        "id": "mwecAgUH2z19",
        "outputId": "3738f704-3a96-441c-ccf7-56abee2ab402",
        "scrolled": false
      },
      "outputs": [
        {
          "name": "stdout",
          "output_type": "stream",
          "text": [
            "Initial value of the loss function: 546.055\n",
            "Epoch: 0 Current loss: 466.504\n",
            "Epoch: 1000 Current loss: 1.46225\n",
            "Epoch: 2000 Current loss: 0.641383\n",
            "Epoch: 3000 Current loss: 0.333367\n",
            "Epoch: 4000 Current loss: 0.163049\n",
            "Epoch: 5000 Current loss: 0.093225\n",
            "Epoch: 6000 Current loss: 0.0631442\n",
            "Epoch: 7000 Current loss: 0.047072\n",
            "Epoch: 8000 Current loss: 0.0372212\n",
            "Epoch: 9000 Current loss: 0.0305668\n",
            "Epoch: 10000 Current loss: 0.0257277\n",
            "Epoch: 11000 Current loss: 0.0220088\n",
            "Epoch: 12000 Current loss: 0.0190344\n",
            "Epoch: 13000 Current loss: 0.0165883\n",
            "Epoch: 14000 Current loss: 0.0145387\n",
            "Epoch: 15000 Current loss: 0.0128005\n",
            "Epoch: 16000 Current loss: 0.0113153\n",
            "Epoch: 17000 Current loss: 0.0100407\n",
            "Epoch: 18000 Current loss: 0.00894411\n",
            "Epoch: 19000 Current loss: 0.0079993\n",
            "Final value of the loss function: 0.00718513\n",
            "Maximum absolute difference between prediction and analytical solution: 0.00921673\n"
          ]
        },
        {
          "data": {
            "image/png": "[encoded data removed]",
            "text/plain": [
              "<Figure size 1000x1000 with 1 Axes>"
            ]
          },
          "metadata": {},
          "output_type": "display_data"
        }
      ],
      "source": [
        "%matplotlib inline\n",
        "import autograd.numpy as np\n",
        "from autograd import grad, elementwise_grad\n",
        "import autograd.numpy.random as npr\n",
        "from matplotlib import pyplot as plt\n",
        "\n",
        "\n",
        "# The activation function\n",
        "def sigmoid(z):\n",
        "    return 1/(1 + np.exp(-z))\n",
        "\n",
        "\n",
        "def neural_network(params, x):\n",
        "\n",
        "    # Find the weights (including and biases) for the hidden and output layer.\n",
        "    # Assume that params is a list of parameters for each layer.\n",
        "    # The biases are the first element for each array in params,\n",
        "    # and the weights are the remaning elements in each array in params.\n",
        "\n",
        "    P_hidden = params[0]\n",
        "    P_output = params[1]\n",
        "\n",
        "    # Input x is a one-dimensional array\n",
        "    num_values = np.size(x)\n",
        "    x_input = x.reshape(-1, num_values)\n",
        "\n",
        "    ## Hidden layer:\n",
        "    x_input = np.concatenate((np.ones((1,num_values)), x_input ), axis = 0)\n",
        "\n",
        "    z_hidden = np.matmul(P_hidden, x_input)\n",
        "    x_hidden = sigmoid(z_hidden)\n",
        "\n",
        "\n",
        "    ## Output layer:\n",
        "    x_hidden = np.concatenate((np.ones((1,num_values)), x_hidden ), axis = 0)\n",
        "\n",
        "    z_output = np.matmul(P_output, x_hidden)\n",
        "    x_output = z_output # No activation function\n",
        "\n",
        "    return x_output\n",
        "\n",
        "\n",
        "# The trial solution using the deep neural network:\n",
        "def y_trial(x,params, y0 = 10):\n",
        "    return y0 + x*neural_network(params,x)\n",
        "\n",
        "\n",
        "# The right side of the ODE:\n",
        "def y(x, y_trial, gamma = 2):\n",
        "    return -gamma*y_trial\n",
        "\n",
        "\n",
        "# The loss function:\n",
        "def loss_function(P, x):\n",
        "\n",
        "    # Evaluate the trial function with the current parameters P\n",
        "    y_t = y_trial(x,P)\n",
        "\n",
        "    # Find the derivative w.r.t x of the neural network\n",
        "    #d_net_out = elementwise_grad(neural_network,1)(P,x)\n",
        "\n",
        "    # Find the derivative w.r.t x of the trial function\n",
        "    d_y_t = elementwise_grad(y_trial,0)(x,P)\n",
        "\n",
        "    # The right side of the ODE\n",
        "    func = y(x, y_t)\n",
        "\n",
        "    err_sqr = (d_y_t - func)**2\n",
        "    loss_sum = np.sum(err_sqr)\n",
        "\n",
        "    return loss_sum / np.size(err_sqr)\n",
        "\n",
        "\n",
        "\n",
        "# Solve the exponential decay ODE using neural network with one input, hidden, and output layer\n",
        "def solve_ode_neural_network(x, num_neurons_hidden, num_iter, lmb):\n",
        "    ## Set up initial weights and biases\n",
        "    # For the hidden layer\n",
        "    p0 = npr.randn(num_neurons_hidden, 2 )\n",
        "    # For the output layer\n",
        "    p1 = npr.randn(1, num_neurons_hidden + 1 ) # +1 since bias is included\n",
        "    P = [p0, p1]\n",
        "\n",
        "    print('Initial value of the loss function: %g'%loss_function(P, x))\n",
        "\n",
        "    ## Start finding the optimal weights using gradient descent\n",
        "\n",
        "    # Find the Python function that represents the gradient of the loss function\n",
        "    # w.r.t the 0-th input argument -- that is the weights and biases in the hidden and output layer\n",
        "    loss_function_grad = grad(loss_function,0)\n",
        "\n",
        "    # Let the update be done num_iter times\n",
        "    for i in range(num_iter):\n",
        "        # Evaluate the gradient at the current weights and biases in P.\n",
        "        loss_grad =  loss_function_grad(P, x)\n",
        "\n",
        "        P[0] = P[0] - 10*lmb * loss_grad[0]\n",
        "        P[1] = P[1] - lmb * loss_grad[1]\n",
        "\n",
        "        if i%1000 == 0:\n",
        "            print('Epoch: %g ' %i, ' Current loss: %g'%loss_function(P,x))\n",
        "    print('Final value of the loss function: %g'%loss_function(P, x))\n",
        "\n",
        "    return P\n",
        "\n",
        "\n",
        "def y_analytic(x, gamma = 2, y0 = 10):\n",
        "    return y0*np.exp(-gamma*x)\n",
        "\n",
        "\n",
        "\n",
        "# Solve the given problem\n",
        "if __name__ == '__main__':\n",
        "    # Set seed such that the weight are initialized\n",
        "    # with same weights and biases for every run.\n",
        "    npr.seed(413)\n",
        "\n",
        "    ## Decide the vales of arguments to the function to solve\n",
        "    N = 20\n",
        "    x = np.linspace(0, 1, N)\n",
        "\n",
        "    ## Set up the initial parameters\n",
        "    num_hidden_neurons = 10\n",
        "    num_iter = 20000\n",
        "    lmb = 0.001\n",
        "\n",
        "    # Use the network\n",
        "    P = solve_ode_neural_network(x, num_hidden_neurons, num_iter, lmb)\n",
        "\n",
        "    # Print the deviation from the trial solution and true solution\n",
        "    res = y_trial(x,P)\n",
        "    res_analytical = y_analytic(x)\n",
        "\n",
        "    print('Maximum absolute difference between prediction and analytical solution: %g'%np.max(np.abs(res - res_analytical)))\n",
        "\n",
        "\n",
        "\n",
        "\n",
        "    # Plot the results\n",
        "    plt.figure(figsize=(10,10))\n",
        "    plt.title('Prediction of the neural network compared with the analytical solution')\n",
        "    plt.plot(x, res_analytical)\n",
        "    plt.plot(x, res[0,:])\n",
        "    plt.legend(['analytical','NN'])\n",
        "    plt.xlabel(r'$x$')\n",
        "    plt.ylabel(r'$y(x)$')\n",
        "    plt.show()"
      ]
    },
    {
      "cell_type": "code",
      "execution_count": 3,
      "metadata": {
        "id": "Pazu81nOWFrw"
      },
      "outputs": [
        {
          "data": {
            "text/plain": [
              "[array([[-1.60630585,  3.85893559],\n",
              "        [-0.31412244, -1.84342966],\n",
              "        [ 3.13391299, -2.09078588],\n",
              "        [ 1.98617564, -3.49033868],\n",
              "        [ 2.32657399, -3.19306401],\n",
              "        [ 1.47886808, -5.61219114],\n",
              "        [ 0.37094785,  1.39946664],\n",
              "        [-4.24971913, -2.19861062],\n",
              "        [ 3.69314932, -1.51079161],\n",
              "        [ 0.73325307, -9.11001958]]),\n",
              " array([[-3.50782284,  1.61044491, -0.5572713 , -2.91111609, -2.76744655,\n",
              "         -2.8367608 , -3.05157595,  0.08488099,  1.94592954, -3.41503574,\n",
              "         -3.9737954 ]])]"
            ]
          },
          "execution_count": 3,
          "metadata": {},
          "output_type": "execute_result"
        }
      ],
      "source": [
        "# Optimized parameters of the neural network\n",
        "P"
      ]
    },
    {
      "cell_type": "code",
      "execution_count": null,
      "metadata": {},
      "outputs": [],
      "source": []
    }
  ],
  "metadata": {
    "@webio": {
      "lastCommId": null,
      "lastKernelId": null
    },
    "colab": {
      "provenance": []
    },
    "kernelspec": {
      "display_name": "Python 3 (ipykernel)",
      "language": "python",
      "name": "python3"
    },
    "language_info": {
      "codemirror_mode": {
        "name": "ipython",
        "version": 3
      },
      "file_extension": ".py",
      "mimetype": "text/x-python",
      "name": "python",
      "nbconvert_exporter": "python",
      "pygments_lexer": "ipython3",
      "version": "3.12.7"
    }
  },
  "nbformat": 4,
  "nbformat_minor": 0
}
