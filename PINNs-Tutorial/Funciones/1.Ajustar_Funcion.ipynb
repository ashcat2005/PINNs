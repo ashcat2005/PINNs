{
 "cells": [
  {
   "cell_type": "markdown",
   "id": "95920c30",
   "metadata": {},
   "source": [
    "![Semillero Astrofisica](../../logo.png)"
   ]
  },
  {
   "cell_type": "markdown",
   "id": "8f223661",
   "metadata": {},
   "source": [
    "---\n",
    "# Ajuste de Funciones\n",
    "\n",
    "\n",
    "Carlos Andrés del Valle (cdelv@unal.edu.co)\n",
    "\n",
    "---"
   ]
  },
  {
   "cell_type": "markdown",
   "id": "2ca1246d",
   "metadata": {},
   "source": [
    "Este cuadernillo muestra cómo ajustar una función utilizando **DeepXDE**. Esto es algo que se hace comunmente a la hora de utilizar redes neuronales, de modo que este ejemplo es una buena introducción a la librería ya que es algo familiar. Además sirve como repaso de algunas cosas básicas de redes neuronales y machine learning."
   ]
  },
  {
   "cell_type": "code",
   "execution_count": 2,
   "id": "fd05b1d6",
   "metadata": {},
   "outputs": [
    {
     "ename": "ImportError",
     "evalue": "dlopen(/Users/eduard/miniforge3/envs/ashcat/lib/python3.10/site-packages/tensorflow/python/_pywrap_tfe.so, 0x0002): Library not loaded: @rpath/_pywrap_tensorflow_internal.so\n  Referenced from: <8D026FA6-8C90-35B6-A92D-0886A4817B92> /Users/eduard/miniforge3/envs/ashcat/lib/python3.10/site-packages/tensorflow/python/_pywrap_tfe.so\n  Reason: tried: '/Users/eduard/miniforge3/envs/ashcat/lib/python3.10/site-packages/tensorflow/python/../../_solib_darwin_arm64/_U_S_Stensorflow_Clibtensorflow_Uframework_Uimport_Ulib___Utensorflow/_pywrap_tensorflow_internal.so' (no such file), '/Users/eduard/miniforge3/envs/ashcat/lib/python3.10/site-packages/tensorflow/python/../../_solib_darwin_arm64/_U_S_Stensorflow_Spython_C_Upywrap_Utensorflow_Uinternal_Umacos___Utensorflow_Spython/_pywrap_tensorflow_internal.so' (no such file), '/Users/eduard/miniforge3/envs/ashcat/lib/python3.10/site-packages/tensorflow/python/_pywrap_tensorflow_internal.so' (no such file), '/Users/eduard/miniforge3/envs/ashcat/lib/python3.10/site-packages/tensorflow/python/../_pywrap_tensorflow_internal.so' (no such file), '/Users/eduard/miniforge3/envs/ashcat/lib/python3.10/site-packages/tensorflow/python/../../../../_pywrap_tensorflow_internal.so' (no such file), '/Users/eduard/miniforge3/envs/ashcat/lib/python3.10/site-packages/tensorflow/python/../../_solib_darwin_arm64/_U_S_Stensorflow_Clibtensorflow_Uframework_Uimport_Ulib___Utensorflow/_pywrap_tensorflow_internal.so' (no such file), '/Users/eduard/miniforge3/envs/ashcat/lib/python3.10/site-packages/tensorflow/python/../../_solib_darwin_arm64/_U_S_Stensorflow_Spython_C_Upywrap_Utensorflow_Uinternal_Umacos___Utensorflow_Spython/_pywrap_tensorflow_internal.so' (no such file), '/Users/eduard/miniforge3/envs/ashcat/lib/python3.10/site-packages/tensorflow/python/_pywrap_tensorflow_internal.so' (no such file), '/Users/eduard/miniforge3/envs/ashcat/lib/python3.10/site-packages/tensorflow/python/../_pywrap_tensorflow_internal.so' (no such file), '/Users/eduard/miniforge3/envs/ashcat/lib/python3.10/site-packages/tensorflow/python/../../../../_pywrap_tensorflow_internal.so' (no such file), '/Users/eduard/miniforge3/envs/ashcat/bin/../lib/_pywrap_tensorflow_internal.so' (no such file), '/Users/eduard/miniforge3/envs/ashcat/bin/../lib/_pywrap_tensorflow_internal.so' (no such file), '/usr/local/lib/_pywrap_tensorflow_internal.so' (no such file), '/usr/lib/_pywrap_tensorflow_internal.so' (no such file, not in dyld cache)",
     "output_type": "error",
     "traceback": [
      "\u001b[0;31m---------------------------------------------------------------------------\u001b[0m",
      "\u001b[0;31mImportError\u001b[0m                               Traceback (most recent call last)",
      "Cell \u001b[0;32mIn[2], line 1\u001b[0m\n\u001b[0;32m----> 1\u001b[0m \u001b[38;5;28;01mimport\u001b[39;00m \u001b[38;5;21;01mtensorflow\u001b[39;00m \u001b[38;5;28;01mas\u001b[39;00m \u001b[38;5;21;01mtf\u001b[39;00m\n",
      "File \u001b[0;32m~/miniforge3/envs/ashcat/lib/python3.10/site-packages/tensorflow/__init__.py:37\u001b[0m\n\u001b[1;32m     34\u001b[0m \u001b[38;5;28;01mimport\u001b[39;00m \u001b[38;5;21;01msys\u001b[39;00m \u001b[38;5;28;01mas\u001b[39;00m \u001b[38;5;21;01m_sys\u001b[39;00m\n\u001b[1;32m     35\u001b[0m \u001b[38;5;28;01mimport\u001b[39;00m \u001b[38;5;21;01mtyping\u001b[39;00m \u001b[38;5;28;01mas\u001b[39;00m \u001b[38;5;21;01m_typing\u001b[39;00m\n\u001b[0;32m---> 37\u001b[0m \u001b[38;5;28;01mfrom\u001b[39;00m \u001b[38;5;21;01mtensorflow\u001b[39;00m\u001b[38;5;21;01m.\u001b[39;00m\u001b[38;5;21;01mpython\u001b[39;00m\u001b[38;5;21;01m.\u001b[39;00m\u001b[38;5;21;01mtools\u001b[39;00m \u001b[38;5;28;01mimport\u001b[39;00m module_util \u001b[38;5;28;01mas\u001b[39;00m _module_util\n\u001b[1;32m     38\u001b[0m \u001b[38;5;28;01mfrom\u001b[39;00m \u001b[38;5;21;01mtensorflow\u001b[39;00m\u001b[38;5;21;01m.\u001b[39;00m\u001b[38;5;21;01mpython\u001b[39;00m\u001b[38;5;21;01m.\u001b[39;00m\u001b[38;5;21;01mutil\u001b[39;00m\u001b[38;5;21;01m.\u001b[39;00m\u001b[38;5;21;01mlazy_loader\u001b[39;00m \u001b[38;5;28;01mimport\u001b[39;00m LazyLoader \u001b[38;5;28;01mas\u001b[39;00m _LazyLoader\n\u001b[1;32m     40\u001b[0m \u001b[38;5;66;03m# Make sure code inside the TensorFlow codebase can use tf2.enabled() at import.\u001b[39;00m\n",
      "File \u001b[0;32m~/miniforge3/envs/ashcat/lib/python3.10/site-packages/tensorflow/python/__init__.py:37\u001b[0m\n\u001b[1;32m     29\u001b[0m \u001b[38;5;66;03m# We aim to keep this file minimal and ideally remove completely.\u001b[39;00m\n\u001b[1;32m     30\u001b[0m \u001b[38;5;66;03m# If you are adding a new file with @tf_export decorators,\u001b[39;00m\n\u001b[1;32m     31\u001b[0m \u001b[38;5;66;03m# import it in modules_with_exports.py instead.\u001b[39;00m\n\u001b[1;32m     32\u001b[0m \n\u001b[1;32m     33\u001b[0m \u001b[38;5;66;03m# go/tf-wildcard-import\u001b[39;00m\n\u001b[1;32m     34\u001b[0m \u001b[38;5;66;03m# pylint: disable=wildcard-import,g-bad-import-order,g-import-not-at-top\u001b[39;00m\n\u001b[1;32m     36\u001b[0m \u001b[38;5;28;01mfrom\u001b[39;00m \u001b[38;5;21;01mtensorflow\u001b[39;00m\u001b[38;5;21;01m.\u001b[39;00m\u001b[38;5;21;01mpython\u001b[39;00m \u001b[38;5;28;01mimport\u001b[39;00m pywrap_tensorflow \u001b[38;5;28;01mas\u001b[39;00m _pywrap_tensorflow\n\u001b[0;32m---> 37\u001b[0m \u001b[38;5;28;01mfrom\u001b[39;00m \u001b[38;5;21;01mtensorflow\u001b[39;00m\u001b[38;5;21;01m.\u001b[39;00m\u001b[38;5;21;01mpython\u001b[39;00m\u001b[38;5;21;01m.\u001b[39;00m\u001b[38;5;21;01meager\u001b[39;00m \u001b[38;5;28;01mimport\u001b[39;00m context\n\u001b[1;32m     39\u001b[0m \u001b[38;5;66;03m# pylint: enable=wildcard-import\u001b[39;00m\n\u001b[1;32m     40\u001b[0m \n\u001b[1;32m     41\u001b[0m \u001b[38;5;66;03m# Bring in subpackages.\u001b[39;00m\n\u001b[1;32m     42\u001b[0m \u001b[38;5;28;01mfrom\u001b[39;00m \u001b[38;5;21;01mtensorflow\u001b[39;00m\u001b[38;5;21;01m.\u001b[39;00m\u001b[38;5;21;01mpython\u001b[39;00m \u001b[38;5;28;01mimport\u001b[39;00m data\n",
      "File \u001b[0;32m~/miniforge3/envs/ashcat/lib/python3.10/site-packages/tensorflow/python/eager/context.py:32\u001b[0m\n\u001b[1;32m     30\u001b[0m \u001b[38;5;28;01mfrom\u001b[39;00m \u001b[38;5;21;01mtensorflow\u001b[39;00m\u001b[38;5;21;01m.\u001b[39;00m\u001b[38;5;21;01mcore\u001b[39;00m\u001b[38;5;21;01m.\u001b[39;00m\u001b[38;5;21;01mprotobuf\u001b[39;00m \u001b[38;5;28;01mimport\u001b[39;00m coordination_config_pb2\n\u001b[1;32m     31\u001b[0m \u001b[38;5;28;01mfrom\u001b[39;00m \u001b[38;5;21;01mtensorflow\u001b[39;00m\u001b[38;5;21;01m.\u001b[39;00m\u001b[38;5;21;01mcore\u001b[39;00m\u001b[38;5;21;01m.\u001b[39;00m\u001b[38;5;21;01mprotobuf\u001b[39;00m \u001b[38;5;28;01mimport\u001b[39;00m rewriter_config_pb2\n\u001b[0;32m---> 32\u001b[0m \u001b[38;5;28;01mfrom\u001b[39;00m \u001b[38;5;21;01mtensorflow\u001b[39;00m\u001b[38;5;21;01m.\u001b[39;00m\u001b[38;5;21;01mpython\u001b[39;00m \u001b[38;5;28;01mimport\u001b[39;00m pywrap_tfe\n\u001b[1;32m     33\u001b[0m \u001b[38;5;28;01mfrom\u001b[39;00m \u001b[38;5;21;01mtensorflow\u001b[39;00m\u001b[38;5;21;01m.\u001b[39;00m\u001b[38;5;21;01mpython\u001b[39;00m \u001b[38;5;28;01mimport\u001b[39;00m tf2\n\u001b[1;32m     34\u001b[0m \u001b[38;5;28;01mfrom\u001b[39;00m \u001b[38;5;21;01mtensorflow\u001b[39;00m\u001b[38;5;21;01m.\u001b[39;00m\u001b[38;5;21;01mpython\u001b[39;00m\u001b[38;5;21;01m.\u001b[39;00m\u001b[38;5;21;01mclient\u001b[39;00m \u001b[38;5;28;01mimport\u001b[39;00m pywrap_tf_session\n",
      "File \u001b[0;32m~/miniforge3/envs/ashcat/lib/python3.10/site-packages/tensorflow/python/pywrap_tfe.py:25\u001b[0m\n\u001b[1;32m     23\u001b[0m \u001b[38;5;66;03m# pylint: disable=invalid-import-order,g-bad-import-order, wildcard-import, unused-import\u001b[39;00m\n\u001b[1;32m     24\u001b[0m \u001b[38;5;28;01mfrom\u001b[39;00m \u001b[38;5;21;01mtensorflow\u001b[39;00m\u001b[38;5;21;01m.\u001b[39;00m\u001b[38;5;21;01mpython\u001b[39;00m \u001b[38;5;28;01mimport\u001b[39;00m pywrap_tensorflow\n\u001b[0;32m---> 25\u001b[0m \u001b[38;5;28;01mfrom\u001b[39;00m \u001b[38;5;21;01mtensorflow\u001b[39;00m\u001b[38;5;21;01m.\u001b[39;00m\u001b[38;5;21;01mpython\u001b[39;00m\u001b[38;5;21;01m.\u001b[39;00m\u001b[38;5;21;01m_pywrap_tfe\u001b[39;00m \u001b[38;5;28;01mimport\u001b[39;00m \u001b[38;5;241m*\u001b[39m\n",
      "\u001b[0;31mImportError\u001b[0m: dlopen(/Users/eduard/miniforge3/envs/ashcat/lib/python3.10/site-packages/tensorflow/python/_pywrap_tfe.so, 0x0002): Library not loaded: @rpath/_pywrap_tensorflow_internal.so\n  Referenced from: <8D026FA6-8C90-35B6-A92D-0886A4817B92> /Users/eduard/miniforge3/envs/ashcat/lib/python3.10/site-packages/tensorflow/python/_pywrap_tfe.so\n  Reason: tried: '/Users/eduard/miniforge3/envs/ashcat/lib/python3.10/site-packages/tensorflow/python/../../_solib_darwin_arm64/_U_S_Stensorflow_Clibtensorflow_Uframework_Uimport_Ulib___Utensorflow/_pywrap_tensorflow_internal.so' (no such file), '/Users/eduard/miniforge3/envs/ashcat/lib/python3.10/site-packages/tensorflow/python/../../_solib_darwin_arm64/_U_S_Stensorflow_Spython_C_Upywrap_Utensorflow_Uinternal_Umacos___Utensorflow_Spython/_pywrap_tensorflow_internal.so' (no such file), '/Users/eduard/miniforge3/envs/ashcat/lib/python3.10/site-packages/tensorflow/python/_pywrap_tensorflow_internal.so' (no such file), '/Users/eduard/miniforge3/envs/ashcat/lib/python3.10/site-packages/tensorflow/python/../_pywrap_tensorflow_internal.so' (no such file), '/Users/eduard/miniforge3/envs/ashcat/lib/python3.10/site-packages/tensorflow/python/../../../../_pywrap_tensorflow_internal.so' (no such file), '/Users/eduard/miniforge3/envs/ashcat/lib/python3.10/site-packages/tensorflow/python/../../_solib_darwin_arm64/_U_S_Stensorflow_Clibtensorflow_Uframework_Uimport_Ulib___Utensorflow/_pywrap_tensorflow_internal.so' (no such file), '/Users/eduard/miniforge3/envs/ashcat/lib/python3.10/site-packages/tensorflow/python/../../_solib_darwin_arm64/_U_S_Stensorflow_Spython_C_Upywrap_Utensorflow_Uinternal_Umacos___Utensorflow_Spython/_pywrap_tensorflow_internal.so' (no such file), '/Users/eduard/miniforge3/envs/ashcat/lib/python3.10/site-packages/tensorflow/python/_pywrap_tensorflow_internal.so' (no such file), '/Users/eduard/miniforge3/envs/ashcat/lib/python3.10/site-packages/tensorflow/python/../_pywrap_tensorflow_internal.so' (no such file), '/Users/eduard/miniforge3/envs/ashcat/lib/python3.10/site-packages/tensorflow/python/../../../../_pywrap_tensorflow_internal.so' (no such file), '/Users/eduard/miniforge3/envs/ashcat/bin/../lib/_pywrap_tensorflow_internal.so' (no such file), '/Users/eduard/miniforge3/envs/ashcat/bin/../lib/_pywrap_tensorflow_internal.so' (no such file), '/usr/local/lib/_pywrap_tensorflow_internal.so' (no such file), '/usr/lib/_pywrap_tensorflow_internal.so' (no such file, not in dyld cache)"
     ]
    }
   ],
   "source": [
    "import tensorflow as tf\n"
   ]
  },
  {
   "cell_type": "code",
   "execution_count": 1,
   "id": "4d079ec4",
   "metadata": {},
   "outputs": [
    {
     "ename": "RuntimeError",
     "evalue": "Backend is set as tensorflow.compat.v1, but 'tensorflow.compat.v1' failed to import.",
     "output_type": "error",
     "traceback": [
      "\u001b[0;31m---------------------------------------------------------------------------\u001b[0m",
      "\u001b[0;31mRuntimeError\u001b[0m                              Traceback (most recent call last)",
      "Cell \u001b[0;32mIn[1], line 1\u001b[0m\n\u001b[0;32m----> 1\u001b[0m \u001b[38;5;28;01mimport\u001b[39;00m \u001b[38;5;21;01mdeepxde\u001b[39;00m \u001b[38;5;28;01mas\u001b[39;00m \u001b[38;5;21;01mdde\u001b[39;00m\n\u001b[1;32m      2\u001b[0m \u001b[38;5;28;01mimport\u001b[39;00m \u001b[38;5;21;01mnumpy\u001b[39;00m \u001b[38;5;28;01mas\u001b[39;00m \u001b[38;5;21;01mnp\u001b[39;00m\n\u001b[1;32m      4\u001b[0m \u001b[38;5;28;01mdef\u001b[39;00m \u001b[38;5;21mfunc\u001b[39m(x):\n",
      "File \u001b[0;32m~/miniforge3/envs/ashcat/lib/python3.10/site-packages/deepxde/__init__.py:21\u001b[0m\n\u001b[1;32m     18\u001b[0m     __version__ \u001b[38;5;241m=\u001b[39m \u001b[38;5;124m\"\u001b[39m\u001b[38;5;124munknown version\u001b[39m\u001b[38;5;124m\"\u001b[39m\n\u001b[1;32m     20\u001b[0m \u001b[38;5;66;03m# Should import backend before importing anything else\u001b[39;00m\n\u001b[0;32m---> 21\u001b[0m \u001b[38;5;28;01mfrom\u001b[39;00m \u001b[38;5;21;01m.\u001b[39;00m \u001b[38;5;28;01mimport\u001b[39;00m backend\n\u001b[1;32m     23\u001b[0m \u001b[38;5;28;01mfrom\u001b[39;00m \u001b[38;5;21;01m.\u001b[39;00m \u001b[38;5;28;01mimport\u001b[39;00m callbacks\n\u001b[1;32m     24\u001b[0m \u001b[38;5;28;01mfrom\u001b[39;00m \u001b[38;5;21;01m.\u001b[39;00m \u001b[38;5;28;01mimport\u001b[39;00m data\n",
      "File \u001b[0;32m~/miniforge3/envs/ashcat/lib/python3.10/site-packages/deepxde/backend/__init__.py:130\u001b[0m\n\u001b[1;32m    126\u001b[0m     set_default_backend(\u001b[38;5;124m\"\u001b[39m\u001b[38;5;124mpaddle\u001b[39m\u001b[38;5;124m\"\u001b[39m)\n\u001b[1;32m    127\u001b[0m     \u001b[38;5;28;01mreturn\u001b[39;00m \u001b[38;5;124m\"\u001b[39m\u001b[38;5;124mpaddle\u001b[39m\u001b[38;5;124m\"\u001b[39m\n\u001b[0;32m--> 130\u001b[0m load_backend(\u001b[43mget_preferred_backend\u001b[49m\u001b[43m(\u001b[49m\u001b[43m)\u001b[49m)\n",
      "File \u001b[0;32m~/miniforge3/envs/ashcat/lib/python3.10/site-packages/deepxde/backend/__init__.py:110\u001b[0m, in \u001b[0;36mget_preferred_backend\u001b[0;34m()\u001b[0m\n\u001b[1;32m    108\u001b[0m         backend_name \u001b[38;5;241m=\u001b[39m config_dict\u001b[38;5;241m.\u001b[39mget(\u001b[38;5;124m\"\u001b[39m\u001b[38;5;124mbackend\u001b[39m\u001b[38;5;124m\"\u001b[39m, \u001b[38;5;124m\"\u001b[39m\u001b[38;5;124m\"\u001b[39m)\u001b[38;5;241m.\u001b[39mlower()\n\u001b[1;32m    109\u001b[0m \u001b[38;5;28;01mif\u001b[39;00m backend_name \u001b[38;5;129;01mis\u001b[39;00m \u001b[38;5;129;01mnot\u001b[39;00m \u001b[38;5;28;01mNone\u001b[39;00m:\n\u001b[0;32m--> 110\u001b[0m     \u001b[43mverify_backend\u001b[49m\u001b[43m(\u001b[49m\u001b[43mbackend_name\u001b[49m\u001b[43m)\u001b[49m\n\u001b[1;32m    111\u001b[0m     \u001b[38;5;28;01mreturn\u001b[39;00m backend_name\n\u001b[1;32m    112\u001b[0m \u001b[38;5;66;03m# No backend selected\u001b[39;00m\n",
      "File \u001b[0;32m~/miniforge3/envs/ashcat/lib/python3.10/site-packages/deepxde/backend/utils.py:78\u001b[0m, in \u001b[0;36mverify_backend\u001b[0;34m(backend_name)\u001b[0m\n\u001b[1;32m     73\u001b[0m     \u001b[38;5;28;01mraise\u001b[39;00m \u001b[38;5;167;01mNotImplementedError\u001b[39;00m(\n\u001b[1;32m     74\u001b[0m         \u001b[38;5;124mf\u001b[39m\u001b[38;5;124m\"\u001b[39m\u001b[38;5;124mUnsupported backend: \u001b[39m\u001b[38;5;132;01m{\u001b[39;00mbackend_name\u001b[38;5;132;01m}\u001b[39;00m\u001b[38;5;124m.\u001b[39m\u001b[38;5;130;01m\\n\u001b[39;00m\u001b[38;5;124m\"\u001b[39m\n\u001b[1;32m     75\u001b[0m         \u001b[38;5;124m\"\u001b[39m\u001b[38;5;124mPlease select backend from tensorflow.compat.v1, tensorflow, pytorch, jax or paddle.\u001b[39m\u001b[38;5;124m\"\u001b[39m\n\u001b[1;32m     76\u001b[0m     )\n\u001b[1;32m     77\u001b[0m \u001b[38;5;28;01mif\u001b[39;00m \u001b[38;5;129;01mnot\u001b[39;00m import_funcs[backend_name]():\n\u001b[0;32m---> 78\u001b[0m     \u001b[38;5;28;01mraise\u001b[39;00m \u001b[38;5;167;01mRuntimeError\u001b[39;00m(\n\u001b[1;32m     79\u001b[0m         \u001b[38;5;124mf\u001b[39m\u001b[38;5;124m\"\u001b[39m\u001b[38;5;124mBackend is set as \u001b[39m\u001b[38;5;132;01m{\u001b[39;00mbackend_name\u001b[38;5;132;01m}\u001b[39;00m\u001b[38;5;124m, but \u001b[39m\u001b[38;5;124m'\u001b[39m\u001b[38;5;132;01m{\u001b[39;00mbackend_name\u001b[38;5;132;01m}\u001b[39;00m\u001b[38;5;124m'\u001b[39m\u001b[38;5;124m failed to import.\u001b[39m\u001b[38;5;124m\"\u001b[39m\n\u001b[1;32m     80\u001b[0m     )\n",
      "\u001b[0;31mRuntimeError\u001b[0m: Backend is set as tensorflow.compat.v1, but 'tensorflow.compat.v1' failed to import."
     ]
    }
   ],
   "source": [
    "import deepxde as dde\n",
    "import numpy as np\n",
    "\n",
    "def func(x):\n",
    "    return x*np.sin(5*x)"
   ]
  },
  {
   "cell_type": "markdown",
   "id": "d2d02cd7",
   "metadata": {},
   "source": [
    "## 1. Definir la geometría del problema\n",
    "\n",
    "La geometría del problema se refiere a la regíon en la que se va a entrenar la red neuronal"
   ]
  },
  {
   "cell_type": "code",
   "execution_count": 2,
   "id": "79d3d14e",
   "metadata": {},
   "outputs": [],
   "source": [
    "geom = dde.geometry.Interval(-1, 1)"
   ]
  },
  {
   "cell_type": "markdown",
   "id": "84d7e6e6",
   "metadata": {},
   "source": [
    "## 2. Parametros del modelo de entrenamiento\n",
    "\n",
    "Vamos a utilizar el modelo para funciones:\n",
    "\n",
    "~~~python\n",
    "class deepxde.data.function.Function(geometry, \n",
    "                                     function, \n",
    "                                     num_train, \n",
    "                                     num_test, \n",
    "                                     train_distribution='uniform', \n",
    "                                     online=False)\n",
    "~~~\n",
    "                                    \n",
    "**train_distribution (string)**: The distribution to sample training points. One of the following: \n",
    "-    “uniform” (equispaced grid), \n",
    "-    “pseudo” (pseudorandom), \n",
    "-    “LHS” (Latin hypercube sampling), \n",
    "-    “Halton” (Halton sequence), \n",
    "-    “Hammersley” (Hammersley sequence), or \n",
    "-    “Sobol” (Sobol sequence).\n",
    "\n",
    "\n",
    "**online (bool)**: If True, resample the pseudorandom training points every training step, otherwise, use the same training points."
   ]
  },
  {
   "cell_type": "code",
   "execution_count": 3,
   "id": "9c5a6c3f",
   "metadata": {},
   "outputs": [],
   "source": [
    "num_train = 10\n",
    "num_test = 1000\n",
    "data = dde.data.Function(geom, func, num_train, num_test, train_distribution='uniform', online=False)"
   ]
  },
  {
   "cell_type": "markdown",
   "id": "77fdb202",
   "metadata": {},
   "source": [
    "## 3. Definir la red Neuronal\n",
    "\n",
    "Vamos a utilizar una **Fully-connected neural network**. Existe la **Parallel fully-connected neural network** que usa una sub red para cada salida. \n",
    "\n",
    "~~~python\n",
    "class deepxde.nn.tensorflow.fnn.FNN(layer_sizes, activation, \n",
    "                                    kernel_initializer, \n",
    "                                    regularization=None, \n",
    "                                    dropout_rate=0)\n",
    "~~~\n",
    "Existen muchas funciones de activación, inicializadores y reguladores. Se pueden usar los que vienen hechos por defecto en el back-end que estamos utilizando, en este caso **TensorFlow**. Dejo donde revisar las diferentes opciones\n",
    "\n",
    "- **Funciones de Activación:** https://www.tensorflow.org/api_docs/python/tf/keras/activations\n",
    "- **Inicializadores:** https://www.tensorflow.org/api_docs/python/tf/keras/initializers\n",
    "- **Reguladores:** https://www.tensorflow.org/api_docs/python/tf/keras/regularizers\n"
   ]
  },
  {
   "cell_type": "code",
   "execution_count": 4,
   "id": "c8da1ff5",
   "metadata": {},
   "outputs": [],
   "source": [
    "activation = \"tanh\"\n",
    "initializer = \"Glorot uniform\"\n",
    "net = dde.nn.FNN([1] + [20] * 3 + [1], activation, initializer)"
   ]
  },
  {
   "cell_type": "markdown",
   "id": "e8777cf9",
   "metadata": {},
   "source": [
    "## 4. Compilar y entrenar el modelo\n",
    "\n",
    "DeepXDE tiene una función que se encarga de compilar el modelo con el optimizador, learnign rate, métricas y estrategias de entrenamiento que queramos. Nuevamente, hay muchas opciones disponibles. \n",
    "\n",
    "~~~python\n",
    "class deepxde.model.Model.compile(optimizer, \n",
    "                                  lr=None, \n",
    "                                  loss='MSE', \n",
    "                                  metrics=None, \n",
    "                                  decay=None, \n",
    "                                  loss_weights=None, \n",
    "                                  external_trainable_variables=None)\n",
    "~~~\n",
    "\n",
    "~~~python\n",
    "class deepxde.model.Model.train(iterations=None, \n",
    "                                batch_size=None, \n",
    "                                display_every=1000, \n",
    "                                disregard_previous_best=False, \n",
    "                                callbacks=None, \n",
    "                                model_restore_path=None, \n",
    "                                model_save_path=None, \n",
    "                                epochs=None)\n",
    "~~~\n",
    "\n",
    "La descripción de los parámetros la pueden encontrar en https://deepxde.readthedocs.io/en/latest/modules/deepxde.html?highlight=deepxde.model#module-deepxde.model. "
   ]
  },
  {
   "cell_type": "code",
   "execution_count": 5,
   "id": "32432a63",
   "metadata": {},
   "outputs": [
    {
     "name": "stdout",
     "output_type": "stream",
     "text": [
      "Compiling model...\n",
      "Building feed-forward neural network...\n",
      "'build' took 0.065634 s\n",
      "\n",
      "'compile' took 0.159607 s\n",
      "\n",
      "Initializing variables...\n"
     ]
    },
    {
     "name": "stderr",
     "output_type": "stream",
     "text": [
      "/home/wind/.local/lib/python3.10/site-packages/deepxde/nn/tensorflow_compat_v1/fnn.py:103: UserWarning: `tf.layers.dense` is deprecated and will be removed in a future version. Please use `tf.keras.layers.Dense` instead.\n",
      "  return tf.layers.dense(\n",
      "2022-10-19 11:04:25.897839: I tensorflow/core/platform/cpu_feature_guard.cc:193] This TensorFlow binary is optimized with oneAPI Deep Neural Network Library (oneDNN) to use the following CPU instructions in performance-critical operations:  AVX2 AVX512F AVX512_VNNI FMA\n",
      "To enable them in other operations, rebuild TensorFlow with the appropriate compiler flags.\n",
      "2022-10-19 11:04:25.995285: I tensorflow/compiler/mlir/mlir_graph_optimization_pass.cc:354] MLIR V1 optimization pass is not enabled\n"
     ]
    },
    {
     "name": "stdout",
     "output_type": "stream",
     "text": [
      "Training model...\n",
      "\n",
      "Step      Train loss    Test loss     Test metric   \n",
      "0         [2.90e-01]    [2.18e-01]    [1.04e+00]    \n",
      "1000      [1.04e-05]    [6.71e-04]    [5.76e-02]    \n",
      "2000      [8.77e-09]    [6.87e-04]    [5.83e-02]    \n",
      "3000      [3.11e-08]    [6.88e-04]    [5.83e-02]    \n",
      "4000      [3.92e-07]    [6.90e-04]    [5.84e-02]    \n",
      "5000      [4.62e-08]    [6.84e-04]    [5.81e-02]    \n",
      "6000      [1.45e-06]    [6.96e-04]    [5.86e-02]    \n",
      "7000      [6.67e-10]    [6.84e-04]    [5.81e-02]    \n",
      "8000      [5.92e-09]    [6.83e-04]    [5.81e-02]    \n",
      "9000      [1.27e-08]    [6.84e-04]    [5.81e-02]    \n",
      "10000     [3.65e-06]    [6.76e-04]    [5.78e-02]    \n",
      "\n",
      "Best model at step 7000:\n",
      "  train loss: 6.67e-10\n",
      "  test loss: 6.84e-04\n",
      "  test metric: [5.81e-02]\n",
      "\n",
      "'train' took 3.057005 s\n",
      "\n"
     ]
    }
   ],
   "source": [
    "model = dde.Model(data, net)\n",
    "model.compile(\"adam\", lr=0.001, metrics=[\"l2 relative error\"])\n",
    "losshistory, train_state = model.train(iterations=10000)"
   ]
  },
  {
   "cell_type": "markdown",
   "id": "c5b5ae9f",
   "metadata": {},
   "source": [
    "## 5. Visualizar los resultados"
   ]
  },
  {
   "cell_type": "code",
   "execution_count": 6,
   "id": "20c652d7",
   "metadata": {},
   "outputs": [
    {
     "data": {
      "image/png": "[encoded data removed]",
      "text/plain": [
       "<Figure size 432x288 with 1 Axes>"
      ]
     },
     "metadata": {
      "needs_background": "light"
     },
     "output_type": "display_data"
    },
    {
     "data": {
      "image/png": "[encoded data removed]",
      "text/plain": [
       "<Figure size 432x288 with 1 Axes>"
      ]
     },
     "metadata": {
      "needs_background": "light"
     },
     "output_type": "display_data"
    }
   ],
   "source": [
    "dde.saveplot(losshistory, train_state, issave=False, isplot=True)"
   ]
  },
  {
   "cell_type": "code",
   "execution_count": null,
   "id": "950f29a4",
   "metadata": {},
   "outputs": [],
   "source": []
  }
 ],
 "metadata": {
  "kernelspec": {
   "display_name": "Python 3 (ipykernel)",
   "language": "python",
   "name": "python3"
  },
  "language_info": {
   "codemirror_mode": {
    "name": "ipython",
    "version": 3
   },
   "file_extension": ".py",
   "mimetype": "text/x-python",
   "name": "python",
   "nbconvert_exporter": "python",
   "pygments_lexer": "ipython3",
   "version": "3.10.9"
  }
 },
 "nbformat": 4,
 "nbformat_minor": 5
}
