{
 "cells": [
  {
   "cell_type": "markdown",
   "id": "048ba900",
   "metadata": {},
   "source": [
    "![Semillero Astrofisica](../logo.PNG)"
   ]
  },
  {
   "cell_type": "markdown",
   "id": "97f86b68",
   "metadata": {},
   "source": [
    "---\n",
    "# Ecuaciones Diferenciales Ordinarias: Introducción \n",
    "\n",
    "\n",
    "Carlos Andrés del Valle (cdelv@unal.edu.co)\n",
    "\n",
    "---"
   ]
  },
  {
   "cell_type": "markdown",
   "id": "ee892b33",
   "metadata": {},
   "source": [
    "Vamos a resolver la ecuación\n",
    "\n",
    "\\begin{equation}\n",
    "    y^{\\prime\\prime}(t)-2y^\\prime(t)+10y(t)=0\n",
    "\\end{equation}\n",
    "\n",
    "Con las condiciones iniciales y de frontera\n",
    "\\begin{equation}\n",
    "    y(t)=-2; \\qquad y^\\prime(t)=1\n",
    "\\end{equation}\n",
    "\n",
    "La solución analítica es \n",
    "\\begin{equation}\n",
    "    y(t)=e^t\\left(\\sin{(3t)}-2\\cos{(3t)}\\right)\n",
    "\\end{equation}"
   ]
  },
  {
   "cell_type": "code",
   "execution_count": 1,
   "id": "97f020ec",
   "metadata": {},
   "outputs": [
    {
     "name": "stderr",
     "output_type": "stream",
     "text": [
      "Using backend: tensorflow.compat.v1\n",
      "\n",
      "2022-10-20 22:27:43.378539: I tensorflow/core/util/util.cc:169] oneDNN custom operations are on. You may see slightly different numerical results due to floating-point round-off errors from different computation orders. To turn them off, set the environment variable `TF_ENABLE_ONEDNN_OPTS=0`.\n",
      "2022-10-20 22:27:43.382131: W tensorflow/stream_executor/platform/default/dso_loader.cc:64] Could not load dynamic library 'libcudart.so.11.0'; dlerror: libcudart.so.11.0: cannot open shared object file: No such file or directory\n",
      "2022-10-20 22:27:43.382143: I tensorflow/stream_executor/cuda/cudart_stub.cc:29] Ignore above cudart dlerror if you do not have a GPU set up on your machine.\n"
     ]
    },
    {
     "name": "stdout",
     "output_type": "stream",
     "text": [
      "WARNING:tensorflow:From /home/wind/.local/lib/python3.10/site-packages/tensorflow/python/compat/v2_compat.py:107: disable_resource_variables (from tensorflow.python.ops.variable_scope) is deprecated and will be removed in a future version.\n",
      "Instructions for updating:\n",
      "non-resource variables are not supported in the long term\n"
     ]
    },
    {
     "name": "stderr",
     "output_type": "stream",
     "text": [
      "2022-10-20 22:27:44.491912: E tensorflow/stream_executor/cuda/cuda_driver.cc:271] failed call to cuInit: CUDA_ERROR_NO_DEVICE: no CUDA-capable device is detected\n",
      "2022-10-20 22:27:44.491982: I tensorflow/stream_executor/cuda/cuda_diagnostics.cc:156] kernel driver does not appear to be running on this host (pop-os): /proc/driver/nvidia/version does not exist\n"
     ]
    },
    {
     "name": "stdout",
     "output_type": "stream",
     "text": [
      "WARNING:tensorflow:From /home/wind/.local/lib/python3.10/site-packages/deepxde/nn/initializers.py:118: The name tf.keras.initializers.he_normal is deprecated. Please use tf.compat.v1.keras.initializers.he_normal instead.\n",
      "\n"
     ]
    }
   ],
   "source": [
    "import deepxde as dde\n",
    "import numpy as np\n",
    "\n",
    "#Usar doble precisión si la GPU lo soporta. Float32 por defecto.\n",
    "dde.config.real.set_float64()\n",
    "\n",
    "def func(t):\n",
    "    return np.exp(t)*(np.sin(3*t)-2*np.cos(3*t))"
   ]
  },
  {
   "cell_type": "markdown",
   "id": "a279cfaf",
   "metadata": {},
   "source": [
    "## 1. Definir la Ecuación a Resolver"
   ]
  },
  {
   "cell_type": "code",
   "execution_count": 2,
   "id": "bb59d13f",
   "metadata": {},
   "outputs": [],
   "source": [
    "# Ecuación diferencial a resolver\n",
    "# t es el vector de coordenadas que entra a la red, en este caso el tiempo\n",
    "# y es el output de la red neuronal \n",
    "def ode(t, y):\n",
    "    dy_dt = dde.grad.jacobian(y, t)\n",
    "    d2y_dt2 = dde.grad.hessian(y, t)\n",
    "    return d2y_dt2 - 2*dy_dt + 10*y"
   ]
  },
  {
   "cell_type": "markdown",
   "id": "3c56bfb3",
   "metadata": {},
   "source": [
    "## 2. Definir Dominio de la Ecuación\n",
    "\n",
    "Como tenemos solo dependencia temporal, podemos aprovechar el dominio TimeDomain\n",
    "\n",
    "~~~python\n",
    "class deepxde.geometry.timedomain.TimeDomain(t0, t1)\n",
    "~~~\n",
    "\n",
    "Esta clase de dominio crea el booleano para definir las coondiciones iniciales\n",
    "\n",
    "~~~pyhton\n",
    "on_initial(t)\n",
    "~~~"
   ]
  },
  {
   "cell_type": "code",
   "execution_count": 3,
   "id": "8045b9ec",
   "metadata": {},
   "outputs": [],
   "source": [
    "geom = dde.geometry.TimeDomain(0, 3)"
   ]
  },
  {
   "cell_type": "markdown",
   "id": "2632156a",
   "metadata": {},
   "source": [
    "## 3. Definir Condiciones Iniciales y de Frontera\n",
    "\n",
    "Como estamos resolviendo una ODE, entonces solo tenemos dos condiciones iniciales: $y(0)=-1$;  $y^\\prime(0)=0$. Para la condición inicial en la variable:\n",
    "\n",
    "~~~python\n",
    "class deepxde.icbc.initial_conditions.IC(geom, \n",
    "                                         func, \n",
    "                                         on_initial, \n",
    "                                         component=0)\n",
    "~~~\n",
    "\n",
    "Initial conditions: y([x, t0]) = func([x, t0]). Para la condición sobre la derivada:\n",
    "\n",
    "~~~python\n",
    "class deepxde.icbc.boundary_conditions.OperatorBC(geom, \n",
    "                                                  func, \n",
    "                                                  on_boundary)\n",
    "~~~\n",
    "\n",
    "General operator boundary conditions: func(inputs, outputs, X) = 0. \n",
    "\n",
    "- **func:** A function takes arguments (inputs, outputs, X) and outputs a tensor of size N x 1, where N is the length of inputs. inputs and outputs are the network input and output tensors, respectively; X are the NumPy array of the inputs.\n",
    "\n",
    "Ver detalles en https://deepxde.readthedocs.io/en/latest/modules/deepxde.icbc.html?highlight=boundary_conditions.OperatorBC#deepxde.icbc.boundary_conditions.OperatorBC"
   ]
  },
  {
   "cell_type": "code",
   "execution_count": 4,
   "id": "47ef2a1f",
   "metadata": {},
   "outputs": [],
   "source": [
    "def in_bdr(X, on_initial):\n",
    "    return on_initial and np.isclose(X[0], 0)\n",
    "\n",
    "def IC_1(inputs):\n",
    "    return -2\n",
    "\n",
    "def IC_2(inputs, outputs, X):\n",
    "    return dde.grad.jacobian(outputs, inputs) - 1 #=0 #se define igual que la ecuación\n",
    "\n",
    "Ic1 = dde.icbc.IC(        geom, IC_1, in_bdr)\n",
    "Ic2 = dde.icbc.OperatorBC(geom, IC_2, in_bdr)"
   ]
  },
  {
   "cell_type": "markdown",
   "id": "9ac18d3d",
   "metadata": {},
   "source": [
    "## 4. Crear Datos de Entrenamiento\n",
    "\n",
    "vamos a crear los datos de entrenamiento\n",
    "\n",
    "~~~python\n",
    "class deepxde.data.pde.TimePDE(geometryxtime, \n",
    "                               pde, \n",
    "                               ic_bcs, \n",
    "                               num_domain=0, \n",
    "                               num_boundary=0, \n",
    "                               num_initial=0, \n",
    "                               train_distribution='Hammersley', \n",
    "                               anchors=None, \n",
    "                               exclusions=None, \n",
    "                               solution=None, \n",
    "                               num_test=None, \n",
    "                               auxiliary_var_function=None\n",
    "~~~\n",
    "\n",
    "Detalles en https://deepxde.readthedocs.io/en/latest/modules/deepxde.data.html?highlight=data.TimePDE#deepxde.data.pde.TimePDE. "
   ]
  },
  {
   "cell_type": "code",
   "execution_count": 5,
   "id": "f93f54e0",
   "metadata": {},
   "outputs": [],
   "source": [
    "data = dde.data.TimePDE(geom, ode, [Ic1, Ic2], 62, 4, solution=func, num_test=100)"
   ]
  },
  {
   "cell_type": "markdown",
   "id": "a496a084",
   "metadata": {},
   "source": [
    "## 5. Crear la Red Neuronal\n",
    "\n",
    "Vamos a utilizar una **Fully-connected neural network**. Existe la **Parallel fully-connected neural network** que usa una subred para cada salida. \n",
    "\n",
    "~~~python\n",
    "class deepxde.nn.tensorflow.fnn.FNN(layer_sizes, activation, \n",
    "                                    kernel_initializer, \n",
    "                                    regularization=None, \n",
    "                                    dropout_rate=0)\n",
    "~~~\n",
    "Existen muchas funciones de activación, inicializadores y reguladores. Se pueden usar los que vienen hechos por defecto en el back-end que estamos utilizando, en este caso **TensorFlow**. Dejo donde revisar las diferentes opciones\n",
    "\n",
    "- **Funciones de Activación:** https://www.tensorflow.org/api_docs/python/tf/keras/activations\n",
    "- **Inicializadores:** https://www.tensorflow.org/api_docs/python/tf/keras/initializers\n",
    "- **Reguladores:** https://www.tensorflow.org/api_docs/python/tf/keras/regularizers"
   ]
  },
  {
   "cell_type": "code",
   "execution_count": 6,
   "id": "ef8f28d0",
   "metadata": {},
   "outputs": [],
   "source": [
    "layer_size = [1] + [30]*3 + [1]\n",
    "activation = \"tanh\"\n",
    "initializer = \"Glorot uniform\"\n",
    "net = dde.nn.FNN(layer_size, activation, initializer)"
   ]
  },
  {
   "cell_type": "markdown",
   "id": "010a9de7",
   "metadata": {},
   "source": [
    "## 6. Compilar y Entrenar el Modelo\n",
    "\n",
    "DeepXDE tiene una función que se encarga de compilar el modelo con el optimizador, learnign rate, métricas y estrategias de entrenamiento que queramos. Nuevamente, hay muchas opciones disponibles. \n",
    "\n",
    "~~~python\n",
    "class deepxde.model.Model.compile(optimizer, \n",
    "                                  lr=None, \n",
    "                                  loss='MSE', \n",
    "                                  metrics=None, \n",
    "                                  decay=None, \n",
    "                                  loss_weights=None, \n",
    "                                  external_trainable_variables=None)\n",
    "~~~\n",
    "\n",
    "~~~python\n",
    "class deepxde.model.Model.train(iterations=None, \n",
    "                                batch_size=None, \n",
    "                                display_every=1000, \n",
    "                                disregard_previous_best=False, \n",
    "                                callbacks=None, \n",
    "                                model_restore_path=None, \n",
    "                                model_save_path=None, \n",
    "                                epochs=None)\n",
    "~~~\n",
    "\n",
    "La descripción de los parámetros la pueden encontrar en https://deepxde.readthedocs.io/en/latest/modules/deepxde.html?highlight=deepxde.model#module-deepxde.model. "
   ]
  },
  {
   "cell_type": "code",
   "execution_count": 7,
   "id": "bf13aaaf",
   "metadata": {},
   "outputs": [
    {
     "name": "stdout",
     "output_type": "stream",
     "text": [
      "Compiling model...\n",
      "Building feed-forward neural network...\n",
      "'build' took 0.034190 s\n",
      "\n"
     ]
    },
    {
     "name": "stderr",
     "output_type": "stream",
     "text": [
      "/home/wind/.local/lib/python3.10/site-packages/deepxde/nn/tensorflow_compat_v1/fnn.py:103: UserWarning: `tf.layers.dense` is deprecated and will be removed in a future version. Please use `tf.keras.layers.Dense` instead.\n",
      "  return tf.layers.dense(\n",
      "2022-10-20 22:27:45.833229: I tensorflow/core/platform/cpu_feature_guard.cc:193] This TensorFlow binary is optimized with oneAPI Deep Neural Network Library (oneDNN) to use the following CPU instructions in performance-critical operations:  AVX2 AVX512F AVX512_VNNI FMA\n",
      "To enable them in other operations, rebuild TensorFlow with the appropriate compiler flags.\n"
     ]
    },
    {
     "name": "stdout",
     "output_type": "stream",
     "text": [
      "'compile' took 0.258018 s\n",
      "\n",
      "Initializing variables...\n",
      "Training model...\n",
      "\n",
      "Step      Train loss                        Test loss                         Test metric   \n",
      "0         [3.07e-02, 4.00e+00, 1.24e+00]    [3.26e-02, 4.00e+00, 1.24e+00]    [1.00e+00]    \n"
     ]
    },
    {
     "name": "stderr",
     "output_type": "stream",
     "text": [
      "2022-10-20 22:27:46.062253: I tensorflow/compiler/mlir/mlir_graph_optimization_pass.cc:354] MLIR V1 optimization pass is not enabled\n"
     ]
    },
    {
     "name": "stdout",
     "output_type": "stream",
     "text": [
      "1000      [4.25e-01, 5.48e-02, 2.04e-04]    [4.45e-01, 5.48e-02, 2.04e-04]    [1.00e+00]    \n",
      "2000      [4.13e-01, 5.14e-02, 1.74e-04]    [4.35e-01, 5.14e-02, 1.74e-04]    [9.90e-01]    \n",
      "3000      [3.65e-01, 4.39e-02, 5.86e-04]    [3.85e-01, 4.39e-02, 5.86e-04]    [9.33e-01]    \n",
      "4000      [2.05e-01, 2.55e-02, 3.75e-04]    [2.20e-01, 2.55e-02, 3.75e-04]    [7.00e-01]    \n",
      "5000      [1.14e-01, 1.39e-02, 4.73e-05]    [1.26e-01, 1.39e-02, 4.73e-05]    [5.18e-01]    \n",
      "6000      [6.12e-02, 7.59e-03, 3.66e-05]    [7.16e-02, 7.59e-03, 3.66e-05]    [3.76e-01]    \n",
      "7000      [3.19e-02, 4.29e-03, 5.02e-05]    [4.10e-02, 4.29e-03, 5.02e-05]    [2.67e-01]    \n",
      "\n",
      "Best model at step 7000:\n",
      "  train loss: 3.62e-02\n",
      "  test loss: 4.53e-02\n",
      "  test metric: [2.67e-01]\n",
      "\n",
      "'train' took 4.780908 s\n",
      "\n"
     ]
    }
   ],
   "source": [
    "# Modelo\n",
    "model = dde.Model(data, net)\n",
    "\n",
    "# Optimizador Adam\n",
    "model.compile(\"adam\", lr=.001, loss_weights=[0.01, 1, 1], metrics=[\"l2 relative error\"])\n",
    "losshistory, train_state = model.train(iterations=7000)"
   ]
  },
  {
   "cell_type": "markdown",
   "id": "01b2632b",
   "metadata": {},
   "source": [
    "## 7. Visualizar la Solución"
   ]
  },
  {
   "cell_type": "code",
   "execution_count": 8,
   "id": "361c200a",
   "metadata": {},
   "outputs": [
    {
     "data": {
      "image/png": "[encoded data removed]",
      "text/plain": [
       "<Figure size 432x288 with 1 Axes>"
      ]
     },
     "metadata": {
      "needs_background": "light"
     },
     "output_type": "display_data"
    },
    {
     "data": {
      "image/png": "[encoded data removed]",
      "text/plain": [
       "<Figure size 432x288 with 1 Axes>"
      ]
     },
     "metadata": {
      "needs_background": "light"
     },
     "output_type": "display_data"
    }
   ],
   "source": [
    "dde.saveplot(losshistory, train_state, issave=False, isplot=True) "
   ]
  },
  {
   "cell_type": "markdown",
   "id": "f5cc635e",
   "metadata": {},
   "source": [
    "## 8. Mejorar la predicción\n",
    "\n",
    "Vamos a usar un optimizador de segundo orden que ayuda mucho a la convergencia de la solución. Para cambiar los parámetros del optimizador **LBFGS**\n",
    "\n",
    "~~~\n",
    "dde.optimizers.set_LBFGS_options\n",
    "~~~\n",
    "\n",
    "Estas opciones son\n",
    "\n",
    "~~~python\n",
    "deepxde.optimizers.config.set_LBFGS_options(maxcor=100, \n",
    "                                            ftol=0, \n",
    "                                            gtol=1e-08, \n",
    "                                            maxiter=15000, \n",
    "                                            maxfun=None, \n",
    "                                            maxls=50)\n",
    "~~~\n",
    "\n",
    "y se pueden encontrar en https://deepxde.readthedocs.io/en/latest/modules/deepxde.optimizers.html?highlight=optimizers.set_LBFGS_options#deepxde.optimizers.config.set_LBFGS_options\n",
    "\n",
    "Este optimizador no permite que se hagan tests a medida que se entrena la red."
   ]
  },
  {
   "cell_type": "code",
   "execution_count": 9,
   "id": "0a6b40c8",
   "metadata": {},
   "outputs": [
    {
     "name": "stdout",
     "output_type": "stream",
     "text": [
      "Compiling model...\n",
      "'compile' took 0.117511 s\n",
      "\n",
      "Training model...\n",
      "\n",
      "Step      Train loss                        Test loss                         Test metric\n",
      "7000      [3.19e+00, 4.29e-03, 5.02e-05]    [4.10e+00, 4.29e-03, 5.02e-05]    []  \n",
      "8000      [8.16e-04, 3.66e-07, 2.85e-06]                                          \n",
      "INFO:tensorflow:Optimization terminated with:\n",
      "  Message: STOP: TOTAL NO. of ITERATIONS REACHED LIMIT\n",
      "  Objective function value: 0.000555\n",
      "  Number of iterations: 1000\n",
      "  Number of functions evaluations: 1111\n",
      "8111      [5.48e-04, 5.86e-06, 1.48e-06]    [8.18e-01, 5.86e-06, 1.48e-06]    []  \n",
      "\n",
      "Best model at step 8111:\n",
      "  train loss: 5.55e-04\n",
      "  test loss: 8.18e-01\n",
      "  test metric: []\n",
      "\n",
      "'train' took 3.054542 s\n",
      "\n"
     ]
    }
   ],
   "source": [
    "# Optimizador L-BFGS-B\n",
    "dde.optimizers.config.set_LBFGS_options(maxiter=1000)\n",
    "model.compile(\"L-BFGS-B\")\n",
    "losshistory, train_state = model.train()"
   ]
  },
  {
   "cell_type": "code",
   "execution_count": 10,
   "id": "3818829f",
   "metadata": {},
   "outputs": [
    {
     "data": {
      "image/png": "[encoded data removed]",
      "text/plain": [
       "<Figure size 432x288 with 1 Axes>"
      ]
     },
     "metadata": {
      "needs_background": "light"
     },
     "output_type": "display_data"
    }
   ],
   "source": [
    "dde.utils.external.plot_best_state(train_state)"
   ]
  },
  {
   "cell_type": "code",
   "execution_count": 11,
   "id": "00f62745",
   "metadata": {},
   "outputs": [],
   "source": [
    "#dde.utils.external.plot_loss_history(losshistory) #hay un bug y esto no está funcionando"
   ]
  }
 ],
 "metadata": {
  "kernelspec": {
   "display_name": "Python 3 (ipykernel)",
   "language": "python",
   "name": "python3"
  },
  "language_info": {
   "codemirror_mode": {
    "name": "ipython",
    "version": 3
   },
   "file_extension": ".py",
   "mimetype": "text/x-python",
   "name": "python",
   "nbconvert_exporter": "python",
   "pygments_lexer": "ipython3",
   "version": "3.10.6"
  }
 },
 "nbformat": 4,
 "nbformat_minor": 5
}
