{
 "cells": [
  {
   "cell_type": "markdown",
   "id": "b2457243",
   "metadata": {},
   "source": [
    "![Semillero Astrofisica](../logo.PNG)"
   ]
  },
  {
   "cell_type": "markdown",
   "id": "80c5151d",
   "metadata": {},
   "source": [
    "---\n",
    "# Ecuaciones Diferenciales Ordinarias: Introducción \n",
    "\n",
    "\n",
    "Carlos Andrés del Valle (cdelv@unal.edu.co)\n",
    "\n",
    "---"
   ]
  },
  {
   "cell_type": "markdown",
   "id": "14e69991",
   "metadata": {},
   "source": [
    "- ODE de 2 orden normal\n",
    "- ODE con términos de orden superior\n",
    "- Sistema de ODEs\n",
    "- ODE estocástica\n",
    "- ODE integrodiferencial\n",
    "- ODE cond de frontera\n",
    "\n",
    "- ODE inversa normal"
   ]
  },
  {
   "cell_type": "code",
   "execution_count": null,
   "id": "545c62c0",
   "metadata": {},
   "outputs": [],
   "source": []
  }
 ],
 "metadata": {
  "kernelspec": {
   "display_name": "Python 3 (ipykernel)",
   "language": "python",
   "name": "python3"
  },
  "language_info": {
   "codemirror_mode": {
    "name": "ipython",
    "version": 3
   },
   "file_extension": ".py",
   "mimetype": "text/x-python",
   "name": "python",
   "nbconvert_exporter": "python",
   "pygments_lexer": "ipython3",
   "version": "3.10.6"
  }
 },
 "nbformat": 4,
 "nbformat_minor": 5
}
