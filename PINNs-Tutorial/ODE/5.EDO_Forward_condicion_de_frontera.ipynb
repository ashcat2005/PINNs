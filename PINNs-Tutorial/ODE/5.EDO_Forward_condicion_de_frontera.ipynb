{
 "cells": [
  {
   "cell_type": "markdown",
   "metadata": {
    "id": "E4g1C6sc8qku"
   },
   "source": [
    "---\n",
    "# **Ecuacion diferencial ordinaria con condición de frontera**\n",
    "\n",
    "David Felipe Bambague (dbambague@unal.edu.co)\n",
    "\n",
    "Carlos Andrés del Valle (cdelv@unal.edu.co)\n",
    "\n",
    "---"
   ]
  },
  {
   "cell_type": "markdown",
   "metadata": {
    "id": "Rb11DSj8_HFs"
   },
   "source": [
    " Vamos a resolver la ecuación difrerncial que da cuenta de las oscilaciones de una viga con extremo fijo y extremo libre.\n",
    "\n",
    "  \\begin{equation*}\n",
    "      y^{\\prime\\prime} -4y =0\n",
    "  \\end{equation*}\n",
    "\n",
    "  Las condiciones de frontera del problema son:\n",
    "\n",
    "  \\begin{equation*}\n",
    "      y(0)=0\\\\\n",
    "      y(1)=5\\\\\n",
    "  \\end{equation*}"
   ]
  },
  {
   "cell_type": "code",
   "execution_count": 1,
   "metadata": {
    "id": "8J0bt3qo_Qa-"
   },
   "outputs": [
    {
     "name": "stderr",
     "output_type": "stream",
     "text": [
      "Using backend: tensorflow.compat.v1\n",
      "\n",
      "2022-10-21 12:26:56.870103: I tensorflow/core/util/util.cc:169] oneDNN custom operations are on. You may see slightly different numerical results due to floating-point round-off errors from different computation orders. To turn them off, set the environment variable `TF_ENABLE_ONEDNN_OPTS=0`.\n",
      "2022-10-21 12:26:56.873713: W tensorflow/stream_executor/platform/default/dso_loader.cc:64] Could not load dynamic library 'libcudart.so.11.0'; dlerror: libcudart.so.11.0: cannot open shared object file: No such file or directory\n",
      "2022-10-21 12:26:56.873728: I tensorflow/stream_executor/cuda/cudart_stub.cc:29] Ignore above cudart dlerror if you do not have a GPU set up on your machine.\n"
     ]
    },
    {
     "name": "stdout",
     "output_type": "stream",
     "text": [
      "WARNING:tensorflow:From /home/wind/.local/lib/python3.10/site-packages/tensorflow/python/compat/v2_compat.py:107: disable_resource_variables (from tensorflow.python.ops.variable_scope) is deprecated and will be removed in a future version.\n",
      "Instructions for updating:\n",
      "non-resource variables are not supported in the long term\n"
     ]
    },
    {
     "name": "stderr",
     "output_type": "stream",
     "text": [
      "2022-10-21 12:26:58.033435: E tensorflow/stream_executor/cuda/cuda_driver.cc:271] failed call to cuInit: CUDA_ERROR_NO_DEVICE: no CUDA-capable device is detected\n",
      "2022-10-21 12:26:58.033467: I tensorflow/stream_executor/cuda/cuda_diagnostics.cc:156] kernel driver does not appear to be running on this host (pop-os): /proc/driver/nvidia/version does not exist\n"
     ]
    },
    {
     "name": "stdout",
     "output_type": "stream",
     "text": [
      "WARNING:tensorflow:From /home/wind/.local/lib/python3.10/site-packages/deepxde/nn/initializers.py:118: The name tf.keras.initializers.he_normal is deprecated. Please use tf.compat.v1.keras.initializers.he_normal instead.\n",
      "\n"
     ]
    }
   ],
   "source": [
    "import deepxde as dde\n",
    "import numpy as np\n",
    "import matplotlib.pyplot as plt\n",
    "\n",
    "#Usar doble precisión si la GPU lo soporta. Float32 por defecto.\n",
    "dde.config.real.set_float64()"
   ]
  },
  {
   "cell_type": "markdown",
   "metadata": {
    "id": "S0H4zcTs_UHn"
   },
   "source": [
    "## **1. Definir la Ecuación a Resolver**"
   ]
  },
  {
   "cell_type": "code",
   "execution_count": 2,
   "metadata": {
    "id": "CjGyAoys_RP0"
   },
   "outputs": [],
   "source": [
    "def ode(x,y):\n",
    "    dy_dx = dde.grad.jacobian(y,x)\n",
    "    d2y_dx2 = dde.grad.hessian(y,x)\n",
    "    return  d2y_dx2 - 4*y\n",
    "  "
   ]
  },
  {
   "cell_type": "markdown",
   "metadata": {
    "id": "-zyQghlF_c_f"
   },
   "source": [
    "## **2. Definir Dominio de la Ecuación**"
   ]
  },
  {
   "cell_type": "code",
   "execution_count": 3,
   "metadata": {
    "id": "HJQCyDLD_d8c"
   },
   "outputs": [],
   "source": [
    "geom = dde.geometry.TimeDomain(0, 1)"
   ]
  },
  {
   "cell_type": "markdown",
   "metadata": {
    "id": "Ri2N1cKs_eWN"
   },
   "source": [
    "## **3. Definir Condiciones de Frontera**"
   ]
  },
  {
   "cell_type": "code",
   "execution_count": 4,
   "metadata": {
    "id": "JPxoN5IPBbqa"
   },
   "outputs": [],
   "source": [
    "IC1 = dde.icbc.IC(geom, lambda x: 0, lambda x, on_initial: np.isclose(x[0], 0))\n",
    "IC2 = dde.icbc.IC(geom, lambda x: 5, lambda x, on_initial: np.isclose(x[0], 1))"
   ]
  },
  {
   "cell_type": "markdown",
   "metadata": {
    "id": "XIbKWxlC_i8f"
   },
   "source": [
    "## **4. Crear Datos de Entrenamiento**"
   ]
  },
  {
   "cell_type": "code",
   "execution_count": 5,
   "metadata": {
    "id": "O-f_T5ua8X3G"
   },
   "outputs": [],
   "source": [
    "def func(x):\n",
    "    return 10*np.exp(2)*np.sinh(2*x)/(np.exp(4)-1)\n",
    "\n",
    "data = dde.data.PDE(geom, ode, [IC1,IC2], 14, 4, solution=func, num_test=100)"
   ]
  },
  {
   "cell_type": "markdown",
   "metadata": {
    "id": "ByaL3SDH_oBD"
   },
   "source": [
    "## **5. Crear la Red Neuronal**"
   ]
  },
  {
   "cell_type": "code",
   "execution_count": 6,
   "metadata": {
    "id": "ani0vqiB_sWo"
   },
   "outputs": [],
   "source": [
    "layer_size = [1] + [20]*3 + [1]\n",
    "activation = \"tanh\"\n",
    "initializer = \"Glorot uniform\"\n",
    "net = dde.nn.FNN(layer_size, activation, initializer)"
   ]
  },
  {
   "cell_type": "markdown",
   "metadata": {
    "id": "WG_jewg0_sok"
   },
   "source": [
    "## **6. Compilar y Entrenar el Modelo**"
   ]
  },
  {
   "cell_type": "code",
   "execution_count": 7,
   "metadata": {
    "colab": {
     "base_uri": "https://localhost:8080/"
    },
    "id": "iP7oLLrWEEKw",
    "outputId": "9a222e49-5c3e-40fe-99de-d8d22da224a9"
   },
   "outputs": [
    {
     "name": "stdout",
     "output_type": "stream",
     "text": [
      "Compiling model...\n",
      "Building feed-forward neural network...\n",
      "'build' took 0.033299 s\n",
      "\n"
     ]
    },
    {
     "name": "stderr",
     "output_type": "stream",
     "text": [
      "/home/wind/.local/lib/python3.10/site-packages/deepxde/nn/tensorflow_compat_v1/fnn.py:103: UserWarning: `tf.layers.dense` is deprecated and will be removed in a future version. Please use `tf.keras.layers.Dense` instead.\n",
      "  return tf.layers.dense(\n",
      "2022-10-21 12:26:59.365460: I tensorflow/core/platform/cpu_feature_guard.cc:193] This TensorFlow binary is optimized with oneAPI Deep Neural Network Library (oneDNN) to use the following CPU instructions in performance-critical operations:  AVX2 AVX512F AVX512_VNNI FMA\n",
      "To enable them in other operations, rebuild TensorFlow with the appropriate compiler flags.\n"
     ]
    },
    {
     "name": "stdout",
     "output_type": "stream",
     "text": [
      "'compile' took 0.234965 s\n",
      "\n",
      "Initializing variables...\n",
      "Training model...\n",
      "\n",
      "Step      Train loss                        Test loss                         Test metric   \n",
      "0         [2.62e-01, 0.00e+00, 2.67e+01]    [2.52e-01, 0.00e+00, 2.67e+01]    [1.04e+00]    \n"
     ]
    },
    {
     "name": "stderr",
     "output_type": "stream",
     "text": [
      "2022-10-21 12:26:59.573084: I tensorflow/compiler/mlir/mlir_graph_optimization_pass.cc:354] MLIR V1 optimization pass is not enabled\n"
     ]
    },
    {
     "name": "stdout",
     "output_type": "stream",
     "text": [
      "1000      [1.89e-03, 7.48e-06, 5.53e-06]    [3.04e-03, 7.48e-06, 5.53e-06]    [7.47e-04]    \n",
      "2000      [6.05e-04, 1.41e-06, 8.41e-07]    [1.11e-03, 1.41e-06, 8.41e-07]    [3.00e-04]    \n",
      "3000      [1.87e-03, 4.48e-05, 7.70e-05]    [1.76e-03, 4.48e-05, 7.70e-05]    [3.42e-03]    \n",
      "4000      [2.67e-04, 3.27e-06, 1.94e-05]    [4.16e-04, 3.27e-06, 1.94e-05]    [1.27e-03]    \n",
      "5000      [1.24e-03, 1.83e-05, 3.62e-05]    [1.28e-03, 1.83e-05, 3.62e-05]    [2.37e-03]    \n",
      "6000      [1.64e-03, 5.90e-05, 1.03e-04]    [1.43e-03, 5.90e-05, 1.03e-04]    [3.74e-03]    \n",
      "7000      [5.48e-05, 2.21e-09, 4.52e-09]    [9.73e-05, 2.21e-09, 4.52e-09]    [2.72e-05]    \n",
      "8000      [4.92e-05, 5.05e-09, 3.09e-09]    [8.24e-05, 5.05e-09, 3.09e-09]    [2.98e-05]    \n",
      "9000      [4.41e-05, 8.18e-09, 2.66e-09]    [7.14e-05, 8.18e-09, 2.66e-09]    [3.24e-05]    \n",
      "10000     [3.96e-05, 1.27e-08, 2.79e-09]    [6.24e-05, 1.27e-08, 2.79e-09]    [3.57e-05]    \n",
      "\n",
      "Best model at step 10000:\n",
      "  train loss: 3.96e-05\n",
      "  test loss: 6.25e-05\n",
      "  test metric: [3.57e-05]\n",
      "\n",
      "'train' took 4.317577 s\n",
      "\n"
     ]
    }
   ],
   "source": [
    "model = dde.Model(data, net)\n",
    "model.compile(\"adam\", lr=0.001, metrics=[\"l2 relative error\"])\n",
    "\n",
    "losshistory, train_state = model.train(iterations=10000)"
   ]
  },
  {
   "cell_type": "markdown",
   "metadata": {
    "id": "ZZWNKPN3EGcM"
   },
   "source": [
    "## **7. Graficar Solucion**"
   ]
  },
  {
   "cell_type": "code",
   "execution_count": 8,
   "metadata": {
    "colab": {
     "base_uri": "https://localhost:8080/",
     "height": 593
    },
    "id": "0wZrMz79FMFt",
    "outputId": "fddba741-988c-4ad2-c82e-b3c214b3edb7"
   },
   "outputs": [
    {
     "data": {
      "image/png": "[encoded data removed]",
      "text/plain": [
       "<Figure size 432x288 with 1 Axes>"
      ]
     },
     "metadata": {
      "needs_background": "light"
     },
     "output_type": "display_data"
    },
    {
     "data": {
      "image/png": "[encoded data removed]",
      "text/plain": [
       "<Figure size 432x288 with 1 Axes>"
      ]
     },
     "metadata": {
      "needs_background": "light"
     },
     "output_type": "display_data"
    }
   ],
   "source": [
    "dde.saveplot(losshistory, train_state, issave=False, isplot=True)\n"
   ]
  }
 ],
 "metadata": {
  "colab": {
   "collapsed_sections": [],
   "provenance": []
  },
  "kernelspec": {
   "display_name": "Python 3 (ipykernel)",
   "language": "python",
   "name": "python3"
  },
  "language_info": {
   "codemirror_mode": {
    "name": "ipython",
    "version": 3
   },
   "file_extension": ".py",
   "mimetype": "text/x-python",
   "name": "python",
   "nbconvert_exporter": "python",
   "pygments_lexer": "ipython3",
   "version": "3.10.6"
  }
 },
 "nbformat": 4,
 "nbformat_minor": 1
}
