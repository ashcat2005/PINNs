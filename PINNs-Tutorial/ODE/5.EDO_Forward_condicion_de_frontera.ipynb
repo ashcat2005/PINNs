{
 "cells": [
  {
   "cell_type": "markdown",
   "metadata": {},
   "source": [
    "![Semillero Astrofisica](../logo.PNG)"
   ]
  },
  {
   "cell_type": "markdown",
   "metadata": {
    "id": "E4g1C6sc8qku"
   },
   "source": [
    "---\n",
    "# **Ecuacion diferencial ordinaria con condición de frontera**\n",
    "\n",
    "David Felipe Bambague (dbambague@unal.edu.co)\n",
    "\n",
    "Carlos Andrés del Valle (cdelv@unal.edu.co)\n",
    "\n",
    "---"
   ]
  },
  {
   "cell_type": "code",
   "execution_count": 2,
   "metadata": {},
   "outputs": [],
   "source": [
    "import numpy as np"
   ]
  },
  {
   "cell_type": "markdown",
   "metadata": {
    "id": "Rb11DSj8_HFs"
   },
   "source": [
    " Vamos a resolver la ecuación difrerncial que da cuenta de las oscilaciones de una viga con extremo fijo y extremo libre.\n",
    "\n",
    "  \\begin{equation*}\n",
    "      y^{\\prime\\prime} -4y =0\n",
    "  \\end{equation*}\n",
    "\n",
    "  Las condiciones de frontera del problema son:\n",
    "\n",
    "  \\begin{align*}\n",
    "      y(0)=0 && y(1)=5\n",
    "  \\end{align*}\n",
    "\n",
    "  La solución analitica es:\n",
    "\n",
    "  \\begin{equation*}\n",
    "    \\frac{5}{sinh(2)}sinh(2*x)\n",
    "  \\end{equation*}\n",
    "\n",
    "  "
   ]
  },
  {
   "cell_type": "code",
   "execution_count": 3,
   "metadata": {
    "id": "8J0bt3qo_Qa-"
   },
   "outputs": [
    {
     "name": "stderr",
     "output_type": "stream",
     "text": [
      "Using backend: tensorflow.compat.v1\n",
      "\n"
     ]
    },
    {
     "name": "stdout",
     "output_type": "stream",
     "text": [
      "WARNING:tensorflow:From c:\\Users\\HP\\AppData\\Local\\Programs\\Python\\Python310\\lib\\site-packages\\tensorflow\\python\\compat\\v2_compat.py:107: disable_resource_variables (from tensorflow.python.ops.variable_scope) is deprecated and will be removed in a future version.\n",
      "Instructions for updating:\n",
      "non-resource variables are not supported in the long term\n",
      "WARNING:tensorflow:From c:\\Users\\HP\\AppData\\Local\\Programs\\Python\\Python310\\lib\\site-packages\\deepxde\\nn\\initializers.py:118: The name tf.keras.initializers.he_normal is deprecated. Please use tf.compat.v1.keras.initializers.he_normal instead.\n",
      "\n"
     ]
    }
   ],
   "source": [
    "import deepxde as dde\n",
    "import numpy as np\n",
    "import matplotlib.pyplot as plt\n",
    "\n",
    "#Usar doble precisión si la GPU lo soporta. Float32 por defecto.\n",
    "dde.config.real.set_float64()"
   ]
  },
  {
   "cell_type": "markdown",
   "metadata": {
    "id": "S0H4zcTs_UHn"
   },
   "source": [
    "## **1. Definir la Ecuación a Resolver**"
   ]
  },
  {
   "cell_type": "code",
   "execution_count": 4,
   "metadata": {
    "id": "CjGyAoys_RP0"
   },
   "outputs": [],
   "source": [
    "def ode(x,y):\n",
    "    dy_dx = dde.grad.jacobian(y,x)\n",
    "    d2y_dx2 = dde.grad.hessian(y,x)\n",
    "    return  d2y_dx2 - 4*y\n",
    "  "
   ]
  },
  {
   "cell_type": "markdown",
   "metadata": {
    "id": "-zyQghlF_c_f"
   },
   "source": [
    "## **2. Definir Dominio de la Ecuación**\n",
    "\n",
    "Dado que estamos tratando con una ecuacion diferencial ordinaria, podemos hacer usu de el dominio definido por .TimeDomain()\n",
    "\n",
    "~~~python\n",
    "class deepxde.geometry.timedomain.TimeDomain(t0, t1)\n",
    "~~~\n",
    "\n",
    "Esta clase de dominio crea el booleano para definir las coondiciones iniciales\n",
    "\n",
    "~~~pyhton\n",
    "on_initial(t)\n",
    "~~~"
   ]
  },
  {
   "cell_type": "code",
   "execution_count": 5,
   "metadata": {
    "id": "HJQCyDLD_d8c"
   },
   "outputs": [],
   "source": [
    "geom = dde.geometry.TimeDomain(0, 1)"
   ]
  },
  {
   "cell_type": "markdown",
   "metadata": {
    "id": "Ri2N1cKs_eWN"
   },
   "source": [
    "## **3. Definir Condiciones de Frontera**\n",
    "\n",
    "Como estamos resolviendo una ODE, las condiciones de frontera se pueden entender como condiciones iniciales especificando el punto del dominio donde se quieren aplicar.\n",
    "\n",
    "~~~python\n",
    "class deepxde.icbc.initial_conditions.IC(geom, \n",
    "                                         func, \n",
    "                                         on_initial, \n",
    "                                         component=0)\n",
    "~~~\n",
    "\n",
    "Initial conditions: y([x, t0]) = func([x, t0])"
   ]
  },
  {
   "cell_type": "code",
   "execution_count": 6,
   "metadata": {
    "id": "JPxoN5IPBbqa"
   },
   "outputs": [],
   "source": [
    "IC1 = dde.icbc.IC(geom, lambda x: 0, lambda x, on_initial: np.isclose(x[0], 0))\n",
    "IC2 = dde.icbc.IC(geom, lambda x: 5, lambda x, on_initial: np.isclose(x[0], 1))"
   ]
  },
  {
   "cell_type": "markdown",
   "metadata": {
    "id": "XIbKWxlC_i8f"
   },
   "source": [
    "## **4. Crear Datos de Entrenamiento**\n",
    "\n",
    "vamos a crear los datos de entrenamiento\n",
    "\n",
    "~~~python\n",
    "class deepxde.data.pde.TimePDE(geometryxtime, \n",
    "                               pde, \n",
    "                               ic_bcs, \n",
    "                               num_domain=0, \n",
    "                               num_boundary=0, \n",
    "                               num_initial=0, \n",
    "                               train_distribution='Hammersley', \n",
    "                               anchors=None, \n",
    "                               exclusions=None, \n",
    "                               solution=None, \n",
    "                               num_test=None, \n",
    "                               auxiliary_var_function=None\n",
    "~~~\n",
    "\n",
    "Detalles en https://deepxde.readthedocs.io/en/latest/modules/deepxde.data.html?highlight=data.TimePDE#deepxde.data.pde.TimePDE. "
   ]
  },
  {
   "cell_type": "code",
   "execution_count": 7,
   "metadata": {
    "id": "O-f_T5ua8X3G"
   },
   "outputs": [],
   "source": [
    "def func(x):\n",
    "    return (5/np.sinh(2))*np.sinh(2*x)\n",
    "\n",
    "data = dde.data.PDE(geom, ode, [IC1,IC2], 14, 4, solution=func, num_test=100)"
   ]
  },
  {
   "cell_type": "markdown",
   "metadata": {
    "id": "ByaL3SDH_oBD"
   },
   "source": [
    "## **5. Crear la Red Neuronal**\n",
    "\n",
    "Vamos a utilizar una **Fully-connected neural network**.\n",
    "\n",
    "~~~python\n",
    "class deepxde.nn.tensorflow.fnn.FNN(layer_sizes, activation, \n",
    "                                    kernel_initializer, \n",
    "                                    regularization=None, \n",
    "                                    dropout_rate=0)\n",
    "~~~"
   ]
  },
  {
   "cell_type": "code",
   "execution_count": 8,
   "metadata": {
    "id": "ani0vqiB_sWo"
   },
   "outputs": [],
   "source": [
    "layer_size = [1] + [20]*3 + [1]\n",
    "activation = \"tanh\"\n",
    "initializer = \"Glorot uniform\"\n",
    "net = dde.nn.FNN(layer_size, activation, initializer)"
   ]
  },
  {
   "cell_type": "markdown",
   "metadata": {
    "id": "WG_jewg0_sok"
   },
   "source": [
    "## **6. Compilar y Entrenar el Modelo**"
   ]
  },
  {
   "cell_type": "code",
   "execution_count": 9,
   "metadata": {
    "colab": {
     "base_uri": "https://localhost:8080/"
    },
    "id": "iP7oLLrWEEKw",
    "outputId": "9a222e49-5c3e-40fe-99de-d8d22da224a9"
   },
   "outputs": [
    {
     "name": "stdout",
     "output_type": "stream",
     "text": [
      "Compiling model...\n",
      "Building feed-forward neural network...\n",
      "'build' took 0.065955 s\n",
      "\n"
     ]
    },
    {
     "name": "stderr",
     "output_type": "stream",
     "text": [
      "c:\\Users\\HP\\AppData\\Local\\Programs\\Python\\Python310\\lib\\site-packages\\deepxde\\nn\\tensorflow_compat_v1\\fnn.py:103: UserWarning: `tf.layers.dense` is deprecated and will be removed in a future version. Please use `tf.keras.layers.Dense` instead.\n",
      "  return tf.layers.dense(\n"
     ]
    },
    {
     "name": "stdout",
     "output_type": "stream",
     "text": [
      "'compile' took 0.440215 s\n",
      "\n",
      "Initializing variables...\n",
      "Training model...\n",
      "\n",
      "Step      Train loss                        Test loss                         Test metric   \n",
      "0         [1.38e-03, 0.00e+00, 2.51e+01]    [1.11e-03, 0.00e+00, 2.51e+01]    [1.00e+00]    \n",
      "1000      [1.31e-03, 3.77e-06, 8.65e-06]    [3.02e-02, 3.77e-06, 8.65e-06]    [1.17e-03]    \n",
      "2000      [3.79e-04, 5.46e-07, 5.37e-07]    [1.11e-02, 5.46e-07, 5.37e-07]    [3.69e-04]    \n",
      "3000      [5.50e-04, 4.78e-06, 1.54e-05]    [7.78e-03, 4.78e-06, 1.54e-05]    [1.50e-03]    \n",
      "4000      [1.05e-04, 5.26e-08, 9.31e-07]    [4.20e-03, 5.26e-08, 9.31e-07]    [4.22e-04]    \n",
      "5000      [4.58e-05, 9.95e-08, 7.44e-09]    [2.67e-03, 9.95e-08, 7.44e-09]    [1.27e-04]    \n",
      "6000      [3.63e-02, 8.49e-04, 9.29e-04]    [2.32e-02, 8.49e-04, 9.29e-04]    [1.31e-02]    \n",
      "7000      [6.36e-03, 2.40e-04, 3.33e-04]    [8.74e-03, 2.40e-04, 3.33e-04]    [7.02e-03]    \n",
      "8000      [1.40e-04, 3.41e-06, 6.38e-06]    [8.81e-04, 3.41e-06, 6.38e-06]    [8.55e-04]    \n",
      "9000      [1.13e-05, 3.52e-08, 1.74e-10]    [8.31e-04, 3.52e-08, 1.74e-10]    [6.42e-05]    \n",
      "10000     [1.01e-05, 1.09e-08, 4.52e-10]    [6.68e-04, 1.09e-08, 4.52e-10]    [5.70e-05]    \n",
      "\n",
      "Best model at step 10000:\n",
      "  train loss: 1.01e-05\n",
      "  test loss: 6.68e-04\n",
      "  test metric: [5.70e-05]\n",
      "\n",
      "'train' took 6.713497 s\n",
      "\n"
     ]
    }
   ],
   "source": [
    "model = dde.Model(data, net)\n",
    "model.compile(\"adam\", lr=0.001, metrics=[\"l2 relative error\"])\n",
    "\n",
    "losshistory, train_state = model.train(iterations=10000)"
   ]
  },
  {
   "cell_type": "markdown",
   "metadata": {
    "id": "ZZWNKPN3EGcM"
   },
   "source": [
    "## **7. Graficar Solucion**"
   ]
  },
  {
   "cell_type": "code",
   "execution_count": 10,
   "metadata": {
    "colab": {
     "base_uri": "https://localhost:8080/",
     "height": 593
    },
    "id": "0wZrMz79FMFt",
    "outputId": "fddba741-988c-4ad2-c82e-b3c214b3edb7"
   },
   "outputs": [
    {
     "data": {
      "image/png": "[encoded data removed]",
      "text/plain": [
       "<Figure size 432x288 with 1 Axes>"
      ]
     },
     "metadata": {
      "needs_background": "light"
     },
     "output_type": "display_data"
    },
    {
     "data": {
      "image/png": "[encoded data removed]",
      "text/plain": [
       "<Figure size 432x288 with 1 Axes>"
      ]
     },
     "metadata": {
      "needs_background": "light"
     },
     "output_type": "display_data"
    }
   ],
   "source": [
    "dde.saveplot(losshistory, train_state, issave=False, isplot=True)\n"
   ]
  }
 ],
 "metadata": {
  "colab": {
   "collapsed_sections": [],
   "provenance": []
  },
  "kernelspec": {
   "display_name": "Python 3.10.0 64-bit",
   "language": "python",
   "name": "python3"
  },
  "language_info": {
   "codemirror_mode": {
    "name": "ipython",
    "version": 3
   },
   "file_extension": ".py",
   "mimetype": "text/x-python",
   "name": "python",
   "nbconvert_exporter": "python",
   "pygments_lexer": "ipython3",
   "version": "3.10.0"
  },
  "vscode": {
   "interpreter": {
    "hash": "a9cff5a362bc38ef45d817ae74b1af54d6a076e3d773891282bce078b815ba34"
   }
  }
 },
 "nbformat": 4,
 "nbformat_minor": 1
}
