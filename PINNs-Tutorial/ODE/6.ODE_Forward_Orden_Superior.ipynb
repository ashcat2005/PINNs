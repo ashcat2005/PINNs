{
 "cells": [
  {
   "cell_type": "markdown",
   "metadata": {},
   "source": [
    "![Semillero Astrofisica](../logo.PNG)"
   ]
  },
  {
   "cell_type": "markdown",
   "metadata": {
    "id": "knl4GZOLDant"
   },
   "source": [
    "---\n",
    "# **Ecuacion diferencial ordinaria de orden superior**\n",
    "\n",
    "David Felipe Bambague (dbambague@unal.edu.co)\n",
    "\n",
    "Carlos Andrés del Valle (cdelv@unal.edu.co)\n",
    "\n",
    "---"
   ]
  },
  {
   "cell_type": "markdown",
   "metadata": {
    "id": "K5GYyYg6D2Xk"
   },
   "source": [
    "  Vamos a resolver la ecuación difrerncial de una viga en cantilever.\n",
    "\n",
    "  \\begin{equation*}\n",
    "      EI\\frac{d^4\\eta}{dx^4}=0\n",
    "  \\end{equation*}\n",
    "\n",
    "  con $E=1$, $F=3$ y $I=1$. Las condiciones de frontera del problema son:\n",
    "\n",
    "  \\begin{equation*}\n",
    "      \\eta(0)=0\\\\\n",
    "      \\eta^{\\prime}(0)=0\\\\\n",
    "      \\eta^{\\prime\\prime}(L)=0\\\\\n",
    "      \\eta^{\\prime\\prime\\prime}(L)=\\frac{F}{EI}\n",
    "  \\end{equation*}\n",
    "  \n",
    "  La solución analítica de esta ecuación es\n",
    "    \\begin{equation*}\n",
    "      \\eta(x)=\\frac{Fx^2(x-3L)}{6EI}\n",
    "  \\end{equation*}"
   ]
  },
  {
   "cell_type": "code",
   "execution_count": 1,
   "metadata": {
    "colab": {
     "base_uri": "https://localhost:8080/"
    },
    "id": "QWMmoWbUDMQe",
    "outputId": "e17e8624-aacc-4332-8a3e-6ffd53b21e35"
   },
   "outputs": [
    {
     "name": "stderr",
     "output_type": "stream",
     "text": [
      "Using backend: tensorflow.compat.v1\n",
      "\n",
      "2022-10-21 13:56:57.384231: I tensorflow/core/util/util.cc:169] oneDNN custom operations are on. You may see slightly different numerical results due to floating-point round-off errors from different computation orders. To turn them off, set the environment variable `TF_ENABLE_ONEDNN_OPTS=0`.\n",
      "2022-10-21 13:56:57.387100: W tensorflow/stream_executor/platform/default/dso_loader.cc:64] Could not load dynamic library 'libcudart.so.11.0'; dlerror: libcudart.so.11.0: cannot open shared object file: No such file or directory\n",
      "2022-10-21 13:56:57.387109: I tensorflow/stream_executor/cuda/cudart_stub.cc:29] Ignore above cudart dlerror if you do not have a GPU set up on your machine.\n"
     ]
    },
    {
     "name": "stdout",
     "output_type": "stream",
     "text": [
      "WARNING:tensorflow:From /home/wind/.local/lib/python3.10/site-packages/tensorflow/python/compat/v2_compat.py:107: disable_resource_variables (from tensorflow.python.ops.variable_scope) is deprecated and will be removed in a future version.\n",
      "Instructions for updating:\n",
      "non-resource variables are not supported in the long term\n"
     ]
    },
    {
     "name": "stderr",
     "output_type": "stream",
     "text": [
      "2022-10-21 13:56:58.578714: E tensorflow/stream_executor/cuda/cuda_driver.cc:271] failed call to cuInit: CUDA_ERROR_NO_DEVICE: no CUDA-capable device is detected\n",
      "2022-10-21 13:56:58.578750: I tensorflow/stream_executor/cuda/cuda_diagnostics.cc:156] kernel driver does not appear to be running on this host (pop-os): /proc/driver/nvidia/version does not exist\n"
     ]
    },
    {
     "name": "stdout",
     "output_type": "stream",
     "text": [
      "WARNING:tensorflow:From /home/wind/.local/lib/python3.10/site-packages/deepxde/nn/initializers.py:118: The name tf.keras.initializers.he_normal is deprecated. Please use tf.compat.v1.keras.initializers.he_normal instead.\n",
      "\n"
     ]
    }
   ],
   "source": [
    "import deepxde as dde\n",
    "import numpy as np\n",
    "import matplotlib.pyplot as plt\n",
    "\n",
    "#Usar doble precisión si la GPU lo soporta. Float32 por defecto.\n",
    "dde.config.real.set_float64()"
   ]
  },
  {
   "cell_type": "markdown",
   "metadata": {
    "id": "4S4MQZIcGcKb"
   },
   "source": [
    "## 1. Definir la Ecuación a Resolver"
   ]
  },
  {
   "cell_type": "code",
   "execution_count": 2,
   "metadata": {
    "id": "T5N8ICEQGUO4"
   },
   "outputs": [],
   "source": [
    "I=1.0\n",
    "F=3.0\n",
    "E=1.0\n",
    "L=1\n",
    "\n",
    "def ode1(x, y):\n",
    "    dy_dt = dde.grad.jacobian(y, x)\n",
    "    d2y_dt2 = dde.grad.hessian(y, x)\n",
    "    d3y_dt3 =dde.grad.jacobian(d2y_dt2,x)\n",
    "    d4y_dt4 = dde.grad.hessian(d2y_dt2, x)\n",
    "    return E*I*d4y_dt4 \n",
    "\n",
    "def func(x):\n",
    "    return F*x**2*(x-3*L)/(6*E*I)"
   ]
  },
  {
   "cell_type": "markdown",
   "metadata": {
    "id": "FrKZ58Zh_hZ8"
   },
   "source": [
    "## **2. Definir Dominio de la Ecuación**"
   ]
  },
  {
   "cell_type": "code",
   "execution_count": 3,
   "metadata": {
    "id": "9oGOzSpLGa1i"
   },
   "outputs": [],
   "source": [
    "geom = dde.geometry.TimeDomain(0, L)"
   ]
  },
  {
   "cell_type": "markdown",
   "metadata": {
    "id": "zjuxEQMY_mOl"
   },
   "source": [
    "## **3. Definir Condiciones Iniciales y de Frontera**"
   ]
  },
  {
   "cell_type": "code",
   "execution_count": 4,
   "metadata": {
    "id": "jdn6Q5MTVUJL"
   },
   "outputs": [],
   "source": [
    "def IC_1(x):\n",
    "    return 0 \n",
    "\n",
    "def IC_2(inputs, outputs, x):\n",
    "    return dde.grad.jacobian(outputs, inputs)-0\n",
    "\n",
    "def IC_3(inputs, outputs, x):\n",
    "    return dde.grad.hessian(outputs, inputs)-0\n",
    "\n",
    "def IC_4(inputs, outputs, x):\n",
    "    dy_dx = dde.grad.jacobian(outputs, inputs)\n",
    "    return dde.grad.hessian(dy_dx, inputs)-F/(E*I)\n",
    "\n",
    "IC1 = dde.icbc.IC(geom,         IC_1, lambda x, on_initial: on_initial)\n",
    "IC2 = dde.icbc.OperatorBC(geom, IC_2, lambda x, on_initial: on_initial)\n",
    "IC3 = dde.icbc.OperatorBC(geom, IC_3, lambda x, on_initial: np.isclose(x[0], L))\n",
    "IC4 = dde.icbc.OperatorBC(geom, IC_4, lambda x, on_initial: np.isclose(x[0], L))"
   ]
  },
  {
   "cell_type": "markdown",
   "metadata": {
    "id": "kXPe8FLU__yz"
   },
   "source": [
    "## **4. Crear Datos de Entrenamiento**"
   ]
  },
  {
   "cell_type": "code",
   "execution_count": 5,
   "metadata": {
    "id": "k4pPtNNyxvPt"
   },
   "outputs": [],
   "source": [
    "data1 = dde.data.TimePDE(geom, ode1, [IC1,IC2, IC3, IC4], 62, 4, solution=func)"
   ]
  },
  {
   "cell_type": "markdown",
   "metadata": {
    "id": "5okJv2lnAD28"
   },
   "source": [
    "## **5. Crear la Red Neuronal**"
   ]
  },
  {
   "cell_type": "code",
   "execution_count": 6,
   "metadata": {
    "id": "KHZMTgOm1b_-"
   },
   "outputs": [],
   "source": [
    "layer_size = [1] + [30]*3 + [1]\n",
    "activation = \"tanh\"\n",
    "initializer = \"Glorot uniform\"\n",
    "net1 = dde.nn.FNN(layer_size, activation, initializer)"
   ]
  },
  {
   "cell_type": "markdown",
   "metadata": {
    "id": "RWKXH7vXALsP"
   },
   "source": [
    "## **6. Compilar y Entrenar el Modelo**"
   ]
  },
  {
   "cell_type": "code",
   "execution_count": 7,
   "metadata": {
    "id": "9WVi9vWk1kuw"
   },
   "outputs": [
    {
     "name": "stdout",
     "output_type": "stream",
     "text": [
      "Compiling model...\n",
      "Building feed-forward neural network...\n",
      "'build' took 0.034172 s\n",
      "\n"
     ]
    },
    {
     "name": "stderr",
     "output_type": "stream",
     "text": [
      "/home/wind/.local/lib/python3.10/site-packages/deepxde/nn/tensorflow_compat_v1/fnn.py:103: UserWarning: `tf.layers.dense` is deprecated and will be removed in a future version. Please use `tf.keras.layers.Dense` instead.\n",
      "  return tf.layers.dense(\n",
      "2022-10-21 13:56:59.995560: I tensorflow/core/platform/cpu_feature_guard.cc:193] This TensorFlow binary is optimized with oneAPI Deep Neural Network Library (oneDNN) to use the following CPU instructions in performance-critical operations:  AVX2 AVX512F AVX512_VNNI FMA\n",
      "To enable them in other operations, rebuild TensorFlow with the appropriate compiler flags.\n"
     ]
    },
    {
     "name": "stdout",
     "output_type": "stream",
     "text": [
      "'compile' took 1.455458 s\n",
      "\n",
      "Initializing variables...\n",
      "Training model...\n",
      "\n"
     ]
    },
    {
     "name": "stderr",
     "output_type": "stream",
     "text": [
      "2022-10-21 13:57:01.452154: I tensorflow/compiler/mlir/mlir_graph_optimization_pass.cc:354] MLIR V1 optimization pass is not enabled\n"
     ]
    },
    {
     "name": "stdout",
     "output_type": "stream",
     "text": [
      "Step      Train loss                                            Test loss                                             Test metric\n",
      "0         [9.24e-01, 0.00e+00, 4.04e-01, 1.12e-01, 9.92e+00]    [9.24e-01, 0.00e+00, 4.04e-01, 1.12e-01, 9.92e+00]    []  \n",
      "1000      [2.58e-03, 5.30e-12, 2.73e-01, 5.11e-02, 1.28e-02]                                                              \n",
      "2000      [2.58e-03, 1.41e-10, 2.73e-01, 5.11e-02, 1.28e-02]                                                              \n",
      "3000      [2.58e-03, 3.44e-10, 2.73e-01, 5.11e-02, 1.28e-02]                                                              \n",
      "4000      [2.59e-03, 1.78e-10, 2.73e-01, 5.11e-02, 1.28e-02]                                                              \n",
      "5000      [2.60e-03, 5.96e-12, 2.73e-01, 5.11e-02, 1.28e-02]                                                              \n",
      "6000      [2.60e-03, 7.82e-15, 2.73e-01, 5.11e-02, 1.28e-02]                                                              \n",
      "INFO:tensorflow:Optimization terminated with:\n",
      "  Message: STOP: TOTAL NO. of ITERATIONS REACHED LIMIT\n",
      "  Objective function value: 0.339151\n",
      "  Number of iterations: 5000\n",
      "  Number of functions evaluations: 6136\n",
      "6136      [2.60e-03, 3.57e-12, 2.73e-01, 5.11e-02, 1.28e-02]    [2.60e-03, 3.57e-12, 2.73e-01, 5.11e-02, 1.28e-02]    []  \n",
      "\n",
      "Best model at step 6136:\n",
      "  train loss: 3.39e-01\n",
      "  test loss: 3.39e-01\n",
      "  test metric: []\n",
      "\n",
      "'train' took 30.867756 s\n",
      "\n"
     ]
    }
   ],
   "source": [
    "# Modelo\n",
    "model1 = dde.Model(data1, net1)\n",
    "\n",
    "# Optimizador L-BFGS-B\n",
    "dde.optimizers.config.set_LBFGS_options(maxiter=5000)\n",
    "\n",
    "model1.compile(\"L-BFGS\")\n",
    "losshistory1, train_state1 = model1.train()"
   ]
  },
  {
   "cell_type": "markdown",
   "metadata": {},
   "source": [
    "## 7. Visualizar la solución"
   ]
  },
  {
   "cell_type": "code",
   "execution_count": 8,
   "metadata": {},
   "outputs": [
    {
     "data": {
      "image/png": "[encoded data removed]",
      "text/plain": [
       "<Figure size 432x288 with 1 Axes>"
      ]
     },
     "metadata": {
      "needs_background": "light"
     },
     "output_type": "display_data"
    },
    {
     "data": {
      "image/png": "[encoded data removed]",
      "text/plain": [
       "<Figure size 432x288 with 1 Axes>"
      ]
     },
     "metadata": {
      "needs_background": "light"
     },
     "output_type": "display_data"
    }
   ],
   "source": [
    "dde.saveplot(losshistory1, train_state1, issave=False, isplot=True) "
   ]
  },
  {
   "cell_type": "markdown",
   "metadata": {},
   "source": [
    "## Cómo Mejorar esta Solución? Hay que Partir la Ecuación\n",
    "\n",
    "Creamos un sistema de ecuaciones de la siguiente manera\n",
    "\n",
    "\\begin{equation}\n",
    "    \\begin{split}\n",
    "        & y^\\prime=A \\\\\n",
    "        & y^{\\prime\\prime} = A^\\prime \\qquad A^\\prime=B \\\\\n",
    "        & y^{\\prime\\prime\\prime} = B^\\prime \\qquad B^\\prime=C \\\\\n",
    "        & y^{\\prime\\prime\\prime\\prime} = C^\\prime \\\\\n",
    "    \\end{split}\n",
    "\\end{equation}\n",
    "\n",
    "Entonces la ecuación\n",
    "  \\begin{equation*}\n",
    "      EI\\frac{d^4\\eta}{dx^4}=0\n",
    "  \\end{equation*}\n",
    "\n",
    "Se puede escribir como \n",
    "\\begin{equation}\n",
    "    \\begin{split}\n",
    "        & A-y^\\prime=0 \\\\\n",
    "        & B-A^\\prime=0 \\\\\n",
    "        & C-B^\\prime=0 \\\\\n",
    "        & EIC^\\prime=0 \\\\\n",
    "    \\end{split}\n",
    "\\end{equation}"
   ]
  },
  {
   "cell_type": "code",
   "execution_count": 9,
   "metadata": {},
   "outputs": [],
   "source": [
    "def ode2(x, y):\n",
    "    Y, A, B, C = y[:, 0:1], y[:, 1:2], y[:, 2:3], y[:, 3:]\n",
    "    dy_dx = dde.grad.jacobian(y, x, i=0)\n",
    "    dA_dx = dde.grad.jacobian(y, x, i=1)\n",
    "    dB_dx = dde.grad.jacobian(y, x, i=2)\n",
    "    dC_dx = dde.grad.jacobian(y, x, i=3)\n",
    "    return [A-dy_dx, \n",
    "            B-dA_dx, \n",
    "            C-dB_dx,\n",
    "            E*I*dC_dx,\n",
    "           ]"
   ]
  },
  {
   "cell_type": "markdown",
   "metadata": {},
   "source": [
    "## Condiciones de Frontera"
   ]
  },
  {
   "cell_type": "code",
   "execution_count": 10,
   "metadata": {},
   "outputs": [],
   "source": [
    "IC1 = dde.icbc.IC(geom, lambda x: 0      , lambda x, on_initial: on_initial,          component=0) # Y\n",
    "IC2 = dde.icbc.IC(geom, lambda x: 0      , lambda x, on_initial: on_initial,          component=1) # A = Y'\n",
    "IC3 = dde.icbc.IC(geom, lambda x: 0      , lambda x, on_initial: np.isclose(x[0], L), component=2) # B = Y''\n",
    "IC4 = dde.icbc.IC(geom, lambda x: F/(E*I), lambda x, on_initial: np.isclose(x[0], L), component=3) # C = Y'''"
   ]
  },
  {
   "cell_type": "markdown",
   "metadata": {},
   "source": [
    "## Datos de Entrenamiento"
   ]
  },
  {
   "cell_type": "code",
   "execution_count": 11,
   "metadata": {},
   "outputs": [],
   "source": [
    "data2 = dde.data.TimePDE(geom, ode2, [IC1,IC2, IC3, IC4], 62, 8, num_test=0)"
   ]
  },
  {
   "cell_type": "markdown",
   "metadata": {},
   "source": [
    "## Red Neuronal"
   ]
  },
  {
   "cell_type": "code",
   "execution_count": 12,
   "metadata": {},
   "outputs": [],
   "source": [
    "layer_size = [1] + [30]*3 + [4]\n",
    "activation = \"tanh\"\n",
    "initializer = \"Glorot uniform\"\n",
    "net2 = dde.nn.FNN(layer_size, activation, initializer)"
   ]
  },
  {
   "cell_type": "markdown",
   "metadata": {},
   "source": [
    "## Compilar y Entrenar la Red"
   ]
  },
  {
   "cell_type": "code",
   "execution_count": 13,
   "metadata": {},
   "outputs": [
    {
     "name": "stdout",
     "output_type": "stream",
     "text": [
      "Compiling model...\n",
      "Building feed-forward neural network...\n",
      "'build' took 0.040022 s\n",
      "\n",
      "'compile' took 0.298245 s\n",
      "\n",
      "Initializing variables...\n",
      "Training model...\n",
      "\n",
      "Step      Train loss                                                                          Test loss                                                                           Test metric\n",
      "0         [2.61e-02, 5.56e-03, 2.45e-02, 1.96e-02, 0.00e+00, 0.00e+00, 6.67e-03, 8.18e+00]    [nan, nan, nan, nan, 0.00e+00, 0.00e+00, 6.67e-03, 8.18e+00]                        []  \n",
      "INFO:tensorflow:Optimization terminated with:\n",
      "  Message: CONVERGENCE: NORM_OF_PROJECTED_GRADIENT_<=_PGTOL\n",
      "  Objective function value: 0.000000\n",
      "  Number of iterations: 722\n",
      "  Number of functions evaluations: 776\n",
      "776       [1.07e-10, 1.23e-10, 5.28e-12, 4.60e-11, 1.57e-18, 1.94e-18, 3.37e-18, 7.73e-19]    [nan, nan, nan, nan, 1.57e-18, 1.94e-18, 3.37e-18, 7.73e-19]                        []  \n",
      "\n",
      "Best model at step 776:\n",
      "  train loss: 2.81e-10\n",
      "  test loss: nan\n",
      "  test metric: []\n",
      "\n",
      "'train' took 3.493662 s\n",
      "\n"
     ]
    }
   ],
   "source": [
    "# Modelo\n",
    "model2 = dde.Model(data2, net2)\n",
    "\n",
    "# Optimizador L-BFGS-B\n",
    "dde.optimizers.config.set_LBFGS_options(maxiter=5000)\n",
    "\n",
    "model2.compile(\"L-BFGS\")\n",
    "losshistory2, train_state2 = model2.train()"
   ]
  },
  {
   "cell_type": "markdown",
   "metadata": {},
   "source": [
    "## Visualizar la solución"
   ]
  },
  {
   "cell_type": "code",
   "execution_count": 15,
   "metadata": {},
   "outputs": [
    {
     "data": {
      "image/png": "[encoded data removed]",
      "text/plain": [
       "<Figure size 432x288 with 1 Axes>"
      ]
     },
     "metadata": {
      "needs_background": "light"
     },
     "output_type": "display_data"
    }
   ],
   "source": [
    "x = geom.uniform_points(20)\n",
    "y = model2.predict(x)\n",
    "dde.utils.external.plot_loss_history(losshistory2)\n",
    "\n",
    "plt.figure()\n",
    "plt.plot(x,y[:,0],'--',color='red',label='predict')\n",
    "plt.plot(x,func(x),'o',color='black',label='solution')\n",
    "plt.legend()\n",
    "plt.show()"
   ]
  },
  {
   "cell_type": "code",
   "execution_count": null,
   "metadata": {},
   "outputs": [],
   "source": []
  }
 ],
 "metadata": {
  "colab": {
   "collapsed_sections": [],
   "provenance": []
  },
  "kernelspec": {
   "display_name": "Python 3 (ipykernel)",
   "language": "python",
   "name": "python3"
  },
  "language_info": {
   "codemirror_mode": {
    "name": "ipython",
    "version": 3
   },
   "file_extension": ".py",
   "mimetype": "text/x-python",
   "name": "python",
   "nbconvert_exporter": "python",
   "pygments_lexer": "ipython3",
   "version": "3.10.6"
  }
 },
 "nbformat": 4,
 "nbformat_minor": 1
}
