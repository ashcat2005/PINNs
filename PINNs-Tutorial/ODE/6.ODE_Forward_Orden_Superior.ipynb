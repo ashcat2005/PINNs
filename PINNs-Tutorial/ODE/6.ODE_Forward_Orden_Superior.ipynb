{
 "cells": [
  {
   "cell_type": "markdown",
   "metadata": {},
   "source": [
    "![Semillero Astrofisica](../logo.PNG)"
   ]
  },
  {
   "cell_type": "markdown",
   "metadata": {
    "id": "knl4GZOLDant"
   },
   "source": [
    "---\n",
    "# **Ecuacion diferencial ordinaria de orden superior**\n",
    "\n",
    "David Felipe Bambague (dbambague@unal.edu.co)\n",
    "\n",
    "Carlos Andrés del Valle (cdelv@unal.edu.co)\n",
    "\n",
    "---"
   ]
  },
  {
   "cell_type": "markdown",
   "metadata": {
    "id": "K5GYyYg6D2Xk"
   },
   "source": [
    "  Vamos a resolver la ecuación difrerncial de una viga en cantilever.\n",
    "\n",
    "  \\begin{equation*}\n",
    "      EI\\frac{d^4\\eta}{dx^4}=0\n",
    "  \\end{equation*}\n",
    "\n",
    "  con $E=1$, $F=3$ y $I=1$. Las condiciones de frontera del problema son:\n",
    "\n",
    "  \\begin{align*}\n",
    "      \\eta(0)=0 && \\eta^{\\prime}(0)=0\\\\ \\eta^{\\prime\\prime}(L)=0 && \\eta^{\\prime\\prime\\prime}(L)=\\frac{F}{EI}\n",
    "  \\end{align*}\n",
    "  \n",
    "  La solución analítica de esta ecuación es\n",
    "  \n",
    "  \\begin{align*}\n",
    "      \\eta(x)=\\frac{Fx^2(x-3L)}{6EI}\n",
    "  \\end{align*}"
   ]
  },
  {
   "cell_type": "code",
   "execution_count": 1,
   "metadata": {
    "colab": {
     "base_uri": "https://localhost:8080/"
    },
    "id": "QWMmoWbUDMQe",
    "outputId": "e17e8624-aacc-4332-8a3e-6ffd53b21e35"
   },
   "outputs": [
    {
     "name": "stderr",
     "output_type": "stream",
     "text": [
      "Using backend: tensorflow.compat.v1\n",
      "\n",
      "2022-10-21 22:09:21.948034: I tensorflow/core/platform/cpu_feature_guard.cc:193] This TensorFlow binary is optimized with oneAPI Deep Neural Network Library (oneDNN) to use the following CPU instructions in performance-critical operations:  AVX2 AVX512F AVX512_VNNI FMA\n",
      "To enable them in other operations, rebuild TensorFlow with the appropriate compiler flags.\n",
      "2022-10-21 22:09:22.062442: I tensorflow/core/util/util.cc:169] oneDNN custom operations are on. You may see slightly different numerical results due to floating-point round-off errors from different computation orders. To turn them off, set the environment variable `TF_ENABLE_ONEDNN_OPTS=0`.\n",
      "2022-10-21 22:09:22.066269: W tensorflow/stream_executor/platform/default/dso_loader.cc:64] Could not load dynamic library 'libcudart.so.11.0'; dlerror: libcudart.so.11.0: cannot open shared object file: No such file or directory\n",
      "2022-10-21 22:09:22.066282: I tensorflow/stream_executor/cuda/cudart_stub.cc:29] Ignore above cudart dlerror if you do not have a GPU set up on your machine.\n",
      "2022-10-21 22:09:22.086647: E tensorflow/stream_executor/cuda/cuda_blas.cc:2981] Unable to register cuBLAS factory: Attempting to register factory for plugin cuBLAS when one has already been registered\n",
      "2022-10-21 22:09:22.537299: W tensorflow/stream_executor/platform/default/dso_loader.cc:64] Could not load dynamic library 'libnvinfer.so.7'; dlerror: libnvinfer.so.7: cannot open shared object file: No such file or directory\n",
      "2022-10-21 22:09:22.537348: W tensorflow/stream_executor/platform/default/dso_loader.cc:64] Could not load dynamic library 'libnvinfer_plugin.so.7'; dlerror: libnvinfer_plugin.so.7: cannot open shared object file: No such file or directory\n",
      "2022-10-21 22:09:22.537353: W tensorflow/compiler/tf2tensorrt/utils/py_utils.cc:38] TF-TRT Warning: Cannot dlopen some TensorRT libraries. If you would like to use Nvidia GPU with TensorRT, please make sure the missing libraries mentioned above are installed properly.\n"
     ]
    },
    {
     "name": "stdout",
     "output_type": "stream",
     "text": [
      "WARNING:tensorflow:From /home/wind/.local/lib/python3.10/site-packages/tensorflow/python/compat/v2_compat.py:107: disable_resource_variables (from tensorflow.python.ops.variable_scope) is deprecated and will be removed in a future version.\n",
      "Instructions for updating:\n",
      "non-resource variables are not supported in the long term\n"
     ]
    },
    {
     "name": "stderr",
     "output_type": "stream",
     "text": [
      "2022-10-21 22:09:23.201180: E tensorflow/stream_executor/cuda/cuda_driver.cc:265] failed call to cuInit: CUDA_ERROR_NO_DEVICE: no CUDA-capable device is detected\n",
      "2022-10-21 22:09:23.201222: I tensorflow/stream_executor/cuda/cuda_diagnostics.cc:156] kernel driver does not appear to be running on this host (pop-os): /proc/driver/nvidia/version does not exist\n"
     ]
    },
    {
     "name": "stdout",
     "output_type": "stream",
     "text": [
      "WARNING:tensorflow:From /home/wind/.local/lib/python3.10/site-packages/deepxde/nn/initializers.py:118: The name tf.keras.initializers.he_normal is deprecated. Please use tf.compat.v1.keras.initializers.he_normal instead.\n",
      "\n"
     ]
    }
   ],
   "source": [
    "import deepxde as dde\n",
    "import numpy as np\n",
    "import matplotlib.pyplot as plt\n",
    "\n",
    "#Usar doble precisión si la GPU lo soporta. Float32 por defecto.\n",
    "dde.config.real.set_float64()"
   ]
  },
  {
   "cell_type": "markdown",
   "metadata": {
    "id": "4S4MQZIcGcKb"
   },
   "source": [
    "## 1. Definir la Ecuación a Resolver\n",
    "\n",
    "Se definen las derivadas de forma consecutiva dado que solo se pueden calcular directamente derivadas hasta de orden 2."
   ]
  },
  {
   "cell_type": "code",
   "execution_count": 2,
   "metadata": {
    "id": "T5N8ICEQGUO4"
   },
   "outputs": [],
   "source": [
    "I=1.0\n",
    "F=3.0\n",
    "E=1.0\n",
    "L=1\n",
    "\n",
    "def ode1(x, y):\n",
    "    dy_dt = dde.grad.jacobian(y, x)\n",
    "    d2y_dt2 = dde.grad.hessian(y, x)\n",
    "    d3y_dt3 =dde.grad.jacobian(d2y_dt2,x)\n",
    "    d4y_dt4 = dde.grad.hessian(d2y_dt2, x)\n",
    "    return E*I*d4y_dt4 \n",
    "\n",
    "def func(x):\n",
    "    return F*x**2*(x-3*L)/(6*E*I)"
   ]
  },
  {
   "cell_type": "markdown",
   "metadata": {
    "id": "FrKZ58Zh_hZ8"
   },
   "source": [
    "## **2. Definir Dominio de la Ecuación**\n",
    "\n",
    "Dado que estamos tratando con una ecuacion diferencial ordinaria, podemos hacer usu de el dominio definido por .TimeDomain().\n",
    "\n",
    "~~~python\n",
    "class deepxde.geometry.timedomain.TimeDomain(t0, t1)\n",
    "~~~\n",
    "\n",
    "Esta clase de dominio crea el booleano para definir las coondiciones iniciales\n",
    "\n",
    "~~~pyhton\n",
    "on_initial(t)\n",
    "~~~"
   ]
  },
  {
   "cell_type": "code",
   "execution_count": 3,
   "metadata": {
    "id": "9oGOzSpLGa1i"
   },
   "outputs": [],
   "source": [
    "geom = dde.geometry.TimeDomain(0, L)"
   ]
  },
  {
   "cell_type": "markdown",
   "metadata": {
    "id": "zjuxEQMY_mOl"
   },
   "source": [
    "## **3. Definir Condiciones Iniciales y de Frontera**\n",
    "\n",
    "Las condiciones iniciales de sistema estan dadas en funcion de las derivadas por lo que en cada dominio definimos las derivadas de forma analoga a la definicion de la ecuación diferencial.\n",
    "\n",
    "~~~python\n",
    "class deepxde.icbc.initial_conditions.IC(geom, \n",
    "                                         func, \n",
    "                                         on_initial, \n",
    "                                         component=0)\n",
    "~~~\n",
    "\n",
    "Initial conditions: y([x, t0]) = func([x, t0])"
   ]
  },
  {
   "cell_type": "code",
   "execution_count": 4,
   "metadata": {
    "id": "jdn6Q5MTVUJL"
   },
   "outputs": [],
   "source": [
    "def IC_1(x):\n",
    "    return 0 \n",
    "\n",
    "def IC_2(inputs, outputs, x):\n",
    "    return dde.grad.jacobian(outputs, inputs)-0\n",
    "\n",
    "def IC_3(inputs, outputs, x):\n",
    "    return dde.grad.hessian(outputs, inputs)-0\n",
    "\n",
    "def IC_4(inputs, outputs, x):\n",
    "    dy_dx = dde.grad.jacobian(outputs, inputs)\n",
    "    return dde.grad.hessian(dy_dx, inputs)-F/(E*I)\n",
    "\n",
    "IC1 = dde.icbc.IC(geom,         IC_1, lambda x, on_initial: on_initial)\n",
    "IC2 = dde.icbc.OperatorBC(geom, IC_2, lambda x, on_initial: on_initial)\n",
    "IC3 = dde.icbc.OperatorBC(geom, IC_3, lambda x, on_initial: np.isclose(x[0], L))\n",
    "IC4 = dde.icbc.OperatorBC(geom, IC_4, lambda x, on_initial: np.isclose(x[0], L))"
   ]
  },
  {
   "cell_type": "markdown",
   "metadata": {
    "id": "kXPe8FLU__yz"
   },
   "source": [
    "## **4. Crear Datos de Entrenamiento**\n",
    "\n",
    "vamos a crear los datos de entrenamiento\n",
    "\n",
    "~~~python\n",
    "class deepxde.data.pde.TimePDE(geometryxtime, \n",
    "                               pde, \n",
    "                               ic_bcs, \n",
    "                               num_domain=0, \n",
    "                               num_boundary=0, \n",
    "                               num_initial=0, \n",
    "                               train_distribution='Hammersley', \n",
    "                               anchors=None, \n",
    "                               exclusions=None, \n",
    "                               solution=None, \n",
    "                               num_test=None, \n",
    "                               auxiliary_var_function=None\n",
    "~~~\n",
    "\n",
    "Detalles en https://deepxde.readthedocs.io/en/latest/modules/deepxde.data.html?highlight=data.TimePDE#deepxde.data.pde.TimePDE. "
   ]
  },
  {
   "cell_type": "code",
   "execution_count": 5,
   "metadata": {
    "id": "k4pPtNNyxvPt"
   },
   "outputs": [],
   "source": [
    "data1 = dde.data.TimePDE(geom, ode1, [IC1,IC2, IC3, IC4], 14, 8, solution=func)"
   ]
  },
  {
   "cell_type": "markdown",
   "metadata": {
    "id": "5okJv2lnAD28"
   },
   "source": [
    "## **5. Crear la Red Neuronal**\n",
    "\n",
    "Vamos a utilizar una **Fully-connected neural network**.\n",
    "\n",
    "~~~python\n",
    "class deepxde.nn.tensorflow.fnn.FNN(layer_sizes, activation, \n",
    "                                    kernel_initializer, \n",
    "                                    regularization=None, \n",
    "                                    dropout_rate=0)\n",
    "~~~"
   ]
  },
  {
   "cell_type": "code",
   "execution_count": 6,
   "metadata": {
    "id": "KHZMTgOm1b_-"
   },
   "outputs": [],
   "source": [
    "layer_size = [1] + [30]*3 + [1]\n",
    "activation = \"tanh\"\n",
    "initializer = \"Glorot uniform\"\n",
    "net1 = dde.nn.FNN(layer_size, activation, initializer)"
   ]
  },
  {
   "cell_type": "markdown",
   "metadata": {
    "id": "RWKXH7vXALsP"
   },
   "source": [
    "## **6. Compilar y Entrenar el Modelo**"
   ]
  },
  {
   "cell_type": "code",
   "execution_count": 7,
   "metadata": {
    "id": "9WVi9vWk1kuw"
   },
   "outputs": [
    {
     "name": "stdout",
     "output_type": "stream",
     "text": [
      "Compiling model...\n",
      "Building feed-forward neural network...\n",
      "'build' took 0.036697 s\n",
      "\n"
     ]
    },
    {
     "name": "stderr",
     "output_type": "stream",
     "text": [
      "/home/wind/.local/lib/python3.10/site-packages/deepxde/nn/tensorflow_compat_v1/fnn.py:103: UserWarning: `tf.layers.dense` is deprecated and will be removed in a future version. Please use `tf.keras.layers.Dense` instead.\n",
      "  return tf.layers.dense(\n",
      "2022-10-21 22:09:24.581611: I tensorflow/core/platform/cpu_feature_guard.cc:193] This TensorFlow binary is optimized with oneAPI Deep Neural Network Library (oneDNN) to use the following CPU instructions in performance-critical operations:  AVX2 AVX512F AVX512_VNNI FMA\n",
      "To enable them in other operations, rebuild TensorFlow with the appropriate compiler flags.\n"
     ]
    },
    {
     "name": "stdout",
     "output_type": "stream",
     "text": [
      "'compile' took 1.454638 s\n",
      "\n",
      "Initializing variables...\n",
      "Training model...\n",
      "\n"
     ]
    },
    {
     "name": "stderr",
     "output_type": "stream",
     "text": [
      "2022-10-21 22:09:26.029976: I tensorflow/compiler/mlir/mlir_graph_optimization_pass.cc:354] MLIR V1 optimization pass is not enabled\n"
     ]
    },
    {
     "name": "stdout",
     "output_type": "stream",
     "text": [
      "Step      Train loss                                            Test loss                                             Test metric\n",
      "0         [3.75e-01, 0.00e+00, 4.74e-02, 3.39e-02, 9.88e+00]    [3.75e-01, 0.00e+00, 4.74e-02, 3.39e-02, 9.88e+00]    []  \n",
      "1000      [8.34e-03, 6.20e-06, 3.22e-01, 6.65e-02, 2.24e-02]                                                              \n",
      "2000      [1.01e-03, 5.11e-07, 3.85e-04, 1.26e-09, 3.40e-07]                                                              \n",
      "3000      [1.39e-05, 1.71e-07, 1.63e-04, 1.23e-05, 2.09e-08]                                                              \n",
      "4000      [1.06e-05, 1.27e-08, 4.83e-05, 6.64e-06, 5.24e-09]                                                              \n",
      "5000      [4.17e-06, 1.06e-10, 2.13e-05, 2.00e-06, 4.10e-09]                                                              \n",
      "6000      [4.82e-06, 1.65e-10, 5.13e-06, 4.82e-07, 3.32e-10]                                                              \n",
      "7000      [5.20e-06, 6.96e-10, 4.08e-07, 6.97e-08, 3.71e-09]                                                              \n",
      "8000      [3.43e-06, 1.03e-11, 1.27e-07, 1.46e-08, 1.34e-09]                                                              \n",
      "9000      [2.15e-06, 2.21e-11, 7.47e-08, 1.09e-08, 4.91e-11]                                                              \n",
      "10000     [1.52e-06, 3.58e-11, 3.55e-08, 4.51e-09, 9.45e-12]                                                              \n",
      "INFO:tensorflow:Optimization terminated with:\n",
      "  Message: STOP: TOTAL NO. of f AND g EVALUATIONS EXCEEDS LIMIT\n",
      "  Objective function value: 0.000002\n",
      "  Number of iterations: 7977\n",
      "  Number of functions evaluations: 10001\n",
      "10001     [1.52e-06, 2.19e-11, 3.58e-08, 3.99e-09, 1.48e-11]    [1.52e-06, 2.19e-11, 3.58e-08, 3.99e-09, 1.48e-11]    []  \n",
      "\n",
      "Best model at step 10001:\n",
      "  train loss: 1.56e-06\n",
      "  test loss: 1.56e-06\n",
      "  test metric: []\n",
      "\n",
      "'train' took 48.605328 s\n",
      "\n"
     ]
    }
   ],
   "source": [
    "# Modelo\n",
    "model1 = dde.Model(data1, net1)\n",
    "\n",
    "# Optimizador L-BFGS-B\n",
    "dde.optimizers.config.set_LBFGS_options(maxiter=8000)\n",
    "\n",
    "model1.compile(\"L-BFGS\")\n",
    "losshistory1, train_state1 = model1.train()"
   ]
  },
  {
   "cell_type": "markdown",
   "metadata": {},
   "source": [
    "## 7. Visualizar la solución"
   ]
  },
  {
   "cell_type": "code",
   "execution_count": 8,
   "metadata": {},
   "outputs": [
    {
     "data": {
      "image/png": "[encoded data removed]",
      "text/plain": [
       "<Figure size 432x288 with 1 Axes>"
      ]
     },
     "metadata": {
      "needs_background": "light"
     },
     "output_type": "display_data"
    },
    {
     "data": {
      "image/png": "[encoded data removed]",
      "text/plain": [
       "<Figure size 432x288 with 1 Axes>"
      ]
     },
     "metadata": {
      "needs_background": "light"
     },
     "output_type": "display_data"
    }
   ],
   "source": [
    "dde.saveplot(losshistory1, train_state1, issave=False, isplot=True) "
   ]
  },
  {
   "cell_type": "markdown",
   "metadata": {},
   "source": [
    "## Cómo Mejorar esta Solución? Hay que Partir la Ecuación\n",
    "\n",
    "Creamos un sistema de ecuaciones de la siguiente manera\n",
    "\n",
    "\\begin{equation}\n",
    "    \\begin{split}\n",
    "        & y^\\prime=A \\\\\n",
    "        & y^{\\prime\\prime} = A^\\prime \\qquad A^\\prime=B \\\\\n",
    "        & y^{\\prime\\prime\\prime} = B^\\prime \\qquad B^\\prime=C \\\\\n",
    "        & y^{\\prime\\prime\\prime\\prime} = C^\\prime \\\\\n",
    "    \\end{split}\n",
    "\\end{equation}\n",
    "\n",
    "Entonces la ecuación\n",
    "\n",
    "  \\begin{equation*}\n",
    "      EI\\frac{d^4\\eta}{dx^4}=0\n",
    "  \\end{equation*}\n",
    "\n",
    "Se puede escribir como el sistema de ecuaciones:\n",
    "\n",
    "\\begin{equation}\n",
    "    \\begin{split}\n",
    "        & A-y^\\prime=0 \\\\\n",
    "        & B-A^\\prime=0 \\\\\n",
    "        & C-B^\\prime=0 \\\\\n",
    "        & EIC^\\prime=0 \\\\\n",
    "    \\end{split}\n",
    "\\end{equation}"
   ]
  },
  {
   "cell_type": "code",
   "execution_count": 9,
   "metadata": {},
   "outputs": [],
   "source": [
    "def ode2(x, y):\n",
    "    Y, A, B, C = y[:, 0:1], y[:, 1:2], y[:, 2:3], y[:, 3:]\n",
    "    dy_dx = dde.grad.jacobian(y, x, i=0)\n",
    "    dA_dx = dde.grad.jacobian(y, x, i=1)\n",
    "    dB_dx = dde.grad.jacobian(y, x, i=2)\n",
    "    dC_dx = dde.grad.jacobian(y, x, i=3)\n",
    "    return [A-dy_dx, \n",
    "            B-dA_dx, \n",
    "            C-dB_dx,\n",
    "            E*I*dC_dx,\n",
    "           ]"
   ]
  },
  {
   "cell_type": "markdown",
   "metadata": {},
   "source": [
    "## Condiciones de Frontera"
   ]
  },
  {
   "cell_type": "code",
   "execution_count": 10,
   "metadata": {},
   "outputs": [],
   "source": [
    "IC1 = dde.icbc.IC(geom, lambda x: 0      , lambda x, on_initial: on_initial,          component=0) # Y\n",
    "IC2 = dde.icbc.IC(geom, lambda x: 0      , lambda x, on_initial: on_initial,          component=1) # A = Y'\n",
    "IC3 = dde.icbc.IC(geom, lambda x: 0      , lambda x, on_initial: np.isclose(x[0], L), component=2) # B = Y''\n",
    "IC4 = dde.icbc.IC(geom, lambda x: F/(E*I), lambda x, on_initial: np.isclose(x[0], L), component=3) # C = Y'''"
   ]
  },
  {
   "cell_type": "markdown",
   "metadata": {},
   "source": [
    "## Datos de Entrenamiento"
   ]
  },
  {
   "cell_type": "code",
   "execution_count": 11,
   "metadata": {},
   "outputs": [],
   "source": [
    "data2 = dde.data.TimePDE(geom, ode2, [IC1,IC2, IC3, IC4], 14, 8, num_test=0)"
   ]
  },
  {
   "cell_type": "markdown",
   "metadata": {},
   "source": [
    "## Red Neuronal"
   ]
  },
  {
   "cell_type": "code",
   "execution_count": 12,
   "metadata": {},
   "outputs": [],
   "source": [
    "layer_size = [1] + [30]*3 + [4]\n",
    "activation = \"tanh\"\n",
    "initializer = \"Glorot uniform\"\n",
    "net2 = dde.nn.PFNN(layer_size, activation, initializer)"
   ]
  },
  {
   "cell_type": "markdown",
   "metadata": {},
   "source": [
    "## Compilar y Entrenar la Red"
   ]
  },
  {
   "cell_type": "code",
   "execution_count": 13,
   "metadata": {},
   "outputs": [
    {
     "name": "stdout",
     "output_type": "stream",
     "text": [
      "Compiling model...\n",
      "Building feed-forward neural network...\n",
      "'build' took 0.036028 s\n",
      "\n",
      "'compile' took 0.307084 s\n",
      "\n",
      "Initializing variables...\n",
      "Training model...\n",
      "\n",
      "Step      Train loss                                                                          Test loss                                                                           Test metric\n",
      "0         [6.19e-01, 1.21e-01, 1.00e+00, 1.04e-01, 0.00e+00, 0.00e+00, 7.22e-01, 7.17e+00]    [nan, nan, nan, nan, 0.00e+00, 0.00e+00, 7.22e-01, 7.17e+00]                        []  \n",
      "1000      [5.02e-10, 1.82e-09, 1.09e-09, 9.00e-10, 1.13e-14, 1.24e-14, 2.69e-13, 6.65e-14]                                                                                            \n",
      "2000      [2.76e-10, 3.07e-10, 1.16e-10, 1.55e-10, 4.44e-14, 1.39e-14, 1.97e-16, 1.41e-14]                                                                                            \n",
      "3000      [5.29e-11, 9.33e-12, 3.93e-11, 3.13e-11, 2.60e-15, 3.23e-16, 7.60e-16, 3.82e-15]                                                                                            \n",
      "4000      [5.46e-11, 1.33e-11, 3.88e-11, 1.79e-11, 4.62e-17, 3.87e-17, 2.03e-16, 3.61e-17]                                                                                            \n",
      "5000      [4.98e-11, 1.04e-11, 2.99e-11, 1.84e-11, 1.57e-16, 1.58e-16, 7.72e-18, 1.33e-17]                                                                                            \n",
      "6000      [3.79e-11, 1.21e-11, 1.23e-11, 1.52e-11, 1.62e-16, 2.74e-16, 1.15e-16, 8.14e-17]                                                                                            \n",
      "7000      [3.42e-11, 6.30e-12, 4.72e-12, 1.14e-11, 6.30e-15, 1.83e-15, 7.21e-14, 7.85e-15]                                                                                            \n",
      "8000      [2.08e-11, 4.28e-12, 2.04e-12, 6.36e-12, 9.61e-18, 1.58e-16, 5.16e-17, 3.53e-16]                                                                                            \n",
      "INFO:tensorflow:Optimization terminated with:\n",
      "  Message: STOP: TOTAL NO. of ITERATIONS REACHED LIMIT\n",
      "  Objective function value: 0.000000\n",
      "  Number of iterations: 8000\n",
      "  Number of functions evaluations: 8961\n",
      "8961      [1.78e-11, 4.16e-12, 5.08e-12, 4.88e-12, 1.29e-17, 4.09e-18, 8.19e-18, 9.92e-18]    [nan, nan, nan, nan, 1.29e-17, 4.09e-18, 8.19e-18, 9.92e-18]                        []  \n",
      "\n",
      "Best model at step 8961:\n",
      "  train loss: 3.19e-11\n",
      "  test loss: nan\n",
      "  test metric: []\n",
      "\n",
      "'train' took 36.863812 s\n",
      "\n"
     ]
    }
   ],
   "source": [
    "# Modelo\n",
    "model2 = dde.Model(data2, net2)\n",
    "\n",
    "# Optimizador L-BFGS-B\n",
    "dde.optimizers.config.set_LBFGS_options(maxiter=8000, gtol=1e-14)\n",
    "\n",
    "model2.compile(\"L-BFGS\")\n",
    "losshistory2, train_state2 = model2.train()"
   ]
  },
  {
   "cell_type": "markdown",
   "metadata": {},
   "source": [
    "## Visualizar la solución"
   ]
  },
  {
   "cell_type": "code",
   "execution_count": 14,
   "metadata": {},
   "outputs": [
    {
     "data": {
      "image/png": "[encoded data removed]",
      "text/plain": [
       "<Figure size 432x288 with 1 Axes>"
      ]
     },
     "metadata": {
      "needs_background": "light"
     },
     "output_type": "display_data"
    },
    {
     "data": {
      "image/png": "[encoded data removed]",
      "text/plain": [
       "<Figure size 432x288 with 1 Axes>"
      ]
     },
     "metadata": {
      "needs_background": "light"
     },
     "output_type": "display_data"
    }
   ],
   "source": [
    "x = geom.uniform_points(20)\n",
    "y = model2.predict(x)\n",
    "dde.utils.external.plot_loss_history(losshistory2)\n",
    "\n",
    "plt.figure()\n",
    "plt.plot(x,y[:,0],'--',color='red',label='predict')\n",
    "plt.plot(x,func(x),'o',color='black',label='solution')\n",
    "plt.legend()\n",
    "plt.show()"
   ]
  }
 ],
 "metadata": {
  "colab": {
   "collapsed_sections": [],
   "provenance": []
  },
  "kernelspec": {
   "display_name": "Python 3.10.0 64-bit",
   "language": "python",
   "name": "python3"
  },
  "language_info": {
   "codemirror_mode": {
    "name": "ipython",
    "version": 3
   },
   "file_extension": ".py",
   "mimetype": "text/x-python",
   "name": "python",
   "nbconvert_exporter": "python",
   "pygments_lexer": "ipython3",
   "version": "3.10.0"
  },
  "vscode": {
   "interpreter": {
    "hash": "a9cff5a362bc38ef45d817ae74b1af54d6a076e3d773891282bce078b815ba34"
   }
  }
 },
 "nbformat": 4,
 "nbformat_minor": 1
}
