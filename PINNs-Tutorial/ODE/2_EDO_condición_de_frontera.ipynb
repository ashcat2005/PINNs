{
  "nbformat": 4,
  "nbformat_minor": 0,
  "metadata": {
    "colab": {
      "provenance": [],
      "collapsed_sections": []
    },
    "kernelspec": {
      "name": "python3",
      "display_name": "Python 3"
    },
    "language_info": {
      "name": "python"
    }
  },
  "cells": [
    {
      "cell_type": "markdown",
      "source": [
        "---\n",
        "#**Ecuacion diferencial ordinaria con condicion de frontera**\n",
        "\n",
        "David Felipe Bambague (dbambague@unal.edu.co)\n",
        "\n",
        "---"
      ],
      "metadata": {
        "id": "E4g1C6sc8qku"
      }
    },
    {
      "cell_type": "markdown",
      "source": [
        " Vamos a resolver la ecuación difrerncial que da cuenta de las oscilaciones de una viga con extremo fijo y extremo libre.\n",
        "\n",
        "  \\begin{equation*}\n",
        "      y^{\\prime\\prime} -4y =0\n",
        "  \\end{equation*}\n",
        "\n",
        "  Las condiciones de frontera del problema son:\n",
        "\n",
        "  \\begin{equation*}\n",
        "      y(0)=0\\\\\n",
        "      y(1)=5\\\\\n",
        "  \\end{equation*}"
      ],
      "metadata": {
        "id": "Rb11DSj8_HFs"
      }
    },
    {
      "cell_type": "code",
      "source": [
        "!pip install deepxde"
      ],
      "metadata": {
        "id": "2vV1Oa9P_JbN",
        "colab": {
          "base_uri": "https://localhost:8080/"
        },
        "outputId": "3c37978d-5d43-4f09-83c1-409319435902"
      },
      "execution_count": 84,
      "outputs": [
        {
          "output_type": "stream",
          "name": "stdout",
          "text": [
            "Looking in indexes: https://pypi.org/simple, https://us-python.pkg.dev/colab-wheels/public/simple/\n",
            "Requirement already satisfied: deepxde in /usr/local/lib/python3.7/dist-packages (1.7.0)\n",
            "Requirement already satisfied: numpy in /usr/local/lib/python3.7/dist-packages (from deepxde) (1.21.6)\n",
            "Requirement already satisfied: scipy in /usr/local/lib/python3.7/dist-packages (from deepxde) (1.7.3)\n",
            "Requirement already satisfied: scikit-optimize>=0.9.0 in /usr/local/lib/python3.7/dist-packages (from deepxde) (0.9.0)\n",
            "Requirement already satisfied: matplotlib in /usr/local/lib/python3.7/dist-packages (from deepxde) (3.2.2)\n",
            "Requirement already satisfied: scikit-learn in /usr/local/lib/python3.7/dist-packages (from deepxde) (1.0.2)\n",
            "Requirement already satisfied: pyaml>=16.9 in /usr/local/lib/python3.7/dist-packages (from scikit-optimize>=0.9.0->deepxde) (21.10.1)\n",
            "Requirement already satisfied: joblib>=0.11 in /usr/local/lib/python3.7/dist-packages (from scikit-optimize>=0.9.0->deepxde) (1.2.0)\n",
            "Requirement already satisfied: PyYAML in /usr/local/lib/python3.7/dist-packages (from pyaml>=16.9->scikit-optimize>=0.9.0->deepxde) (6.0)\n",
            "Requirement already satisfied: threadpoolctl>=2.0.0 in /usr/local/lib/python3.7/dist-packages (from scikit-learn->deepxde) (3.1.0)\n",
            "Requirement already satisfied: cycler>=0.10 in /usr/local/lib/python3.7/dist-packages (from matplotlib->deepxde) (0.11.0)\n",
            "Requirement already satisfied: pyparsing!=2.0.4,!=2.1.2,!=2.1.6,>=2.0.1 in /usr/local/lib/python3.7/dist-packages (from matplotlib->deepxde) (3.0.9)\n",
            "Requirement already satisfied: kiwisolver>=1.0.1 in /usr/local/lib/python3.7/dist-packages (from matplotlib->deepxde) (1.4.4)\n",
            "Requirement already satisfied: python-dateutil>=2.1 in /usr/local/lib/python3.7/dist-packages (from matplotlib->deepxde) (2.8.2)\n",
            "Requirement already satisfied: typing-extensions in /usr/local/lib/python3.7/dist-packages (from kiwisolver>=1.0.1->matplotlib->deepxde) (4.1.1)\n",
            "Requirement already satisfied: six>=1.5 in /usr/local/lib/python3.7/dist-packages (from python-dateutil>=2.1->matplotlib->deepxde) (1.15.0)\n"
          ]
        }
      ]
    },
    {
      "cell_type": "code",
      "source": [
        "import deepxde as dde\n",
        "import numpy as np\n",
        "import matplotlib.pyplot as plt\n",
        "\n",
        "#Usar doble precisión si la GPU lo soporta. Float32 por defecto.\n",
        "dde.config.real.set_float64()"
      ],
      "metadata": {
        "id": "8J0bt3qo_Qa-"
      },
      "execution_count": 85,
      "outputs": []
    },
    {
      "cell_type": "markdown",
      "source": [
        "##**1. Definir la Ecuación a Resolver**"
      ],
      "metadata": {
        "id": "S0H4zcTs_UHn"
      }
    },
    {
      "cell_type": "code",
      "source": [
        "def ode(x,y):\n",
        "  dy_dx = dde.grad.jacobian(y,x)\n",
        "  d2y_dx2 = dde.grad.hessian(y,x)\n",
        "  return  d2y_dx2 - 4*dy_dx\n",
        "  "
      ],
      "metadata": {
        "id": "CjGyAoys_RP0"
      },
      "execution_count": 86,
      "outputs": []
    },
    {
      "cell_type": "markdown",
      "source": [
        "##**2. Definir Dominio de la Ecuación**"
      ],
      "metadata": {
        "id": "-zyQghlF_c_f"
      }
    },
    {
      "cell_type": "code",
      "source": [
        "geom = dde.geometry.Interval(0, 1)"
      ],
      "metadata": {
        "id": "HJQCyDLD_d8c"
      },
      "execution_count": 87,
      "outputs": []
    },
    {
      "cell_type": "markdown",
      "source": [
        "##**3. Definir Condiciones de Frontera**"
      ],
      "metadata": {
        "id": "Ri2N1cKs_eWN"
      }
    },
    {
      "cell_type": "code",
      "source": [
        "def boundary(x, on_boundary):\n",
        "    return on_boundary"
      ],
      "metadata": {
        "id": "IN82LxJ8_in_"
      },
      "execution_count": 88,
      "outputs": []
    },
    {
      "cell_type": "code",
      "source": [
        "#def func(x):\n",
        " # c = 5.0/np.sinh(2)\n",
        "  #return c*np.sinh(2*x)"
      ],
      "metadata": {
        "id": "RMpLdmJ-CaMA"
      },
      "execution_count": 89,
      "outputs": []
    },
    {
      "cell_type": "code",
      "source": [
        "bc = dde.icbc.DirichletBC(geom, func, boundary)"
      ],
      "metadata": {
        "id": "JPxoN5IPBbqa"
      },
      "execution_count": 90,
      "outputs": []
    },
    {
      "cell_type": "markdown",
      "source": [
        "##**4. Crear Datos de Entrenamiento**"
      ],
      "metadata": {
        "id": "XIbKWxlC_i8f"
      }
    },
    {
      "cell_type": "code",
      "execution_count": 91,
      "metadata": {
        "id": "O-f_T5ua8X3G"
      },
      "outputs": [],
      "source": [
        " data = dde.data.PDE(geom, ode, bc, 16, 2, solution=func, num_test=100)"
      ]
    },
    {
      "cell_type": "markdown",
      "source": [
        "##**5. Crear la Red Neuronal**"
      ],
      "metadata": {
        "id": "ByaL3SDH_oBD"
      }
    },
    {
      "cell_type": "code",
      "source": [
        "layer_size = [1] + [50] * 3 + [1]\n",
        "activation = \"tanh\"\n",
        "initializer = \"Glorot uniform\"\n",
        "net = dde.nn.FNN(layer_size, activation, initializer)"
      ],
      "metadata": {
        "id": "ani0vqiB_sWo"
      },
      "execution_count": 92,
      "outputs": []
    },
    {
      "cell_type": "markdown",
      "source": [
        "##**6. Compilar y Entrenar el Modelo**"
      ],
      "metadata": {
        "id": "WG_jewg0_sok"
      }
    },
    {
      "cell_type": "code",
      "source": [
        "model = dde.Model(data, net)\n",
        "model.compile(\"adam\", lr=0.001, metrics=[\"l2 relative error\"])\n",
        "\n",
        "losshistory, train_state = model.train(iterations=10000)"
      ],
      "metadata": {
        "colab": {
          "base_uri": "https://localhost:8080/"
        },
        "id": "iP7oLLrWEEKw",
        "outputId": "9a222e49-5c3e-40fe-99de-d8d22da224a9"
      },
      "execution_count": 93,
      "outputs": [
        {
          "output_type": "stream",
          "name": "stdout",
          "text": [
            "Compiling model...\n",
            "Building feed-forward neural network...\n",
            "'build' took 0.100485 s\n",
            "\n"
          ]
        },
        {
          "output_type": "stream",
          "name": "stderr",
          "text": [
            "/usr/local/lib/python3.7/dist-packages/deepxde/nn/tensorflow_compat_v1/fnn.py:110: UserWarning: `tf.layers.dense` is deprecated and will be removed in a future version. Please use `tf.keras.layers.Dense` instead.\n",
            "  kernel_constraint=self.kernel_constraint,\n"
          ]
        },
        {
          "output_type": "stream",
          "name": "stdout",
          "text": [
            "'compile' took 0.955858 s\n",
            "\n",
            "Initializing variables...\n",
            "Training model...\n",
            "\n",
            "Step      Train loss              Test loss               Test metric   \n",
            "0         [6.90e-01, 1.35e+01]    [6.92e-01, 1.35e+01]    [1.05e+00]    \n",
            "1000      [1.82e-01, 5.72e+00]    [1.55e-01, 5.72e+00]    [6.12e-01]    \n",
            "2000      [1.89e-02, 2.34e-04]    [3.26e-02, 2.34e-04]    [3.47e-01]    \n",
            "3000      [2.64e-03, 7.16e-06]    [6.49e-03, 7.16e-06]    [3.49e-01]    \n",
            "4000      [9.05e-04, 1.64e-06]    [3.13e-03, 1.64e-06]    [3.49e-01]    \n",
            "5000      [4.21e-04, 5.94e-07]    [1.85e-03, 5.94e-07]    [3.49e-01]    \n",
            "6000      [2.21e-04, 2.15e-07]    [1.21e-03, 2.15e-07]    [3.49e-01]    \n",
            "7000      [1.36e-04, 2.17e-07]    [1.01e-03, 2.17e-07]    [3.49e-01]    \n",
            "8000      [8.05e-05, 6.74e-08]    [7.19e-04, 6.74e-08]    [3.49e-01]    \n",
            "9000      [6.31e-05, 9.36e-08]    [6.86e-04, 9.36e-08]    [3.49e-01]    \n",
            "10000     [5.68e-05, 4.59e-07]    [6.63e-04, 4.59e-07]    [3.49e-01]    \n",
            "\n",
            "Best model at step 10000:\n",
            "  train loss: 5.73e-05\n",
            "  test loss: 6.63e-04\n",
            "  test metric: [3.49e-01]\n",
            "\n",
            "'train' took 22.138911 s\n",
            "\n"
          ]
        }
      ]
    },
    {
      "cell_type": "markdown",
      "source": [
        "##**7. Graficar Solucion**"
      ],
      "metadata": {
        "id": "ZZWNKPN3EGcM"
      }
    },
    {
      "cell_type": "code",
      "source": [
        "dde.saveplot(losshistory, train_state, issave=True, isplot=True)\n"
      ],
      "metadata": {
        "colab": {
          "base_uri": "https://localhost:8080/",
          "height": 593
        },
        "id": "0wZrMz79FMFt",
        "outputId": "fddba741-988c-4ad2-c82e-b3c214b3edb7"
      },
      "execution_count": 94,
      "outputs": [
        {
          "output_type": "stream",
          "name": "stdout",
          "text": [
            "Saving loss history to /content/loss.dat ...\n",
            "Saving training data to /content/train.dat ...\n",
            "Saving test data to /content/test.dat ...\n"
          ]
        },
        {
          "output_type": "display_data",
          "data": {
            "text/plain": [
              "<Figure size 432x288 with 1 Axes>"
            ],
            "image/png": "[encoded data removed]"
          },
          "metadata": {
            "needs_background": "light"
          }
        },
        {
          "output_type": "display_data",
          "data": {
            "text/plain": [
              "<Figure size 432x288 with 1 Axes>"
            ],
            "image/png": "[encoded data removed]"
          },
          "metadata": {
            "needs_background": "light"
          }
        }
      ]
    },
    {
      "cell_type": "code",
      "source": [
        "dde.optimizers.config.set_LBFGS_options(maxiter=1000)\n",
        "model.compile(\"L-BFGS-B\")\n",
        "losshistory, train_state = model.train()\n"
      ],
      "metadata": {
        "colab": {
          "base_uri": "https://localhost:8080/"
        },
        "id": "zlkoVUujKd4w",
        "outputId": "28324084-28a3-4898-f0ed-5762784222a6"
      },
      "execution_count": 95,
      "outputs": [
        {
          "output_type": "stream",
          "name": "stdout",
          "text": [
            "Compiling model...\n",
            "'compile' took 0.579065 s\n",
            "\n",
            "Training model...\n",
            "\n",
            "Step      Train loss              Test loss               Test metric\n",
            "10000     [5.68e-05, 4.59e-07]    [6.63e-04, 4.59e-07]    []  \n",
            "10616     [1.20e-09, 2.97e-18]    [4.62e-06, 2.97e-18]    []  \n",
            "\n",
            "Best model at step 10616:\n",
            "  train loss: 1.20e-09\n",
            "  test loss: 4.62e-06\n",
            "  test metric: []\n",
            "\n",
            "'train' took 34.414227 s\n",
            "\n"
          ]
        }
      ]
    },
    {
      "cell_type": "code",
      "source": [
        "dde.utils.external.plot_best_state(train_state)\n"
      ],
      "metadata": {
        "colab": {
          "base_uri": "https://localhost:8080/",
          "height": 279
        },
        "id": "DVIOhtFZKyp9",
        "outputId": "6e2ddcfd-8fc5-4b10-962b-f8c0b3191bb8"
      },
      "execution_count": 96,
      "outputs": [
        {
          "output_type": "display_data",
          "data": {
            "text/plain": [
              "<Figure size 432x288 with 1 Axes>"
            ],
            "image/png": "[encoded data removed]"
          },
          "metadata": {
            "needs_background": "light"
          }
        }
      ]
    }
  ]
}