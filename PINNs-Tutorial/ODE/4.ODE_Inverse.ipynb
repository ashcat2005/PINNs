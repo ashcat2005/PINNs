{
 "cells": [
  {
   "cell_type": "markdown",
   "id": "8656e974",
   "metadata": {},
   "source": [
    "![Semillero Astrofisica](../logo.PNG)"
   ]
  },
  {
   "cell_type": "markdown",
   "id": "43096876",
   "metadata": {},
   "source": [
    "---\n",
    "# Ecuaciones Diferenciales Ordinarias: Problema Inverso\n",
    "\n",
    "Carlos Andrés del Valle (cdelv@unal.edu.co)\n",
    "\n",
    "---"
   ]
  },
  {
   "cell_type": "markdown",
   "id": "d2ab1088",
   "metadata": {},
   "source": [
    "Vamos a resolver un problema inverso. Es decir, no solo queremos resolver la ecuación diferencial sino que también queremos descubrir parámetros de la ecuación. Para esto vamos a utilizar una solución de referencia y la ecuación del péndulo. Nuestras incógnitas serán el ángulo y la frecuencia angular.\n",
    "\n",
    "\\begin{equation}\n",
    "    \\ddot{\\theta}+\\omega^2\\sin{\\theta}=0\n",
    "\\end{equation}\n",
    "\n",
    "con \n",
    "\n",
    "\\begin{equation}\n",
    "    \\omega^2=\\frac{g}{L}\n",
    "\\end{equation}\n",
    "\n",
    "Las condiciones iniciales serán \n",
    "\n",
    "\\begin{equation}\n",
    "    \\theta_0=\\frac{\\pi}{2}, \\qquad \\dot{\\theta_0}=0\n",
    "\\end{equation}"
   ]
  },
  {
   "cell_type": "code",
   "execution_count": 1,
   "id": "1dcd02c3",
   "metadata": {},
   "outputs": [
    {
     "name": "stderr",
     "output_type": "stream",
     "text": [
      "Using backend: tensorflow.compat.v1\n",
      "\n",
      "2022-10-20 22:19:51.693119: I tensorflow/core/util/util.cc:169] oneDNN custom operations are on. You may see slightly different numerical results due to floating-point round-off errors from different computation orders. To turn them off, set the environment variable `TF_ENABLE_ONEDNN_OPTS=0`.\n",
      "2022-10-20 22:19:51.696683: W tensorflow/stream_executor/platform/default/dso_loader.cc:64] Could not load dynamic library 'libcudart.so.11.0'; dlerror: libcudart.so.11.0: cannot open shared object file: No such file or directory\n",
      "2022-10-20 22:19:51.696701: I tensorflow/stream_executor/cuda/cudart_stub.cc:29] Ignore above cudart dlerror if you do not have a GPU set up on your machine.\n"
     ]
    },
    {
     "name": "stdout",
     "output_type": "stream",
     "text": [
      "WARNING:tensorflow:From /home/wind/.local/lib/python3.10/site-packages/tensorflow/python/compat/v2_compat.py:107: disable_resource_variables (from tensorflow.python.ops.variable_scope) is deprecated and will be removed in a future version.\n",
      "Instructions for updating:\n",
      "non-resource variables are not supported in the long term\n"
     ]
    },
    {
     "name": "stderr",
     "output_type": "stream",
     "text": [
      "2022-10-20 22:19:52.868847: E tensorflow/stream_executor/cuda/cuda_driver.cc:271] failed call to cuInit: CUDA_ERROR_NO_DEVICE: no CUDA-capable device is detected\n",
      "2022-10-20 22:19:52.868888: I tensorflow/stream_executor/cuda/cuda_diagnostics.cc:156] kernel driver does not appear to be running on this host (pop-os): /proc/driver/nvidia/version does not exist\n"
     ]
    },
    {
     "name": "stdout",
     "output_type": "stream",
     "text": [
      "WARNING:tensorflow:From /home/wind/.local/lib/python3.10/site-packages/deepxde/nn/initializers.py:118: The name tf.keras.initializers.he_normal is deprecated. Please use tf.compat.v1.keras.initializers.he_normal instead.\n",
      "\n"
     ]
    }
   ],
   "source": [
    "import deepxde as dde\n",
    "from deepxde.backend import tf\n",
    "import numpy as np\n",
    "import matplotlib.pyplot as plt\n",
    "\n",
    "#Usar doble precisión si la GPU lo soporta. Float32 por defecto.\n",
    "dde.config.real.set_float64()\n",
    "tf.keras.backend.set_floatx('float64')"
   ]
  },
  {
   "cell_type": "markdown",
   "id": "652b48f1",
   "metadata": {},
   "source": [
    "## Construir la Solución de Referencia\n",
    "\n",
    "Necesitamos algunos datos, como si fueran medidas experimentales. Para simular esto, vamos a resolver la ecuación diferencial con odeint https://docs.scipy.org/doc/scipy/reference/generated/scipy.integrate.odeint.html y luego le vamos a sumar un ruido aleatorio a la solución para usarla luego en la red neuronal. \n",
    "\n",
    "Como es usual para resolver ecuaciones de segundo orden, hacemos la sustitución\n",
    "\n",
    "\\begin{equation}\n",
    "    \\begin{split}\n",
    "        &\\dot{\\theta}=\\zeta \\\\\n",
    "        &\\dot{\\zeta}=-\\omega^2\\sin{\\theta} \\\\\n",
    "    \\end{split}\n",
    "\\end{equation}"
   ]
  },
  {
   "cell_type": "code",
   "execution_count": 2,
   "id": "daca6d0b",
   "metadata": {},
   "outputs": [
    {
     "data": {
      "image/png": "[encoded data removed]",
      "text/plain": [
       "<Figure size 432x288 with 1 Axes>"
      ]
     },
     "metadata": {
      "needs_background": "light"
     },
     "output_type": "display_data"
    }
   ],
   "source": [
    "from scipy.integrate import odeint\n",
    "g=10\n",
    "L=1\n",
    "\n",
    "def model(y,t):\n",
    "    θ, ζ = y\n",
    "    dθ = ζ\n",
    "    dζ = -(g/L)*np.sin(θ)\n",
    "    return [dθ, dζ]\n",
    "\n",
    "# time points\n",
    "time = np.linspace(0, 5, 70)\n",
    "\n",
    "# solve ODE\n",
    "y0 = [np.pi/2, 0.0]\n",
    "sol = odeint(model,y0,time)\n",
    "\n",
    "# Reacomodar los arrays para más tarde\n",
    "time = time.reshape(len(time),1)\n",
    "sol = sol[:, 0].reshape(len(time),1)\n",
    "\n",
    "plt.plot(time, sol, label='theta(t)')\n",
    "plt.legend(loc='right')\n",
    "plt.xlabel('t')\n",
    "plt.show()"
   ]
  },
  {
   "cell_type": "markdown",
   "id": "af161421",
   "metadata": {},
   "source": [
    "## 1. Definir la Ecuación a Resolver\n",
    "\n",
    "~~~python\n",
    "deepxde.backend.backend.Variable(initial_value, dtype=None)\n",
    "~~~"
   ]
  },
  {
   "cell_type": "code",
   "execution_count": 3,
   "id": "62b723c3",
   "metadata": {},
   "outputs": [],
   "source": [
    "w2 = dde.Variable(20.0,'float64') # Variable para ajustar\n",
    "\n",
    "def ODE(t, y):\n",
    "    d2y_dt2 = dde.grad.hessian(y, t)\n",
    "    s = tf.math.sin(y)\n",
    "    return d2y_dt2 + w2*s"
   ]
  },
  {
   "cell_type": "markdown",
   "id": "378d03ae",
   "metadata": {},
   "source": [
    "## 2. Definir Dominio de la Ecuación\n"
   ]
  },
  {
   "cell_type": "code",
   "execution_count": 4,
   "id": "5e8c3f39",
   "metadata": {},
   "outputs": [],
   "source": [
    "geom = dde.geometry.TimeDomain(0, 5)"
   ]
  },
  {
   "cell_type": "markdown",
   "id": "db85c889",
   "metadata": {},
   "source": [
    "## 3. Definir Condiciones Iniciales y de Frontera\n",
    "\n",
    "~~~python\n",
    "class deepxde.icbc.boundary_conditions.OperatorBC(geom, \n",
    "                                                  func, \n",
    "                                                  on_boundary)\n",
    "~~~\n",
    "\n",
    "General operator boundary conditions: func(inputs, outputs, X) = 0. \n",
    "\n",
    "- **func:** A function takes arguments (inputs, outputs, X) and outputs a tensor of size N x 1, where N is the length of inputs. inputs and outputs are the network input and output tensors, respectively; X are the NumPy array of the inputs.\n",
    "\n",
    "Ver detalles en https://deepxde.readthedocs.io/en/latest/modules/deepxde.icbc.html?highlight=boundary_conditions.OperatorBC#deepxde.icbc.boundary_conditions.OperatorBC"
   ]
  },
  {
   "cell_type": "code",
   "execution_count": 5,
   "id": "c4da2282",
   "metadata": {},
   "outputs": [],
   "source": [
    "def in_bdr(_, on_initial):\n",
    "    return on_initial\n",
    "\n",
    "def IC_1(inputs):\n",
    "    return np.pi/2\n",
    "\n",
    "def IC_2(inputs, outputs, X):\n",
    "    return dde.grad.jacobian(outputs, inputs) # = 0 #se define igual que la ecuación\n",
    "\n",
    "IC1 = dde.icbc.IC(        geom, IC_1, in_bdr)\n",
    "IC2 = dde.icbc.OperatorBC(geom, IC_2, in_bdr)"
   ]
  },
  {
   "cell_type": "markdown",
   "id": "1e6932f7",
   "metadata": {},
   "source": [
    "## 4. Añadir Datos Experimentales\n",
    "\n",
    "~~~python\n",
    "class deepxde.icbc.boundary_conditions.PointSetBC(points, \n",
    "                                                  values, \n",
    "                                                  component=0, \n",
    "                                                  batch_size=None, \n",
    "                                                  shuffle=True)\n",
    "~~~\n",
    "\n",
    "Documentación en https://deepxde.readthedocs.io/en/latest/modules/deepxde.icbc.html?highlight=icbc.PointSetBC#deepxde.icbc.boundary_conditions.PointSetBC\n",
    "\n",
    "Los datos extra se tratan como condiciones iniciales o de frontera."
   ]
  },
  {
   "cell_type": "code",
   "execution_count": 6,
   "id": "b8278c8a",
   "metadata": {},
   "outputs": [],
   "source": [
    "exp_data = dde.icbc.PointSetBC(time, sol)"
   ]
  },
  {
   "cell_type": "markdown",
   "id": "6eacee10",
   "metadata": {},
   "source": [
    "## 5. Crear Datos de Entrenamiento\n",
    "\n",
    "vamos a crear los datos de entrenamiento\n",
    "\n",
    "~~~python\n",
    "class deepxde.data.pde.TimePDE(geometryxtime, \n",
    "                               pde, \n",
    "                               ic_bcs, \n",
    "                               num_domain=0, \n",
    "                               num_boundary=0, \n",
    "                               num_initial=0, \n",
    "                               train_distribution='Hammersley', \n",
    "                               anchors=None, \n",
    "                               exclusions=None, \n",
    "                               solution=None, \n",
    "                               num_test=None, \n",
    "                               auxiliary_var_function=None\n",
    "~~~\n",
    "\n",
    "Detalles en https://deepxde.readthedocs.io/en/latest/modules/deepxde.data.html?highlight=data.TimePDE#deepxde.data.pde.TimePDE. "
   ]
  },
  {
   "cell_type": "code",
   "execution_count": 7,
   "id": "4aaa837e",
   "metadata": {},
   "outputs": [],
   "source": [
    "data = dde.data.PDE(geom, ODE, [IC1, IC2, exp_data], 126, 8, num_test=100,\n",
    "                    train_distribution='uniform', anchors=time)"
   ]
  },
  {
   "cell_type": "markdown",
   "id": "ac302a79",
   "metadata": {},
   "source": [
    "## 6. Crear la Red Neuronal\n"
   ]
  },
  {
   "cell_type": "code",
   "execution_count": 8,
   "id": "6a283a8e",
   "metadata": {},
   "outputs": [],
   "source": [
    "layer_size = [1] + [30]*3 + [1]\n",
    "activation = \"tanh\"\n",
    "initializer = \"Glorot uniform\"\n",
    "net = dde.nn.FNN(layer_size, activation, initializer)"
   ]
  },
  {
   "cell_type": "markdown",
   "id": "8d7c59ef",
   "metadata": {},
   "source": [
    "## 7. Compilar y Entrenar el Modelo\n"
   ]
  },
  {
   "cell_type": "code",
   "execution_count": 9,
   "id": "e7365f6b",
   "metadata": {},
   "outputs": [
    {
     "name": "stdout",
     "output_type": "stream",
     "text": [
      "Compiling model...\n",
      "Warning: For the backend tensorflow.compat.v1, `external_trainable_variables` is ignored, and all trainable ``tf.Variable`` objects are automatically collected.\n",
      "Building feed-forward neural network...\n",
      "'build' took 0.037304 s\n",
      "\n"
     ]
    },
    {
     "name": "stderr",
     "output_type": "stream",
     "text": [
      "/home/wind/.local/lib/python3.10/site-packages/deepxde/nn/tensorflow_compat_v1/fnn.py:103: UserWarning: `tf.layers.dense` is deprecated and will be removed in a future version. Please use `tf.keras.layers.Dense` instead.\n",
      "  return tf.layers.dense(\n",
      "2022-10-20 22:19:54.427898: I tensorflow/core/platform/cpu_feature_guard.cc:193] This TensorFlow binary is optimized with oneAPI Deep Neural Network Library (oneDNN) to use the following CPU instructions in performance-critical operations:  AVX2 AVX512F AVX512_VNNI FMA\n",
      "To enable them in other operations, rebuild TensorFlow with the appropriate compiler flags.\n"
     ]
    },
    {
     "name": "stdout",
     "output_type": "stream",
     "text": [
      "'compile' took 0.255713 s\n",
      "\n",
      "Initializing variables...\n",
      "Training model...\n",
      "\n",
      "Step      Train loss                                  Test loss                                   Test metric\n",
      "0         [7.74e+01, 2.47e+00, 2.00e-02, 1.68e+00]    [7.65e+01, 2.47e+00, 2.00e-02, 1.68e+00]    []  \n",
      "0 [2.00e+01]\n"
     ]
    },
    {
     "name": "stderr",
     "output_type": "stream",
     "text": [
      "2022-10-20 22:19:54.650785: I tensorflow/compiler/mlir/mlir_graph_optimization_pass.cc:354] MLIR V1 optimization pass is not enabled\n"
     ]
    },
    {
     "name": "stdout",
     "output_type": "stream",
     "text": [
      "1000      [8.48e-02, 2.29e+00, 5.16e-03, 1.31e+00]    [5.80e-02, 2.29e+00, 5.16e-03, 1.31e+00]    []  \n",
      "1000 [2.00e+01]\n",
      "2000      [1.08e-01, 2.22e+00, 6.48e-03, 1.30e+00]    [7.84e-02, 2.22e+00, 6.48e-03, 1.30e+00]    []  \n",
      "2000 [1.99e+01]\n",
      "3000      [2.56e-01, 1.89e+00, 4.79e-04, 1.28e+00]    [2.52e-01, 1.89e+00, 4.79e-04, 1.28e+00]    []  \n",
      "3000 [1.97e+01]\n",
      "4000      [3.04e-01, 1.81e+00, 2.73e-04, 1.27e+00]    [3.11e-01, 1.81e+00, 2.73e-04, 1.27e+00]    []  \n",
      "4000 [1.93e+01]\n",
      "5000      [3.35e-01, 1.74e+00, 3.57e-04, 1.26e+00]    [3.45e-01, 1.74e+00, 3.57e-04, 1.26e+00]    []  \n",
      "5000 [1.86e+01]\n",
      "6000      [3.69e-01, 1.66e+00, 3.89e-04, 1.25e+00]    [3.79e-01, 1.66e+00, 3.89e-04, 1.25e+00]    []  \n",
      "6000 [1.76e+01]\n",
      "7000      [4.58e-01, 1.41e+00, 6.30e-04, 1.23e+00]    [4.74e-01, 1.41e+00, 6.30e-04, 1.23e+00]    []  \n",
      "7000 [1.65e+01]\n",
      "8000      [6.16e-01, 1.02e+00, 3.60e-03, 1.21e+00]    [6.47e-01, 1.02e+00, 3.60e-03, 1.21e+00]    []  \n",
      "8000 [1.51e+01]\n",
      "9000      [6.81e-01, 8.28e-01, 5.46e-03, 1.16e+00]    [7.15e-01, 8.28e-01, 5.46e-03, 1.16e+00]    []  \n",
      "9000 [1.38e+01]\n",
      "10000     [7.53e-01, 6.12e-01, 1.08e-02, 1.08e+00]    [7.90e-01, 6.12e-01, 1.08e-02, 1.08e+00]    []  \n",
      "10000 [1.25e+01]\n",
      "11000     [8.43e-01, 3.49e-01, 3.64e-02, 8.85e-01]    [8.80e-01, 3.49e-01, 3.64e-02, 8.85e-01]    []  \n",
      "11000 [1.12e+01]\n",
      "12000     [4.81e-01, 1.34e-01, 1.13e-01, 6.92e-01]    [5.04e-01, 1.34e-01, 1.13e-01, 6.92e-01]    []  \n",
      "12000 [1.00e+01]\n",
      "13000     [3.24e-01, 9.66e-02, 6.34e-02, 8.26e-01]    [3.40e-01, 9.66e-02, 6.34e-02, 8.26e-01]    []  \n",
      "13000 [1.05e+01]\n",
      "14000     [2.65e-01, 5.92e-02, 4.64e-02, 8.95e-01]    [2.78e-01, 5.92e-02, 4.64e-02, 8.95e-01]    []  \n",
      "14000 [1.10e+01]\n",
      "\n",
      "Best model at step 14000:\n",
      "  train loss: 1.27e+00\n",
      "  test loss: 1.28e+00\n",
      "  test metric: []\n",
      "\n",
      "'train' took 21.141676 s\n",
      "\n",
      "Compiling model...\n",
      "Warning: For the backend tensorflow.compat.v1, `external_trainable_variables` is ignored, and all trainable ``tf.Variable`` objects are automatically collected.\n",
      "'compile' took 0.189651 s\n",
      "\n",
      "Training model...\n",
      "\n",
      "Step      Train loss                                  Test loss                                   Test metric\n",
      "14000     [2.65e-01, 5.92e-02, 4.64e-02, 8.95e-01]    [2.78e-01, 5.92e-02, 4.64e-02, 8.95e-01]    []  \n",
      "14000 [1.10e+01]\n",
      "15000     [2.34e-01, 3.17e-02, 3.78e-02, 9.47e-01]                                                    \n",
      "16000     [4.34e-01, 1.71e-02, 1.56e-02, 5.40e-01]                                                    \n",
      "17000     [3.04e-02, 6.99e-04, 1.51e-04, 8.83e-04]                                                    \n",
      "18000     [6.95e-03, 7.75e-05, 9.63e-06, 2.57e-04]                                                    \n",
      "19000     [2.55e-03, 1.28e-05, 1.34e-06, 9.05e-05]                                                    \n",
      "20000     [8.54e-04, 2.56e-12, 3.66e-07, 2.33e-05]                                                    \n",
      "21000     [4.01e-04, 1.91e-07, 2.55e-08, 2.25e-05]                                                    \n",
      "22000     [3.63e-04, 7.33e-09, 1.56e-07, 2.28e-05]                                                    \n",
      "23000     [2.25e-04, 1.21e-07, 3.59e-08, 2.30e-05]                                                    \n",
      "24000     [1.77e-04, 1.06e-07, 4.07e-09, 2.29e-05]                                                    \n",
      "25000     [1.12e-04, 1.72e-07, 6.86e-09, 2.31e-05]                                                    \n",
      "26000     [9.00e-05, 5.50e-08, 9.86e-09, 2.27e-05]                                                    \n",
      "INFO:tensorflow:Optimization terminated with:\n",
      "  Message: STOP: TOTAL NO. of ITERATIONS REACHED LIMIT\n",
      "  Objective function value: 0.000113\n",
      "  Number of iterations: 10000\n",
      "  Number of functions evaluations: 12074\n",
      "26074     [9.00e-05, 5.59e-08, 8.60e-09, 2.27e-05]    [3.38e-01, 5.59e-08, 8.60e-09, 2.27e-05]    []  \n",
      "\n",
      "Best model at step 26074:\n",
      "  train loss: 1.13e-04\n",
      "  test loss: 3.38e-01\n",
      "  test metric: []\n",
      "\n",
      "'train' took 39.222479 s\n",
      "\n"
     ]
    }
   ],
   "source": [
    "# Modelo\n",
    "model = dde.Model(data, net)\n",
    "variable = dde.callbacks.VariableValue([w2], period=1000)\n",
    "\n",
    "# Optimizador Adam para ajustar el valor de w^2\n",
    "model.compile(\"adam\", lr=1e-3, external_trainable_variables=[w2])\n",
    "loss_history, train_state = model.train(iterations=14000, callbacks=[variable])\n",
    "\n",
    "# Optimizador L-BFGS para ajustar la ecuación diferencial (no ajusta w^2)\n",
    "dde.optimizers.config.set_LBFGS_options(maxiter=10000)\n",
    "model.compile(\"L-BFGS\", external_trainable_variables=w2)\n",
    "losshistory, train_state = model.train(callbacks=[variable])"
   ]
  },
  {
   "cell_type": "markdown",
   "id": "ce13bd4f",
   "metadata": {},
   "source": [
    "## 7. Visualizar la Solución"
   ]
  },
  {
   "cell_type": "code",
   "execution_count": 10,
   "id": "c82580f0",
   "metadata": {},
   "outputs": [
    {
     "data": {
      "image/png": "[encoded data removed]",
      "text/plain": [
       "<Figure size 432x288 with 1 Axes>"
      ]
     },
     "metadata": {
      "needs_background": "light"
     },
     "output_type": "display_data"
    },
    {
     "data": {
      "image/png": "[encoded data removed]",
      "text/plain": [
       "<Figure size 432x288 with 1 Axes>"
      ]
     },
     "metadata": {
      "needs_background": "light"
     },
     "output_type": "display_data"
    },
    {
     "name": "stdout",
     "output_type": "stream",
     "text": [
      "Expected w^2 Value:  10.0\n",
      "w^2 Value:  [11.032551031572838]\n",
      "Error:  10.325510315728383  %\n"
     ]
    }
   ],
   "source": [
    "dde.utils.external.plot_loss_history(losshistory)\n",
    "\n",
    "t = geom.uniform_points(1000)\n",
    "y = model.predict(t)\n",
    "\n",
    "plt.figure()\n",
    "plt.plot(t,y,label=\"PINN\")\n",
    "plt.plot(time,sol,'o',label=\"Exacta\")\n",
    "plt.xlabel('s')\n",
    "plt.ylabel('theta')\n",
    "plt.legend()\n",
    "plt.show()\n",
    "\n",
    "print('Expected w^2 Value: ', g/L)\n",
    "print('w^2 Value: ', variable.get_value())\n",
    "print('Error: ', 100*abs((g/L)-variable.get_value()[0])/(g/L), ' %')"
   ]
  },
  {
   "cell_type": "code",
   "execution_count": null,
   "id": "f49362d9",
   "metadata": {},
   "outputs": [],
   "source": []
  }
 ],
 "metadata": {
  "kernelspec": {
   "display_name": "Python 3 (ipykernel)",
   "language": "python",
   "name": "python3"
  },
  "language_info": {
   "codemirror_mode": {
    "name": "ipython",
    "version": 3
   },
   "file_extension": ".py",
   "mimetype": "text/x-python",
   "name": "python",
   "nbconvert_exporter": "python",
   "pygments_lexer": "ipython3",
   "version": "3.10.6"
  }
 },
 "nbformat": 4,
 "nbformat_minor": 5
}
