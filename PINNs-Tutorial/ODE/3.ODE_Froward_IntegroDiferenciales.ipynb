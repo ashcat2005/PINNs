{
 "cells": [
  {
   "cell_type": "markdown",
   "id": "8656e974",
   "metadata": {},
   "source": [
    "![Semillero Astrofisica](../logo.PNG)"
   ]
  },
  {
   "cell_type": "markdown",
   "id": "43096876",
   "metadata": {},
   "source": [
    "---\n",
    "# Sistemas de Ecuaciones Integrodiferenciales\n",
    "\n",
    "Carlos Andrés del Valle (cdelv@unal.edu.co)\n",
    "\n",
    "---"
   ]
  },
  {
   "cell_type": "markdown",
   "id": "d2ab1088",
   "metadata": {},
   "source": [
    "Vamos a resolver una ecuación integrodiferencial. Específicamente, la ecuación de Volterra https://www.hindawi.com/journals/jam/2017/1510267/. \n",
    "\n",
    "\\begin{equation}\n",
    "     y^{\\prime}(x) + y(x) = \\int_0^x e^{s-x}y(s) ds\n",
    "\\end{equation}\n",
    "\n",
    "Como condición inicial\n",
    "\\begin{equation}\n",
    "     y(0)=1\n",
    "\\end{equation}\n",
    "\n",
    "La solución analítica de esta ecuación es \n",
    "\\begin{equation}\n",
    "     y(x)=e^{-x}\\cosh{x}\n",
    "\\end{equation}"
   ]
  },
  {
   "cell_type": "code",
   "execution_count": 1,
   "id": "1dcd02c3",
   "metadata": {},
   "outputs": [
    {
     "name": "stderr",
     "output_type": "stream",
     "text": [
      "Using backend: tensorflow.compat.v1\n",
      "\n",
      "2022-10-20 22:31:24.045452: I tensorflow/core/util/util.cc:169] oneDNN custom operations are on. You may see slightly different numerical results due to floating-point round-off errors from different computation orders. To turn them off, set the environment variable `TF_ENABLE_ONEDNN_OPTS=0`.\n",
      "2022-10-20 22:31:24.048837: W tensorflow/stream_executor/platform/default/dso_loader.cc:64] Could not load dynamic library 'libcudart.so.11.0'; dlerror: libcudart.so.11.0: cannot open shared object file: No such file or directory\n",
      "2022-10-20 22:31:24.048852: I tensorflow/stream_executor/cuda/cudart_stub.cc:29] Ignore above cudart dlerror if you do not have a GPU set up on your machine.\n"
     ]
    },
    {
     "name": "stdout",
     "output_type": "stream",
     "text": [
      "WARNING:tensorflow:From /home/wind/.local/lib/python3.10/site-packages/tensorflow/python/compat/v2_compat.py:107: disable_resource_variables (from tensorflow.python.ops.variable_scope) is deprecated and will be removed in a future version.\n",
      "Instructions for updating:\n",
      "non-resource variables are not supported in the long term\n"
     ]
    },
    {
     "name": "stderr",
     "output_type": "stream",
     "text": [
      "2022-10-20 22:31:25.155669: E tensorflow/stream_executor/cuda/cuda_driver.cc:271] failed call to cuInit: CUDA_ERROR_NO_DEVICE: no CUDA-capable device is detected\n",
      "2022-10-20 22:31:25.155708: I tensorflow/stream_executor/cuda/cuda_diagnostics.cc:156] kernel driver does not appear to be running on this host (pop-os): /proc/driver/nvidia/version does not exist\n"
     ]
    },
    {
     "name": "stdout",
     "output_type": "stream",
     "text": [
      "WARNING:tensorflow:From /home/wind/.local/lib/python3.10/site-packages/deepxde/nn/initializers.py:118: The name tf.keras.initializers.he_normal is deprecated. Please use tf.compat.v1.keras.initializers.he_normal instead.\n",
      "\n"
     ]
    }
   ],
   "source": [
    "import deepxde as dde\n",
    "from deepxde.backend import tf\n",
    "import numpy as np\n",
    "import matplotlib.pyplot as plt\n",
    "\n",
    "#Usar doble precisión si la GPU lo soporta. Float32 por defecto.\n",
    "dde.config.real.set_float64()"
   ]
  },
  {
   "cell_type": "markdown",
   "id": "af161421",
   "metadata": {},
   "source": [
    "## 1. Definir la Ecuación a Resolver"
   ]
  },
  {
   "cell_type": "code",
   "execution_count": 2,
   "id": "62b723c3",
   "metadata": {},
   "outputs": [],
   "source": [
    "def IDE(x, y, int_mat):\n",
    "    rhs = tf.matmul(int_mat, y)\n",
    "    lhs1 = tf.gradients(y, x)[0]\n",
    "    return (lhs1 + y)[: tf.size(rhs)] - rhs\n",
    "\n",
    "def kernel(x, s):\n",
    "    return np.exp(s - x)\n",
    "\n",
    "def analytic_sol(x):\n",
    "    return np.exp(-x)*np.cosh(x)"
   ]
  },
  {
   "cell_type": "markdown",
   "id": "378d03ae",
   "metadata": {},
   "source": [
    "## 2. Definir Dominio de la Ecuación\n",
    "\n",
    "Podemos aprovechar el dominio TimeDomain\n",
    "\n",
    "~~~python\n",
    "class deepxde.geometry.timedomain.TimeDomain(t0, t1)\n",
    "~~~\n",
    "\n",
    "Esta clase de dominio crea el booleano para definir las coondiciones iniciales\n",
    "\n",
    "~~~pyhton\n",
    "on_initial(t)\n",
    "~~~"
   ]
  },
  {
   "cell_type": "code",
   "execution_count": 3,
   "id": "5e8c3f39",
   "metadata": {},
   "outputs": [],
   "source": [
    "geom = dde.geometry.TimeDomain(0, 5)"
   ]
  },
  {
   "cell_type": "markdown",
   "id": "db85c889",
   "metadata": {},
   "source": [
    "## 3. Definir Condiciones Iniciales y de Frontera\n"
   ]
  },
  {
   "cell_type": "code",
   "execution_count": 4,
   "id": "c4da2282",
   "metadata": {},
   "outputs": [],
   "source": [
    "IC = dde.icbc.IC(geom, lambda x: 1, lambda _, on_initial: on_initial)"
   ]
  },
  {
   "cell_type": "markdown",
   "id": "6eacee10",
   "metadata": {},
   "source": [
    "## 4. Crear Datos de Entrenamiento\n",
    "\n",
    "vamos a crear los datos de entrenamiento\n",
    "\n",
    "~~~python\n",
    "class deepxde.data.ide.IDE(geometry, \n",
    "                           ide, \n",
    "                           bcs, \n",
    "                           quad_deg, \n",
    "                           kernel=None, \n",
    "                           num_domain=0, \n",
    "                           num_boundary=0, \n",
    "                           train_distribution='Hammersley', \n",
    "                           anchors=None, \n",
    "                           solution=None, \n",
    "                           num_test=None)\n",
    "~~~\n",
    "\n",
    "Detalles en https://deepxde.readthedocs.io/en/latest/modules/deepxde.data.html?highlight=data.IDE#deepxde.data.ide.IDE. quad_deg son los puntos de cuadratura de gauss para tomar.\n",
    "\n",
    "Por ahora, solo soporta ecuaciones integrodiferenciales en 1D. Con el Kernel se puede especificar lo que hay dentro de la integral. "
   ]
  },
  {
   "cell_type": "code",
   "execution_count": 5,
   "id": "4aaa837e",
   "metadata": {},
   "outputs": [],
   "source": [
    "quad_deg = 8\n",
    "data = dde.data.IDE(geom, IDE, IC, quad_deg, kernel=kernel, num_domain=14, num_boundary=8, \n",
    "                    solution=analytic_sol,train_distribution='uniform')"
   ]
  },
  {
   "cell_type": "markdown",
   "id": "ac302a79",
   "metadata": {},
   "source": [
    "## 5. Crear la Red Neuronal\n",
    "\n",
    "Vamos a utilizar una **Fully-connected neural network**.\n",
    "\n",
    "~~~python\n",
    "class deepxde.nn.tensorflow.fnn.FNN(layer_sizes, activation, \n",
    "                                    kernel_initializer, \n",
    "                                    regularization=None, \n",
    "                                    dropout_rate=0)\n",
    "~~~"
   ]
  },
  {
   "cell_type": "code",
   "execution_count": 6,
   "id": "6a283a8e",
   "metadata": {},
   "outputs": [],
   "source": [
    "layer_size = [1] + [40]*3 + [1] \n",
    "activation = \"tanh\"\n",
    "initializer = \"Glorot uniform\"\n",
    "regularization = [\"l2\", 1e-5]\n",
    "dropout_rate = 0.0005\n",
    "\n",
    "net = dde.nn.FNN(layer_size, activation, initializer, \n",
    "                 regularization=regularization, dropout_rate=dropout_rate)"
   ]
  },
  {
   "cell_type": "markdown",
   "id": "8d7c59ef",
   "metadata": {},
   "source": [
    "## 6. Compilar y Entrenar el Modelo\n",
    "\n",
    "Vamos a usar Adam para mostrar que las PINNs son bastante buenas con este tipo de problemas."
   ]
  },
  {
   "cell_type": "code",
   "execution_count": 7,
   "id": "e7365f6b",
   "metadata": {},
   "outputs": [
    {
     "name": "stdout",
     "output_type": "stream",
     "text": [
      "Compiling model...\n",
      "Building feed-forward neural network...\n",
      "'build' took 0.064424 s\n",
      "\n"
     ]
    },
    {
     "name": "stderr",
     "output_type": "stream",
     "text": [
      "/home/wind/.local/lib/python3.10/site-packages/deepxde/nn/tensorflow_compat_v1/fnn.py:103: UserWarning: `tf.layers.dense` is deprecated and will be removed in a future version. Please use `tf.keras.layers.Dense` instead.\n",
      "  return tf.layers.dense(\n",
      "/home/wind/.local/lib/python3.10/site-packages/deepxde/nn/tensorflow_compat_v1/fnn.py:86: UserWarning: `tf.layers.dropout` is deprecated and will be removed in a future version. Please use `tf.keras.layers.Dropout` instead.\n",
      "  y = tf.layers.dropout(y, rate=self.dropout_rate, training=self.training)\n",
      "2022-10-20 22:31:26.529407: I tensorflow/core/platform/cpu_feature_guard.cc:193] This TensorFlow binary is optimized with oneAPI Deep Neural Network Library (oneDNN) to use the following CPU instructions in performance-critical operations:  AVX2 AVX512F AVX512_VNNI FMA\n",
      "To enable them in other operations, rebuild TensorFlow with the appropriate compiler flags.\n"
     ]
    },
    {
     "name": "stdout",
     "output_type": "stream",
     "text": [
      "'compile' took 0.356227 s\n",
      "\n",
      "Initializing variables...\n",
      "Training model...\n",
      "\n",
      "Step      Train loss                        Test loss                         Test metric   \n",
      "0         [7.82e-03, 1.00e+00, 8.39e-04]    [7.42e-03, 0.00e+00, 8.39e-04]    [9.23e-01]    \n"
     ]
    },
    {
     "name": "stderr",
     "output_type": "stream",
     "text": [
      "2022-10-20 22:31:26.827510: I tensorflow/compiler/mlir/mlir_graph_optimization_pass.cc:354] MLIR V1 optimization pass is not enabled\n"
     ]
    },
    {
     "name": "stdout",
     "output_type": "stream",
     "text": [
      "1000      [7.57e-05, 2.77e-06, 8.72e-04]    [7.13e-05, 0.00e+00, 8.72e-04]    [7.70e-03]    \n",
      "2000      [1.49e-04, 1.37e-04, 8.18e-04]    [2.83e-05, 0.00e+00, 8.18e-04]    [8.02e-03]    \n",
      "3000      [3.93e-04, 1.45e-05, 7.59e-04]    [1.62e-05, 0.00e+00, 7.59e-04]    [9.13e-03]    \n",
      "4000      [3.94e-04, 3.56e-05, 6.97e-04]    [1.30e-05, 0.00e+00, 6.97e-04]    [5.76e-03]    \n",
      "5000      [1.62e-04, 2.65e-05, 6.32e-04]    [1.33e-04, 0.00e+00, 6.32e-04]    [2.87e-02]    \n",
      "6000      [2.78e-04, 1.99e-05, 5.73e-04]    [1.07e-05, 0.00e+00, 5.73e-04]    [1.10e-02]    \n",
      "7000      [4.52e-04, 8.58e-06, 5.19e-04]    [1.02e-05, 0.00e+00, 5.19e-04]    [4.72e-03]    \n",
      "8000      [7.66e-06, 2.85e-05, 4.66e-04]    [7.42e-06, 0.00e+00, 4.66e-04]    [7.96e-03]    \n",
      "9000      [5.53e-06, 1.08e-06, 4.17e-04]    [5.87e-06, 0.00e+00, 4.17e-04]    [1.05e-02]    \n",
      "10000     [4.65e-05, 4.59e-05, 3.72e-04]    [1.91e-05, 0.00e+00, 3.72e-04]    [6.11e-03]    \n",
      "11000     [4.93e-05, 1.58e-05, 3.33e-04]    [2.06e-05, 0.00e+00, 3.33e-04]    [8.69e-03]    \n",
      "12000     [3.37e-05, 2.06e-07, 2.95e-04]    [2.32e-06, 0.00e+00, 2.95e-04]    [6.02e-03]    \n",
      "13000     [3.65e-06, 2.05e-06, 2.65e-04]    [3.87e-06, 0.00e+00, 2.65e-04]    [5.07e-03]    \n",
      "14000     [2.70e-05, 4.49e-06, 2.34e-04]    [1.57e-05, 0.00e+00, 2.34e-04]    [3.66e-03]    \n",
      "15000     [2.27e-05, 1.45e-05, 2.07e-04]    [1.77e-05, 0.00e+00, 2.07e-04]    [1.44e-02]    \n",
      "16000     [3.75e-06, 3.65e-05, 1.83e-04]    [2.08e-06, 0.00e+00, 1.83e-04]    [7.32e-03]    \n",
      "17000     [4.10e-05, 1.19e-05, 1.63e-04]    [4.02e-05, 0.00e+00, 1.63e-04]    [3.59e-03]    \n",
      "18000     [2.51e-05, 9.29e-07, 1.48e-04]    [9.68e-06, 0.00e+00, 1.48e-04]    [1.36e-02]    \n",
      "19000     [8.37e-06, 1.24e-06, 1.36e-04]    [1.06e-05, 0.00e+00, 1.36e-04]    [5.64e-03]    \n",
      "20000     [4.67e-06, 1.30e-05, 1.29e-04]    [1.33e-06, 0.00e+00, 1.29e-04]    [8.20e-03]    \n",
      "\n",
      "Best model at step 19000:\n",
      "  train loss: 1.46e-04\n",
      "  test loss: 1.47e-04\n",
      "  test metric: [5.64e-03]\n",
      "  Uncertainty:\n",
      "    l2: 0.0583717\n",
      "    l_infinity: 0.0081705\n",
      "    max uncertainty location: [1.49703649]\n",
      "\n",
      "'train' took 51.502630 s\n",
      "\n"
     ]
    }
   ],
   "source": [
    "# Modelo\n",
    "model = dde.Model(data, net)\n",
    "uncertainty = dde.callbacks.DropoutUncertainty(period=500)\n",
    "\n",
    "# Optimizador Adam\n",
    "model.compile(\"adam\", lr=0.001, metrics=[\"l2 relative error\"])\n",
    "losshistory, train_state = model.train(iterations=20000, callbacks=[uncertainty])"
   ]
  },
  {
   "cell_type": "markdown",
   "id": "ce13bd4f",
   "metadata": {},
   "source": [
    "## 7. Visualizar la Solución"
   ]
  },
  {
   "cell_type": "code",
   "execution_count": 8,
   "id": "a8a2befe",
   "metadata": {},
   "outputs": [
    {
     "data": {
      "image/png": "[encoded data removed]",
      "text/plain": [
       "<Figure size 432x288 with 1 Axes>"
      ]
     },
     "metadata": {
      "needs_background": "light"
     },
     "output_type": "display_data"
    },
    {
     "data": {
      "image/png": "[encoded data removed]",
      "text/plain": [
       "<Figure size 432x288 with 1 Axes>"
      ]
     },
     "metadata": {
      "needs_background": "light"
     },
     "output_type": "display_data"
    }
   ],
   "source": [
    "dde.utils.external.plot_loss_history(losshistory)\n",
    "dde.utils.external.plot_best_state(train_state)"
   ]
  },
  {
   "cell_type": "markdown",
   "id": "6e508bf5",
   "metadata": {},
   "source": [
    "~~~python\n",
    "uniform_points(n, boundary=True)\n",
    "~~~"
   ]
  },
  {
   "cell_type": "code",
   "execution_count": 9,
   "id": "971d463d",
   "metadata": {},
   "outputs": [
    {
     "name": "stdout",
     "output_type": "stream",
     "text": [
      "L2 relative error: 0.011277567244674692\n"
     ]
    }
   ],
   "source": [
    "X = geom.uniform_points(1000)\n",
    "y_true = analytic_sol(X)\n",
    "y_pred = model.predict(X)\n",
    "print(\"L2 relative error:\", dde.metrics.l2_relative_error(y_true, y_pred))"
   ]
  }
 ],
 "metadata": {
  "kernelspec": {
   "display_name": "Python 3 (ipykernel)",
   "language": "python",
   "name": "python3"
  },
  "language_info": {
   "codemirror_mode": {
    "name": "ipython",
    "version": 3
   },
   "file_extension": ".py",
   "mimetype": "text/x-python",
   "name": "python",
   "nbconvert_exporter": "python",
   "pygments_lexer": "ipython3",
   "version": "3.10.6"
  }
 },
 "nbformat": 4,
 "nbformat_minor": 5
}
