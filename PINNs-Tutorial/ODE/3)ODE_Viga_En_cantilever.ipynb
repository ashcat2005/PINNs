{
 "cells": [
  {
   "cell_type": "markdown",
   "metadata": {
    "id": "knl4GZOLDant"
   },
   "source": [
    "---\n",
    "#**Ecuacion diferencial ordinaria de orden superior**\n",
    "\n",
    "David Felipe Bambague (dbambague@unal.edu.co)\n",
    "\n",
    "---"
   ]
  },
  {
   "cell_type": "markdown",
   "metadata": {
    "id": "K5GYyYg6D2Xk"
   },
   "source": [
    "  Vamos a resolver la ecuación difrerncial que da cuenta de las oscilaciones de una viga con extremo fijo y extremo libre.\n",
    "\n",
    "  \\begin{equation*}\n",
    "      EI\\frac{d^4\\eta}{dx^4}=0\n",
    "  \\end{equation*}\n",
    "\n",
    "  con $E=1$, $F=1$ y $I=2$. Las condiciones de frontera del problema son:\n",
    "\n",
    "  \\begin{equation*}\n",
    "      \\eta(0)=0\\\\\n",
    "      \\eta^{\\prime}(0)=0\\\\\n",
    "      \\eta^{\\prime\\prime}(L)=0\\\\\n",
    "      \\eta^{\\prime\\prime\\prime}(l)=\\frac{F}{EI}\n",
    "  \\end{equation*}"
   ]
  },
  {
   "cell_type": "code",
   "execution_count": 1,
   "metadata": {
    "id": "TgRMW58uGHG3"
   },
   "outputs": [
    {
     "name": "stdout",
     "output_type": "stream",
     "text": [
      "Defaulting to user installation because normal site-packages is not writeable\n",
      "Requirement already satisfied: deepxde in /home/wind/.local/lib/python3.10/site-packages (1.6.0)\n",
      "Requirement already satisfied: scipy in /home/wind/.local/lib/python3.10/site-packages (from deepxde) (1.8.0)\n",
      "Requirement already satisfied: scikit-optimize in /home/wind/.local/lib/python3.10/site-packages (from deepxde) (0.9.0)\n",
      "Requirement already satisfied: matplotlib in /home/wind/.local/lib/python3.10/site-packages (from deepxde) (3.5.2)\n",
      "Requirement already satisfied: scikit-learn in /home/wind/.local/lib/python3.10/site-packages (from deepxde) (1.1.1)\n",
      "Requirement already satisfied: numpy in /home/wind/.local/lib/python3.10/site-packages (from deepxde) (1.22.3)\n",
      "Requirement already satisfied: kiwisolver>=1.0.1 in /home/wind/.local/lib/python3.10/site-packages (from matplotlib->deepxde) (1.4.2)\n",
      "Requirement already satisfied: python-dateutil>=2.7 in /home/wind/.local/lib/python3.10/site-packages (from matplotlib->deepxde) (2.8.2)\n",
      "Requirement already satisfied: pyparsing>=2.2.1 in /usr/lib/python3/dist-packages (from matplotlib->deepxde) (2.4.7)\n",
      "Requirement already satisfied: cycler>=0.10 in /home/wind/.local/lib/python3.10/site-packages (from matplotlib->deepxde) (0.11.0)\n",
      "Requirement already satisfied: pillow>=6.2.0 in /home/wind/.local/lib/python3.10/site-packages (from matplotlib->deepxde) (9.1.0)\n",
      "Requirement already satisfied: fonttools>=4.22.0 in /home/wind/.local/lib/python3.10/site-packages (from matplotlib->deepxde) (4.33.3)\n",
      "Requirement already satisfied: packaging>=20.0 in /home/wind/.local/lib/python3.10/site-packages (from matplotlib->deepxde) (21.3)\n",
      "Requirement already satisfied: joblib>=1.0.0 in /home/wind/.local/lib/python3.10/site-packages (from scikit-learn->deepxde) (1.1.0)\n",
      "Requirement already satisfied: threadpoolctl>=2.0.0 in /home/wind/.local/lib/python3.10/site-packages (from scikit-learn->deepxde) (3.1.0)\n",
      "Requirement already satisfied: pyaml>=16.9 in /home/wind/.local/lib/python3.10/site-packages (from scikit-optimize->deepxde) (21.10.1)\n",
      "Requirement already satisfied: PyYAML in /usr/lib/python3/dist-packages (from pyaml>=16.9->scikit-optimize->deepxde) (5.4.1)\n",
      "Requirement already satisfied: six>=1.5 in /usr/lib/python3/dist-packages (from python-dateutil>=2.7->matplotlib->deepxde) (1.16.0)\n",
      "\n",
      "\u001b[1m[\u001b[0m\u001b[34;49mnotice\u001b[0m\u001b[1;39;49m]\u001b[0m\u001b[39;49m A new release of pip available: \u001b[0m\u001b[31;49m22.2.1\u001b[0m\u001b[39;49m -> \u001b[0m\u001b[32;49m22.3\u001b[0m\n",
      "\u001b[1m[\u001b[0m\u001b[34;49mnotice\u001b[0m\u001b[1;39;49m]\u001b[0m\u001b[39;49m To update, run: \u001b[0m\u001b[32;49mpython3 -m pip install --upgrade pip\u001b[0m\n"
     ]
    }
   ],
   "source": [
    "!pip install deepxde"
   ]
  },
  {
   "cell_type": "code",
   "execution_count": 2,
   "metadata": {
    "colab": {
     "base_uri": "https://localhost:8080/"
    },
    "id": "QWMmoWbUDMQe",
    "outputId": "e17e8624-aacc-4332-8a3e-6ffd53b21e35"
   },
   "outputs": [
    {
     "name": "stderr",
     "output_type": "stream",
     "text": [
      "Using backend: tensorflow.compat.v1\n",
      "\n",
      "2022-10-20 22:23:13.778365: I tensorflow/core/util/util.cc:169] oneDNN custom operations are on. You may see slightly different numerical results due to floating-point round-off errors from different computation orders. To turn them off, set the environment variable `TF_ENABLE_ONEDNN_OPTS=0`.\n",
      "2022-10-20 22:23:13.781481: W tensorflow/stream_executor/platform/default/dso_loader.cc:64] Could not load dynamic library 'libcudart.so.11.0'; dlerror: libcudart.so.11.0: cannot open shared object file: No such file or directory\n",
      "2022-10-20 22:23:13.781492: I tensorflow/stream_executor/cuda/cudart_stub.cc:29] Ignore above cudart dlerror if you do not have a GPU set up on your machine.\n"
     ]
    },
    {
     "name": "stdout",
     "output_type": "stream",
     "text": [
      "WARNING:tensorflow:From /home/wind/.local/lib/python3.10/site-packages/tensorflow/python/compat/v2_compat.py:107: disable_resource_variables (from tensorflow.python.ops.variable_scope) is deprecated and will be removed in a future version.\n",
      "Instructions for updating:\n",
      "non-resource variables are not supported in the long term\n"
     ]
    },
    {
     "name": "stderr",
     "output_type": "stream",
     "text": [
      "2022-10-20 22:23:14.914145: E tensorflow/stream_executor/cuda/cuda_driver.cc:271] failed call to cuInit: CUDA_ERROR_NO_DEVICE: no CUDA-capable device is detected\n",
      "2022-10-20 22:23:14.914190: I tensorflow/stream_executor/cuda/cuda_diagnostics.cc:156] kernel driver does not appear to be running on this host (pop-os): /proc/driver/nvidia/version does not exist\n"
     ]
    },
    {
     "name": "stdout",
     "output_type": "stream",
     "text": [
      "WARNING:tensorflow:From /home/wind/.local/lib/python3.10/site-packages/deepxde/nn/initializers.py:118: The name tf.keras.initializers.he_normal is deprecated. Please use tf.compat.v1.keras.initializers.he_normal instead.\n",
      "\n"
     ]
    }
   ],
   "source": [
    "import deepxde as dde\n",
    "import numpy as np\n",
    "import matplotlib.pyplot as plt\n",
    "\n",
    "#Usar doble precisión si la GPU lo soporta. Float32 por defecto.\n",
    "dde.config.real.set_float64()"
   ]
  },
  {
   "cell_type": "markdown",
   "metadata": {
    "id": "4S4MQZIcGcKb"
   },
   "source": [
    "#1. Definir la Ecuación a Resolver"
   ]
  },
  {
   "cell_type": "code",
   "execution_count": 3,
   "metadata": {
    "id": "T5N8ICEQGUO4"
   },
   "outputs": [],
   "source": [
    "I=2.0\n",
    "F=1.0\n",
    "E=1.0\n",
    "def ode(x, y):\n",
    "    dy_dt = dde.grad.jacobian(y, x)\n",
    "    d2y_dt2 = dde.grad.hessian(y, x)\n",
    "    d3y_dt3 =dde.grad.jacobian(d2y_dt2,x)\n",
    "    d4y_dt4 = dde.grad.jacobian(d3y_dt3, x)\n",
    "\n",
    "    return E*I*d4y_dt4 "
   ]
  },
  {
   "cell_type": "markdown",
   "metadata": {
    "id": "FrKZ58Zh_hZ8"
   },
   "source": [
    "#**2. Definir Dominio de la Ecuación**"
   ]
  },
  {
   "cell_type": "code",
   "execution_count": 4,
   "metadata": {
    "id": "9oGOzSpLGa1i"
   },
   "outputs": [],
   "source": [
    "geom = dde.geometry.TimeDomain(0, 3)\n"
   ]
  },
  {
   "cell_type": "markdown",
   "metadata": {
    "id": "zjuxEQMY_mOl"
   },
   "source": [
    "#**3. Definir Condiciones Iniciales y de Frontera**"
   ]
  },
  {
   "cell_type": "code",
   "execution_count": 5,
   "metadata": {
    "id": "Zd-ijfdMNz0m"
   },
   "outputs": [],
   "source": [
    "#condición para x=0\n",
    "def in_boundary_1(x, on_initial):\n",
    "    return on_initial and np.isclose(x[0], 0)\n",
    "    \n",
    "#condicion para x=L\n",
    "def in_boundary_2(x, on_initial):\n",
    "    return on_initial and np.isclose(x[0], 1)"
   ]
  },
  {
   "cell_type": "code",
   "execution_count": 6,
   "metadata": {
    "id": "jdn6Q5MTVUJL"
   },
   "outputs": [],
   "source": [
    "def IC_1(inputs, outputs, x):\n",
    "    return 0 \n",
    "def IC_2(inputs, outputs, x):\n",
    "    return dde.grad.jacobian(outputs, inputs)\n",
    "def IC_3(inputs, outputs, x):\n",
    "    return dde.grad.hessian(outputs, inputs)\n",
    "def IC_4(inputs, outputs, x):\n",
    "    inputs2 = dde.grad.jacobian(outputs, inputs)\n",
    "    return dde.grad.hessian(outputs, inputs2)-0.5"
   ]
  },
  {
   "cell_type": "code",
   "execution_count": 7,
   "metadata": {
    "id": "tRm-JlMRwnA8"
   },
   "outputs": [],
   "source": [
    "Ic1 = dde.icbc.IC(geom, IC_1, in_boundary_1)\n",
    "Ic2 = dde.icbc.OperatorBC(geom, IC_2, in_boundary_1)\n",
    "Ic3 = dde.icbc.OperatorBC(geom, IC_3, in_boundary_2)\n",
    "Ic4 = dde.icbc.OperatorBC(geom, IC_4, in_boundary_2)"
   ]
  },
  {
   "cell_type": "markdown",
   "metadata": {
    "id": "kXPe8FLU__yz"
   },
   "source": [
    "#**4. Crear Datos de Entrenamiento**"
   ]
  },
  {
   "cell_type": "code",
   "execution_count": 8,
   "metadata": {
    "id": "k4pPtNNyxvPt"
   },
   "outputs": [
    {
     "ename": "NameError",
     "evalue": "name 'func' is not defined",
     "output_type": "error",
     "traceback": [
      "\u001b[0;31m---------------------------------------------------------------------------\u001b[0m",
      "\u001b[0;31mNameError\u001b[0m                                 Traceback (most recent call last)",
      "\u001b[0;32m/tmp/ipykernel_45212/2058882508.py\u001b[0m in \u001b[0;36m<module>\u001b[0;34m\u001b[0m\n\u001b[0;32m----> 1\u001b[0;31m \u001b[0mdata\u001b[0m \u001b[0;34m=\u001b[0m \u001b[0mdde\u001b[0m\u001b[0;34m.\u001b[0m\u001b[0mdata\u001b[0m\u001b[0;34m.\u001b[0m\u001b[0mTimePDE\u001b[0m\u001b[0;34m(\u001b[0m\u001b[0mgeom\u001b[0m\u001b[0;34m,\u001b[0m \u001b[0mode\u001b[0m\u001b[0;34m,\u001b[0m \u001b[0;34m[\u001b[0m\u001b[0mIc1\u001b[0m\u001b[0;34m,\u001b[0m\u001b[0mIc2\u001b[0m\u001b[0;34m,\u001b[0m \u001b[0mIc3\u001b[0m\u001b[0;34m,\u001b[0m \u001b[0mIc4\u001b[0m\u001b[0;34m]\u001b[0m\u001b[0;34m,\u001b[0m \u001b[0;36m64\u001b[0m\u001b[0;34m,\u001b[0m \u001b[0;36m4\u001b[0m\u001b[0;34m,\u001b[0m \u001b[0msolution\u001b[0m\u001b[0;34m=\u001b[0m\u001b[0mfunc\u001b[0m\u001b[0;34m,\u001b[0m \u001b[0mnum_test\u001b[0m\u001b[0;34m=\u001b[0m\u001b[0;36m500\u001b[0m\u001b[0;34m)\u001b[0m\u001b[0;34m\u001b[0m\u001b[0;34m\u001b[0m\u001b[0m\n\u001b[0m",
      "\u001b[0;31mNameError\u001b[0m: name 'func' is not defined"
     ]
    }
   ],
   "source": [
    "data = dde.data.TimePDE(geom, ode, [Ic1,Ic2, Ic3, Ic4], 64, 4, solution=func, num_test=500)\n"
   ]
  },
  {
   "cell_type": "markdown",
   "metadata": {
    "id": "5okJv2lnAD28"
   },
   "source": [
    "#**5. Crear la Red Neuronal**"
   ]
  },
  {
   "cell_type": "code",
   "execution_count": null,
   "metadata": {
    "id": "KHZMTgOm1b_-"
   },
   "outputs": [],
   "source": [
    "layer_size = [1] + [30]*3 + [1]\n",
    "activation = \"tanh\"\n",
    "initializer = \"Glorot uniform\"\n",
    "net = dde.nn.FNN(layer_size, activation, initializer)"
   ]
  },
  {
   "cell_type": "markdown",
   "metadata": {
    "id": "RWKXH7vXALsP"
   },
   "source": [
    "#**6. Compilar y Entrenar el Modelo**"
   ]
  },
  {
   "cell_type": "code",
   "execution_count": null,
   "metadata": {
    "id": "9WVi9vWk1kuw"
   },
   "outputs": [],
   "source": [
    "# Modelo\n",
    "model = dde.Model(data, net)\n",
    "\n",
    "# Optimizador Adam\n",
    "model.compile(\"adam\", lr=0.001, loss_weights=[0.01, 1, 1], metrics=[\"l2 relative error\"] ) \n",
    "losshistory, train_state = model.train(iterations=7000)"
   ]
  }
 ],
 "metadata": {
  "colab": {
   "collapsed_sections": [],
   "provenance": []
  },
  "kernelspec": {
   "display_name": "Python 3 (ipykernel)",
   "language": "python",
   "name": "python3"
  },
  "language_info": {
   "codemirror_mode": {
    "name": "ipython",
    "version": 3
   },
   "file_extension": ".py",
   "mimetype": "text/x-python",
   "name": "python",
   "nbconvert_exporter": "python",
   "pygments_lexer": "ipython3",
   "version": "3.10.6"
  }
 },
 "nbformat": 4,
 "nbformat_minor": 1
}
