{
  "nbformat": 4,
  "nbformat_minor": 0,
  "metadata": {
    "colab": {
      "provenance": [],
      "collapsed_sections": []
    },
    "kernelspec": {
      "name": "python3",
      "display_name": "Python 3"
    },
    "language_info": {
      "name": "python"
    }
  },
  "cells": [
    {
      "cell_type": "markdown",
      "source": [
        "---\n",
        "#**Ecuacion diferencial ordinaria de orden superior**\n",
        "\n",
        "David Felipe Bambague (dbambague@unal.edu.co)\n",
        "\n",
        "---"
      ],
      "metadata": {
        "id": "knl4GZOLDant"
      }
    },
    {
      "cell_type": "markdown",
      "source": [
        "  Vamos a resolver la ecuación difrerncial que da cuenta de las oscilaciones de una viga con extremo fijo y extremo libre.\n",
        "\n",
        "  \\begin{equation*}\n",
        "      EI\\frac{d^4\\eta}{dx^4}=0\n",
        "  \\end{equation*}\n",
        "\n",
        "  con $E=1$, $F=1$ y $I=2$. Las condiciones de frontera del problema son:\n",
        "\n",
        "  \\begin{equation*}\n",
        "      \\eta(0)=0\\\\\n",
        "      \\eta^{\\prime}(0)=0\\\\\n",
        "      \\eta^{\\prime\\prime}(L)=0\\\\\n",
        "      \\eta^{\\prime\\prime\\prime}(l)=\\frac{F}{EI}\n",
        "  \\end{equation*}"
      ],
      "metadata": {
        "id": "K5GYyYg6D2Xk"
      }
    },
    {
      "cell_type": "code",
      "source": [
        "!pip install deepxde"
      ],
      "metadata": {
        "id": "TgRMW58uGHG3"
      },
      "execution_count": null,
      "outputs": []
    },
    {
      "cell_type": "code",
      "execution_count": 6,
      "metadata": {
        "colab": {
          "base_uri": "https://localhost:8080/"
        },
        "id": "QWMmoWbUDMQe",
        "outputId": "e17e8624-aacc-4332-8a3e-6ffd53b21e35"
      },
      "outputs": [
        {
          "output_type": "stream",
          "name": "stderr",
          "text": [
            "DeepXDE backend not selected or invalid. Use tensorflow.compat.v1.\n",
            "Using backend: tensorflow.compat.v1\n",
            "\n"
          ]
        },
        {
          "output_type": "stream",
          "name": "stdout",
          "text": [
            "Setting the default backend to \"tensorflow.compat.v1\". You can change it in the ~/.deepxde/config.json file or export the DDE_BACKEND environment variable. Valid options are: tensorflow.compat.v1, tensorflow, pytorch, jax, paddle (all lowercase)\n"
          ]
        },
        {
          "output_type": "stream",
          "name": "stderr",
          "text": [
            "WARNING:tensorflow:From /usr/local/lib/python3.7/dist-packages/tensorflow/python/compat/v2_compat.py:107: disable_resource_variables (from tensorflow.python.ops.variable_scope) is deprecated and will be removed in a future version.\n",
            "Instructions for updating:\n",
            "non-resource variables are not supported in the long term\n",
            "WARNING:tensorflow:From /usr/local/lib/python3.7/dist-packages/deepxde/nn/initializers.py:118: The name tf.keras.initializers.he_normal is deprecated. Please use tf.compat.v1.keras.initializers.he_normal instead.\n",
            "\n"
          ]
        }
      ],
      "source": [
        "import deepxde as dde\n",
        "import numpy as np\n",
        "import matplotlib.pyplot as plt\n",
        "\n",
        "#Usar doble precisión si la GPU lo soporta. Float32 por defecto.\n",
        "dde.config.real.set_float64()"
      ]
    },
    {
      "cell_type": "markdown",
      "source": [
        "#1. Definir la Ecuación a Resolver"
      ],
      "metadata": {
        "id": "4S4MQZIcGcKb"
      }
    },
    {
      "cell_type": "code",
      "source": [
        "I=2.0\n",
        "F=1.0\n",
        "E=1.0\n",
        "def ode(x, y):\n",
        "    dy_dt = dde.grad.jacobian(y, x)\n",
        "    d2y_dt2 = dde.grad.hessian(y, x)\n",
        "    d3y_dt3 =dde.grad.jacobian(d2y_dt2,x)\n",
        "    d4y_dt4 = dde.grad.jacobian(d3y_dt3, x)\n",
        "\n",
        "    return E*I*d4y_dt4 "
      ],
      "metadata": {
        "id": "T5N8ICEQGUO4"
      },
      "execution_count": 7,
      "outputs": []
    },
    {
      "cell_type": "markdown",
      "source": [
        "#**2. Definir Dominio de la Ecuación**"
      ],
      "metadata": {
        "id": "FrKZ58Zh_hZ8"
      }
    },
    {
      "cell_type": "code",
      "source": [
        "geom = dde.geometry.TimeDomain(0, 3)\n"
      ],
      "metadata": {
        "id": "9oGOzSpLGa1i"
      },
      "execution_count": 84,
      "outputs": []
    },
    {
      "cell_type": "markdown",
      "source": [
        "#**3. Definir Condiciones Iniciales y de Frontera**"
      ],
      "metadata": {
        "id": "zjuxEQMY_mOl"
      }
    },
    {
      "cell_type": "code",
      "source": [
        "#condición para x=0\n",
        "def in_boundary_1(x, on_initial):\n",
        "    return on_initial and np.isclose(x[0], 0)\n",
        "    \n",
        "#condicion para x=L\n",
        "def in_boundary_2(x, on_initial):\n",
        "    return on_initial and np.isclose(x[0], 1)"
      ],
      "metadata": {
        "id": "Zd-ijfdMNz0m"
      },
      "execution_count": 99,
      "outputs": []
    },
    {
      "cell_type": "code",
      "source": [
        "def IC_1(inputs, outputs, x):\n",
        "    return 0 \n",
        "def IC_2(inputs, outputs, x):\n",
        "    return dde.grad.jacobian(outputs, inputs)\n",
        "def IC_3(inputs, outputs, x):\n",
        "    return dde.grad.hessian(outputs, inputs)\n",
        "def IC_4(inputs, outputs, x):\n",
        "    inputs2 = dde.grad.jacobian(outputs, inputs)\n",
        "    return dde.grad.hessian(outputs, inputs2)-0.5"
      ],
      "metadata": {
        "id": "jdn6Q5MTVUJL"
      },
      "execution_count": 98,
      "outputs": []
    },
    {
      "cell_type": "code",
      "source": [
        "Ic1 = dde.icbc.IC(geom, IC_1, in_boundary_1)\n",
        "Ic2 = dde.icbc.OperatorBC(geom, IC_2, in_boundary_1)\n",
        "Ic3 = dde.icbc.OperatorBC(geom, IC_3, in_boundary_2)\n",
        "Ic4 = dde.icbc.OperatorBC(geom, IC_4, in_boundary_2)"
      ],
      "metadata": {
        "id": "tRm-JlMRwnA8"
      },
      "execution_count": 92,
      "outputs": []
    },
    {
      "cell_type": "markdown",
      "source": [
        "#**4. Crear Datos de Entrenamiento**"
      ],
      "metadata": {
        "id": "kXPe8FLU__yz"
      }
    },
    {
      "cell_type": "code",
      "source": [
        "data = dde.data.TimePDE(geom, ode, [Ic1,Ic2, Ic3, Ic4], 64, 4, solution=func, num_test=500)\n"
      ],
      "metadata": {
        "id": "k4pPtNNyxvPt"
      },
      "execution_count": 93,
      "outputs": []
    },
    {
      "cell_type": "markdown",
      "source": [
        "#**5. Crear la Red Neuronal**"
      ],
      "metadata": {
        "id": "5okJv2lnAD28"
      }
    },
    {
      "cell_type": "code",
      "source": [
        "layer_size = [1] + [30]*3 + [1]\n",
        "activation = \"tanh\"\n",
        "initializer = \"Glorot uniform\"\n",
        "net = dde.nn.FNN(layer_size, activation, initializer)"
      ],
      "metadata": {
        "id": "KHZMTgOm1b_-"
      },
      "execution_count": 94,
      "outputs": []
    },
    {
      "cell_type": "markdown",
      "source": [
        "#**6. Compilar y Entrenar el Modelo**"
      ],
      "metadata": {
        "id": "RWKXH7vXALsP"
      }
    },
    {
      "cell_type": "code",
      "source": [
        "# Modelo\n",
        "model = dde.Model(data, net)\n",
        "\n",
        "# Optimizador Adam\n",
        "model.compile(\"adam\", lr=0.001, loss_weights=[0.01, 1, 1], metrics=[\"l2 relative error\"] ) \n",
        "losshistory, train_state = model.train(iterations=7000)"
      ],
      "metadata": {
        "id": "9WVi9vWk1kuw"
      },
      "execution_count": null,
      "outputs": []
    }
  ]
}