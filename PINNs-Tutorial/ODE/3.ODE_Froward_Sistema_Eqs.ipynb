{
 "cells": [
  {
   "cell_type": "markdown",
   "id": "8656e974",
   "metadata": {},
   "source": [
    "![Semillero Astrofisica](../logo.PNG)"
   ]
  },
  {
   "cell_type": "markdown",
   "id": "43096876",
   "metadata": {},
   "source": [
    "---\n",
    "# Sistemas de Ecuaciones Diferenciales Ordinarias\n",
    "\n",
    "Carlos Andrés del Valle (cdelv@unal.edu.co)\n",
    "\n",
    "---"
   ]
  },
  {
   "cell_type": "markdown",
   "id": "d2ab1088",
   "metadata": {},
   "source": [
    "Vamos a resolver el sistema de ecuaciones que corresponde a uno de los modelos más simples de epidemias. El modelo SIR.\n",
    "\n",
    "\\begin{equation}\n",
    "    \\begin{split}\n",
    "        & \\frac{ds(t)}{dt} = -bs(t)i(t) \\\\\n",
    "        & \\frac{di(t)}{dt} = bs(t)i(t)-ki(t) \\\\\n",
    "        & \\frac{dr(t)}{dt} = ki(t) \\\\\n",
    "    \\end{split}\n",
    "\\end{equation}\n",
    "\n",
    "con $b=1/2$ y $k=1/3$. Las condiciones iniciales son\n",
    "\\begin{equation}\n",
    "    \\begin{split}\n",
    "        & s(0)=0.95 \\\\\n",
    "        & i(0)=0.05\\\\\n",
    "        & r(0)=0 \\\\\n",
    "    \\end{split}\n",
    "\\end{equation}"
   ]
  },
  {
   "cell_type": "code",
   "execution_count": 1,
   "id": "1dcd02c3",
   "metadata": {},
   "outputs": [
    {
     "name": "stderr",
     "output_type": "stream",
     "text": [
      "Using backend: tensorflow.compat.v1\n",
      "\n",
      "2022-10-19 23:31:50.977180: I tensorflow/core/util/util.cc:169] oneDNN custom operations are on. You may see slightly different numerical results due to floating-point round-off errors from different computation orders. To turn them off, set the environment variable `TF_ENABLE_ONEDNN_OPTS=0`.\n",
      "2022-10-19 23:31:50.980901: W tensorflow/stream_executor/platform/default/dso_loader.cc:64] Could not load dynamic library 'libcudart.so.11.0'; dlerror: libcudart.so.11.0: cannot open shared object file: No such file or directory\n",
      "2022-10-19 23:31:50.980941: I tensorflow/stream_executor/cuda/cudart_stub.cc:29] Ignore above cudart dlerror if you do not have a GPU set up on your machine.\n"
     ]
    },
    {
     "name": "stdout",
     "output_type": "stream",
     "text": [
      "WARNING:tensorflow:From /home/wind/.local/lib/python3.10/site-packages/tensorflow/python/compat/v2_compat.py:107: disable_resource_variables (from tensorflow.python.ops.variable_scope) is deprecated and will be removed in a future version.\n",
      "Instructions for updating:\n",
      "non-resource variables are not supported in the long term\n"
     ]
    },
    {
     "name": "stderr",
     "output_type": "stream",
     "text": [
      "2022-10-19 23:31:52.167206: E tensorflow/stream_executor/cuda/cuda_driver.cc:271] failed call to cuInit: CUDA_ERROR_NO_DEVICE: no CUDA-capable device is detected\n",
      "2022-10-19 23:31:52.167248: I tensorflow/stream_executor/cuda/cuda_diagnostics.cc:156] kernel driver does not appear to be running on this host (pop-os): /proc/driver/nvidia/version does not exist\n"
     ]
    },
    {
     "name": "stdout",
     "output_type": "stream",
     "text": [
      "WARNING:tensorflow:From /home/wind/.local/lib/python3.10/site-packages/deepxde/nn/initializers.py:118: The name tf.keras.initializers.he_normal is deprecated. Please use tf.compat.v1.keras.initializers.he_normal instead.\n",
      "\n"
     ]
    }
   ],
   "source": [
    "import deepxde as dde\n",
    "import numpy as np\n",
    "import matplotlib.pyplot as plt\n",
    "\n",
    "#Usar doble precisión si la GPU lo soporta. Float32 por defecto.\n",
    "dde.config.real.set_float64()"
   ]
  },
  {
   "cell_type": "markdown",
   "id": "af161421",
   "metadata": {},
   "source": [
    "## 1. Definir la Ecuación a Resolver"
   ]
  },
  {
   "cell_type": "code",
   "execution_count": 2,
   "id": "62b723c3",
   "metadata": {},
   "outputs": [],
   "source": [
    "b = 1/2\n",
    "k = 1/3\n",
    "\n",
    "def ode_system(x, y):\n",
    "    s, i, r = y[:, 0:1], y[:, 1:2], y[:, 2:]\n",
    "    ds_dt = dde.grad.jacobian(y, x, i=0)\n",
    "    di_dt = dde.grad.jacobian(y, x, i=1)\n",
    "    dr_dt = dde.grad.jacobian(y, x, i=2)\n",
    "    return [ds_dt + b*s*i, \n",
    "            di_dt - b*s*i + k*i, \n",
    "            dr_dt - k*i,\n",
    "           ]"
   ]
  },
  {
   "cell_type": "markdown",
   "id": "378d03ae",
   "metadata": {},
   "source": [
    "## 2. Definir Dominio de la Ecuación\n",
    "\n",
    "Como tenemos solo dependencia temporal, podemos aprovechar el dominio TimeDomain\n",
    "\n",
    "~~~python\n",
    "class deepxde.geometry.timedomain.TimeDomain(t0, t1)\n",
    "~~~\n",
    "\n",
    "Esta clase de dominio crea el booleano para definir las coondiciones iniciales\n",
    "\n",
    "~~~pyhton\n",
    "on_initial(t)\n",
    "~~~"
   ]
  },
  {
   "cell_type": "code",
   "execution_count": 3,
   "id": "5e8c3f39",
   "metadata": {},
   "outputs": [],
   "source": [
    "geom = dde.geometry.TimeDomain(0, 35)"
   ]
  },
  {
   "cell_type": "markdown",
   "id": "db85c889",
   "metadata": {},
   "source": [
    "## 3. Definir Condiciones Iniciales y de Frontera\n",
    "\n",
    "~~~python\n",
    "class deepxde.icbc.initial_conditions.IC(geom, \n",
    "                                         func, \n",
    "                                         on_initial, \n",
    "                                         component=0)\n",
    "~~~\n",
    "\n",
    "Initial conditions: y([x, t0]) = func([x, t0])"
   ]
  },
  {
   "cell_type": "code",
   "execution_count": 4,
   "id": "c4da2282",
   "metadata": {},
   "outputs": [],
   "source": [
    "def boundary(_, on_initial):\n",
    "    return on_initial\n",
    "\n",
    "inf = 5e-2\n",
    "\n",
    "ic1 = dde.icbc.IC(geom, lambda x: 1-inf, boundary, component=0)\n",
    "ic2 = dde.icbc.IC(geom, lambda x:   inf, boundary, component=1)\n",
    "ic3 = dde.icbc.IC(geom, lambda x:     0, boundary, component=2)"
   ]
  },
  {
   "cell_type": "markdown",
   "id": "6eacee10",
   "metadata": {},
   "source": [
    "## 4. Crear Datos de Entrenamiento\n",
    "\n",
    "vamos a crear los datos de entrenamiento\n",
    "\n",
    "~~~python\n",
    "class deepxde.data.pde.TimePDE(geometryxtime, \n",
    "                               pde, \n",
    "                               ic_bcs, \n",
    "                               num_domain=0, \n",
    "                               num_boundary=0, \n",
    "                               num_initial=0, \n",
    "                               train_distribution='Hammersley', \n",
    "                               anchors=None, \n",
    "                               exclusions=None, \n",
    "                               solution=None, \n",
    "                               num_test=None, \n",
    "                               auxiliary_var_function=None\n",
    "~~~\n",
    "\n",
    "Detalles en https://deepxde.readthedocs.io/en/latest/modules/deepxde.data.html?highlight=data.TimePDE#deepxde.data.pde.TimePDE. "
   ]
  },
  {
   "cell_type": "code",
   "execution_count": 5,
   "id": "4aaa837e",
   "metadata": {},
   "outputs": [],
   "source": [
    "data = dde.data.PDE(geom, ode_system, [ic1, ic2, ic3], 62, 8, num_test=0)"
   ]
  },
  {
   "cell_type": "markdown",
   "id": "ac302a79",
   "metadata": {},
   "source": [
    "## 5. Crear la Red Neuronal\n",
    "\n",
    "Vamos a utilizar una **Fully-connected neural network**.\n",
    "\n",
    "~~~python\n",
    "class deepxde.nn.tensorflow.fnn.FNN(layer_sizes, activation, \n",
    "                                    kernel_initializer, \n",
    "                                    regularization=None, \n",
    "                                    dropout_rate=0)\n",
    "~~~"
   ]
  },
  {
   "cell_type": "code",
   "execution_count": 6,
   "id": "6a283a8e",
   "metadata": {},
   "outputs": [],
   "source": [
    "layer_size = [1] + [40]*3 + [3]  # Hay 3 salidas: (s, i, r)\n",
    "activation = \"tanh\"\n",
    "initializer = \"Glorot uniform\"\n",
    "net = dde.nn.FNN(layer_size, activation, initializer)"
   ]
  },
  {
   "cell_type": "markdown",
   "id": "8d7c59ef",
   "metadata": {},
   "source": [
    "## 6. Compilar y Entrenar el Modelo\n",
    "\n",
    "Vamos a usar LBFGS para tener una buena convergencia. Adam no funciona bien en este tipo de problemas."
   ]
  },
  {
   "cell_type": "code",
   "execution_count": 7,
   "id": "e7365f6b",
   "metadata": {},
   "outputs": [
    {
     "name": "stdout",
     "output_type": "stream",
     "text": [
      "Compiling model...\n",
      "Building feed-forward neural network...\n",
      "'build' took 0.036547 s\n",
      "\n"
     ]
    },
    {
     "name": "stderr",
     "output_type": "stream",
     "text": [
      "/home/wind/.local/lib/python3.10/site-packages/deepxde/nn/tensorflow_compat_v1/fnn.py:103: UserWarning: `tf.layers.dense` is deprecated and will be removed in a future version. Please use `tf.keras.layers.Dense` instead.\n",
      "  return tf.layers.dense(\n",
      "2022-10-19 23:31:53.562182: I tensorflow/core/platform/cpu_feature_guard.cc:193] This TensorFlow binary is optimized with oneAPI Deep Neural Network Library (oneDNN) to use the following CPU instructions in performance-critical operations:  AVX2 AVX512F AVX512_VNNI FMA\n",
      "To enable them in other operations, rebuild TensorFlow with the appropriate compiler flags.\n"
     ]
    },
    {
     "name": "stdout",
     "output_type": "stream",
     "text": [
      "'compile' took 0.249096 s\n",
      "\n",
      "Initializing variables...\n",
      "Training model...\n",
      "\n",
      "Step      Train loss                                                      Test loss                                                       Test metric\n",
      "0         [2.89e-04, 2.27e-01, 1.71e-01, 9.02e-01, 2.50e-03, 0.00e+00]    [nan, nan, nan, 9.02e-01, 2.50e-03, 0.00e+00]                   []  \n"
     ]
    },
    {
     "name": "stderr",
     "output_type": "stream",
     "text": [
      "2022-10-19 23:31:53.779399: I tensorflow/compiler/mlir/mlir_graph_optimization_pass.cc:354] MLIR V1 optimization pass is not enabled\n"
     ]
    },
    {
     "name": "stdout",
     "output_type": "stream",
     "text": [
      "1000      [1.43e-09, 2.17e-09, 1.30e-09, 3.07e-14, 9.83e-13, 7.78e-13]                                                                        \n",
      "2000      [5.00e-11, 1.58e-10, 2.05e-10, 1.95e-16, 1.81e-14, 6.84e-14]                                                                        \n",
      "INFO:tensorflow:Optimization terminated with:\n",
      "  Message: CONVERGENCE: NORM_OF_PROJECTED_GRADIENT_<=_PGTOL\n",
      "  Objective function value: 0.000000\n",
      "  Number of iterations: 2648\n",
      "  Number of functions evaluations: 2993\n",
      "2993      [2.37e-11, 1.12e-10, 3.77e-11, 8.28e-18, 2.09e-17, 2.46e-17]    [nan, nan, nan, 8.28e-18, 2.09e-17, 2.46e-17]                   []  \n",
      "\n",
      "Best model at step 2993:\n",
      "  train loss: 1.73e-10\n",
      "  test loss: nan\n",
      "  test metric: []\n",
      "\n",
      "'train' took 10.916892 s\n",
      "\n"
     ]
    }
   ],
   "source": [
    "# Modelo\n",
    "model = dde.Model(data, net)\n",
    "\n",
    "# Optimizador L-BFGS\n",
    "dde.optimizers.config.set_LBFGS_options(maxiter=5000)\n",
    "model.compile(\"L-BFGS\")\n",
    "losshistory, train_state = model.train()"
   ]
  },
  {
   "cell_type": "markdown",
   "id": "ce13bd4f",
   "metadata": {},
   "source": [
    "## 7. Visualizar la Solución"
   ]
  },
  {
   "cell_type": "code",
   "execution_count": 8,
   "id": "a8a2befe",
   "metadata": {},
   "outputs": [
    {
     "data": {
      "image/png": "[encoded data removed]",
      "text/plain": [
       "<Figure size 432x288 with 1 Axes>"
      ]
     },
     "metadata": {
      "needs_background": "light"
     },
     "output_type": "display_data"
    }
   ],
   "source": [
    "dde.utils.external.plot_loss_history(losshistory)"
   ]
  },
  {
   "cell_type": "markdown",
   "id": "6e508bf5",
   "metadata": {},
   "source": [
    "~~~python\n",
    "uniform_points(n, boundary=True)\n",
    "~~~"
   ]
  },
  {
   "cell_type": "code",
   "execution_count": 9,
   "id": "971d463d",
   "metadata": {},
   "outputs": [
    {
     "data": {
      "image/png": "[encoded data removed]",
      "text/plain": [
       "<Figure size 432x288 with 1 Axes>"
      ]
     },
     "metadata": {
      "needs_background": "light"
     },
     "output_type": "display_data"
    }
   ],
   "source": [
    "#geom = dde.geometry.TimeDomain(0, 140)\n",
    "t = geom.uniform_points(1000)\n",
    "y = model.predict(t)\n",
    "\n",
    "plt.plot(t,y[:,0],label=\"Sanos\")\n",
    "plt.plot(t,y[:,1],label=\"Infectados\")\n",
    "plt.plot(t,y[:,2],label=\"Recuperados\")\n",
    "plt.title('Evolución de la Epidemia')\n",
    "plt.xlabel('Días')\n",
    "plt.ylabel('% Población')\n",
    "plt.legend()\n",
    "plt.show()"
   ]
  },
  {
   "cell_type": "code",
   "execution_count": null,
   "id": "db99cd07",
   "metadata": {},
   "outputs": [],
   "source": []
  }
 ],
 "metadata": {
  "kernelspec": {
   "display_name": "Python 3 (ipykernel)",
   "language": "python",
   "name": "python3"
  },
  "language_info": {
   "codemirror_mode": {
    "name": "ipython",
    "version": 3
   },
   "file_extension": ".py",
   "mimetype": "text/x-python",
   "name": "python",
   "nbconvert_exporter": "python",
   "pygments_lexer": "ipython3",
   "version": "3.10.6"
  }
 },
 "nbformat": 4,
 "nbformat_minor": 5
}
