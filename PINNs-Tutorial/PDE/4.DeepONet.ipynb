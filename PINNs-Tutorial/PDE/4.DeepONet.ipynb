{
 "cells": [
  {
   "cell_type": "markdown",
   "id": "048ba900",
   "metadata": {},
   "source": [
    "![Semillero Astrofisica](../../logo.png)"
   ]
  },
  {
   "cell_type": "markdown",
   "id": "97f86b68",
   "metadata": {},
   "source": [
    "---\n",
    "# Operator Learning\n",
    "\n",
    "\n",
    "Carlos Andrés del Valle (cdelv@unal.edu.co)\n",
    "\n",
    "---"
   ]
  },
  {
   "cell_type": "markdown",
   "id": "ee892b33",
   "metadata": {},
   "source": [
    "La versión superior de las Redes Neuronales Físicamente Informadas es el aprendizaje de operadores. Podemos enseñarle a la red un operador en vez de una ecuación, y con suerte, esta red será más flexible y precisa en sus predicciones. La siguiente charla ilustra muy bien estas redes\n",
    "\n",
    "https://www.youtube.com/watch?v=QV1fVttZ6YE&t=3602s\n",
    "\n",
    "Vamos a aprender el operador \n",
    "\\begin{equation}\n",
    "    G: v\\to u\n",
    "\\end{equation}\n",
    "\n",
    "definido como\n",
    "\\begin{equation}\n",
    "    \\frac{d}{dx}u(x)=v(x),\\qquad x\\in[0,1]\n",
    "\\end{equation}\n",
    "\n",
    "con $u(0)=0$. Vamos a usar un set de datos $(u,v)$ del cuál se va a aprender el operador. En el siguiente link hay más detalles sobre este ejemplo y cómo se generó el set de datos\n",
    "https://deepxde.readthedocs.io/en/latest/demos/operator/antiderivative_aligned.html.\n"
   ]
  },
  {
   "cell_type": "code",
   "execution_count": 1,
   "id": "97f020ec",
   "metadata": {},
   "outputs": [
    {
     "name": "stderr",
     "output_type": "stream",
     "text": [
      "Using backend: tensorflow.compat.v1\n",
      "\n",
      "2022-11-13 12:26:29.300441: I tensorflow/core/platform/cpu_feature_guard.cc:193] This TensorFlow binary is optimized with oneAPI Deep Neural Network Library (oneDNN) to use the following CPU instructions in performance-critical operations:  AVX2 AVX512F AVX512_VNNI FMA\n",
      "To enable them in other operations, rebuild TensorFlow with the appropriate compiler flags.\n",
      "2022-11-13 12:26:29.409735: I tensorflow/core/util/util.cc:169] oneDNN custom operations are on. You may see slightly different numerical results due to floating-point round-off errors from different computation orders. To turn them off, set the environment variable `TF_ENABLE_ONEDNN_OPTS=0`.\n",
      "2022-11-13 12:26:29.413482: W tensorflow/stream_executor/platform/default/dso_loader.cc:64] Could not load dynamic library 'libcudart.so.11.0'; dlerror: libcudart.so.11.0: cannot open shared object file: No such file or directory\n",
      "2022-11-13 12:26:29.413495: I tensorflow/stream_executor/cuda/cudart_stub.cc:29] Ignore above cudart dlerror if you do not have a GPU set up on your machine.\n",
      "2022-11-13 12:26:29.432843: E tensorflow/stream_executor/cuda/cuda_blas.cc:2981] Unable to register cuBLAS factory: Attempting to register factory for plugin cuBLAS when one has already been registered\n",
      "2022-11-13 12:26:29.874749: W tensorflow/stream_executor/platform/default/dso_loader.cc:64] Could not load dynamic library 'libnvinfer.so.7'; dlerror: libnvinfer.so.7: cannot open shared object file: No such file or directory\n",
      "2022-11-13 12:26:29.874802: W tensorflow/stream_executor/platform/default/dso_loader.cc:64] Could not load dynamic library 'libnvinfer_plugin.so.7'; dlerror: libnvinfer_plugin.so.7: cannot open shared object file: No such file or directory\n",
      "2022-11-13 12:26:29.874807: W tensorflow/compiler/tf2tensorrt/utils/py_utils.cc:38] TF-TRT Warning: Cannot dlopen some TensorRT libraries. If you would like to use Nvidia GPU with TensorRT, please make sure the missing libraries mentioned above are installed properly.\n"
     ]
    },
    {
     "name": "stdout",
     "output_type": "stream",
     "text": [
      "WARNING:tensorflow:From /home/wind/.local/lib/python3.10/site-packages/tensorflow/python/compat/v2_compat.py:107: disable_resource_variables (from tensorflow.python.ops.variable_scope) is deprecated and will be removed in a future version.\n",
      "Instructions for updating:\n",
      "non-resource variables are not supported in the long term\n"
     ]
    },
    {
     "name": "stderr",
     "output_type": "stream",
     "text": [
      "WARNING:tensorflow:From /home/wind/.local/lib/python3.10/site-packages/tensorflow/python/compat/v2_compat.py:107: disable_resource_variables (from tensorflow.python.ops.variable_scope) is deprecated and will be removed in a future version.\n",
      "Instructions for updating:\n",
      "non-resource variables are not supported in the long term\n",
      "2022-11-13 12:26:30.674511: E tensorflow/stream_executor/cuda/cuda_driver.cc:265] failed call to cuInit: CUDA_ERROR_NO_DEVICE: no CUDA-capable device is detected\n",
      "2022-11-13 12:26:30.674570: I tensorflow/stream_executor/cuda/cuda_diagnostics.cc:156] kernel driver does not appear to be running on this host (pop-os): /proc/driver/nvidia/version does not exist\n"
     ]
    },
    {
     "name": "stdout",
     "output_type": "stream",
     "text": [
      "WARNING:tensorflow:From /home/wind/.local/lib/python3.10/site-packages/deepxde/nn/initializers.py:118: The name tf.keras.initializers.he_normal is deprecated. Please use tf.compat.v1.keras.initializers.he_normal instead.\n",
      "\n"
     ]
    },
    {
     "name": "stderr",
     "output_type": "stream",
     "text": [
      "WARNING:tensorflow:From /home/wind/.local/lib/python3.10/site-packages/deepxde/nn/initializers.py:118: The name tf.keras.initializers.he_normal is deprecated. Please use tf.compat.v1.keras.initializers.he_normal instead.\n",
      "\n"
     ]
    }
   ],
   "source": [
    "import deepxde as dde\n",
    "import matplotlib.pyplot as plt\n",
    "import numpy as np\n",
    "\n",
    "#Usar doble precisión si la GPU lo soporta. Float32 por defecto.\n",
    "dde.config.real.set_float64()"
   ]
  },
  {
   "cell_type": "markdown",
   "id": "a279cfaf",
   "metadata": {},
   "source": [
    "## 1. Organizar el Set de Datos\n",
    "\n",
    "- Las funciones $v(x)$ serán un array (mxn), con m el número de funciones y n es número de muestras de dicha función.\n",
    "\n",
    "- La coordenada x será un array de tamaño n\n",
    "\n",
    "- Las funciones $u(x)$ de también serán un array (mxn)."
   ]
  },
  {
   "cell_type": "code",
   "execution_count": 4,
   "id": "bb59d13f",
   "metadata": {},
   "outputs": [],
   "source": [
    "# Tenmos 150 funciones de entrenamiento\n",
    "d = np.load(\"antiderivative_aligned_train.npz\", allow_pickle=True)\n",
    "X_train, y_train = (d[\"X\"][0], d[\"X\"][1]), d[\"y\"]\n",
    "\n",
    "# Tenemos 700 funciones de prueba\n",
    "d = np.load(\"antiderivative_aligned_test.npz\", allow_pickle=True)\n",
    "X_test, y_test = (d[\"X\"][0], d[\"X\"][1]), d[\"y\"]"
   ]
  },
  {
   "cell_type": "markdown",
   "id": "3c56bfb3",
   "metadata": {},
   "source": [
    "## 2. Definir Datos de Entrenamiento\n",
    "\n",
    "~~~python\n",
    "class deepxde.data.triple.TripleCartesianProd(X_train, \n",
    "                                              y_train, \n",
    "                                              X_test, \n",
    "                                              y_test)\n",
    "~~~\n",
    "\n",
    "Dataset with each data point as a triple. The ordered pair of the first two elements are created from a Cartesian product of the first two lists. If we compute the Cartesian product of the first two arrays, then we have a Triple dataset.\n",
    "\n",
    "This dataset can be used with the network DeepONetCartesianProd for operator learning.\n",
    "\n",
    "**Parameters:**\t\n",
    "- **X_train** – A tuple of two NumPy arrays. The first element has the shape (N1, dim1), and the second element has the shape (N2, dim2).\n",
    "- **y_train** – A NumPy array of shape (N1, N2).\n",
    "\n",
    "https://deepxde.readthedocs.io/en/latest/modules/deepxde.data.html?highlight=data.TripleCartesianProd#deepxde.data.triple.TripleCartesianProd"
   ]
  },
  {
   "cell_type": "code",
   "execution_count": 5,
   "id": "8045b9ec",
   "metadata": {},
   "outputs": [],
   "source": [
    "data = dde.data.TripleCartesianProd(\n",
    "    X_train=X_train, y_train=y_train, X_test=X_test, y_test=y_test\n",
    ")"
   ]
  },
  {
   "cell_type": "markdown",
   "id": "2632156a",
   "metadata": {},
   "source": [
    "## 3. Crear la Red Neuronal\n",
    "\n",
    "~~~ python\n",
    "class deepxde.nn.tensorflow_compat_v1.deeponet.DeepONetCartesianProd(layer_size_branch, \n",
    "                                                                     layer_size_trunk, \n",
    "                                                                     activation, \n",
    "                                                                     kernel_initializer, \n",
    "                                                                     regularization=None)\n",
    "~~~\n",
    "\n",
    "**Cuidado: Hay diferentes implementaciones para cada backend!!**\n",
    "\n",
    "https://deepxde.readthedocs.io/en/latest/modules/deepxde.nn.tensorflow_compat_v1.html?highlight=DeepONetCartesianProd#deepxde.nn.tensorflow_compat_v1.deeponet.DeepONetCartesianProd"
   ]
  },
  {
   "cell_type": "code",
   "execution_count": 6,
   "id": "47ef2a1f",
   "metadata": {},
   "outputs": [],
   "source": [
    "m = 100\n",
    "dim_x = 1\n",
    "net = dde.nn.DeepONetCartesianProd(\n",
    "    [m, 40, 40],\n",
    "    [dim_x, 40, 40],\n",
    "    \"relu\",\n",
    "    \"Glorot normal\",\n",
    ")"
   ]
  },
  {
   "cell_type": "markdown",
   "id": "9ac18d3d",
   "metadata": {},
   "source": [
    "## 4. Compilar y Entrenar el Modelo "
   ]
  },
  {
   "cell_type": "code",
   "execution_count": 7,
   "id": "f93f54e0",
   "metadata": {},
   "outputs": [
    {
     "name": "stdout",
     "output_type": "stream",
     "text": [
      "Compiling model...\n",
      "Building DeepONetCartesianProd...\n",
      "'build' took 0.038807 s\n",
      "\n",
      "'compile' took 0.135794 s\n",
      "\n",
      "Initializing variables...\n",
      "Training model...\n",
      "\n"
     ]
    },
    {
     "name": "stderr",
     "output_type": "stream",
     "text": [
      "/home/wind/.local/lib/python3.10/site-packages/deepxde/nn/tensorflow_compat_v1/deeponet.py:312: UserWarning: `tf.layers.dense` is deprecated and will be removed in a future version. Please use `tf.keras.layers.Dense` instead.\n",
      "  y_func = tf.layers.dense(\n",
      "/home/wind/.local/lib/python3.10/site-packages/deepxde/nn/tensorflow_compat_v1/deeponet.py:319: UserWarning: `tf.layers.dense` is deprecated and will be removed in a future version. Please use `tf.keras.layers.Dense` instead.\n",
      "  y_func = tf.layers.dense(\n",
      "/home/wind/.local/lib/python3.10/site-packages/deepxde/nn/tensorflow_compat_v1/deeponet.py:331: UserWarning: `tf.layers.dense` is deprecated and will be removed in a future version. Please use `tf.keras.layers.Dense` instead.\n",
      "  y_loc = tf.layers.dense(\n",
      "2022-11-13 15:00:48.016456: I tensorflow/core/platform/cpu_feature_guard.cc:193] This TensorFlow binary is optimized with oneAPI Deep Neural Network Library (oneDNN) to use the following CPU instructions in performance-critical operations:  AVX2 AVX512F AVX512_VNNI FMA\n",
      "To enable them in other operations, rebuild TensorFlow with the appropriate compiler flags.\n",
      "2022-11-13 15:00:48.116616: I tensorflow/compiler/mlir/mlir_graph_optimization_pass.cc:354] MLIR V1 optimization pass is not enabled\n"
     ]
    },
    {
     "name": "stdout",
     "output_type": "stream",
     "text": [
      "Step      Train loss    Test loss     Test metric   \n",
      "0         [3.35e-01]    [4.07e-01]    [1.11e+00]    \n",
      "1000      [1.70e-04]    [1.86e-04]    [4.97e-02]    \n",
      "2000      [3.27e-05]    [4.42e-05]    [2.61e-02]    \n",
      "3000      [2.12e-05]    [2.87e-05]    [2.13e-02]    \n",
      "4000      [1.68e-05]    [2.29e-05]    [1.93e-02]    \n",
      "5000      [1.51e-05]    [2.06e-05]    [1.83e-02]    \n",
      "6000      [1.33e-05]    [1.86e-05]    [1.75e-02]    \n",
      "7000      [1.78e-05]    [2.29e-05]    [1.78e-02]    \n",
      "8000      [1.49e-05]    [1.94e-05]    [1.73e-02]    \n",
      "9000      [9.00e-06]    [1.46e-05]    [1.53e-02]    \n",
      "10000     [6.62e-06]    [1.20e-05]    [1.39e-02]    \n",
      "\n",
      "Best model at step 10000:\n",
      "  train loss: 6.62e-06\n",
      "  test loss: 1.20e-05\n",
      "  test metric: [1.39e-02]\n",
      "\n",
      "'train' took 7.555682 s\n",
      "\n"
     ]
    }
   ],
   "source": [
    "model = dde.Model(data, net)\n",
    "model.compile(\"adam\", lr=0.001, metrics=[\"mean l2 relative error\"])\n",
    "losshistory, train_state = model.train(iterations=10000)"
   ]
  },
  {
   "cell_type": "markdown",
   "id": "01b2632b",
   "metadata": {},
   "source": [
    "## 7. Visualizar la Solución"
   ]
  },
  {
   "cell_type": "code",
   "execution_count": 8,
   "id": "361c200a",
   "metadata": {},
   "outputs": [
    {
     "name": "stdout",
     "output_type": "stream",
     "text": [
      "Error: The network has multiple inputs, and plotting such result han't been implemented.\n"
     ]
    },
    {
     "data": {
      "image/png": "[encoded data removed]",
      "text/plain": [
       "<Figure size 432x288 with 1 Axes>"
      ]
     },
     "metadata": {
      "needs_background": "light"
     },
     "output_type": "display_data"
    }
   ],
   "source": [
    "dde.saveplot(losshistory, train_state, issave=False, isplot=True) "
   ]
  }
 ],
 "metadata": {
  "kernelspec": {
   "display_name": "Python 3 (ipykernel)",
   "language": "python",
   "name": "python3"
  },
  "language_info": {
   "codemirror_mode": {
    "name": "ipython",
    "version": 3
   },
   "file_extension": ".py",
   "mimetype": "text/x-python",
   "name": "python",
   "nbconvert_exporter": "python",
   "pygments_lexer": "ipython3",
   "version": "3.10.6"
  }
 },
 "nbformat": 4,
 "nbformat_minor": 5
}
