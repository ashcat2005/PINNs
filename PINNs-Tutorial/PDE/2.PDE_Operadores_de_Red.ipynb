{
 "cells": [
  {
   "cell_type": "markdown",
   "id": "048ba900",
   "metadata": {},
   "source": [
    "![Semillero Astrofisica](../../logo.png)"
   ]
  },
  {
   "cell_type": "markdown",
   "id": "97f86b68",
   "metadata": {},
   "source": [
    "---\n",
    "# Ecuaciones Diferenciales Parciales: Poisson con Operadores de Red\n",
    "\n",
    "\n",
    "Carlos Andrés del Valle (cdelv@unal.edu.co)\n",
    "\n",
    "---"
   ]
  },
  {
   "cell_type": "markdown",
   "id": "ee892b33",
   "metadata": {},
   "source": [
    "Vamos a resolver la ecuación Poisson \n",
    "\n",
    "\\begin{equation}\n",
    "    -\\nabla^2 u=\\sum_{k=1}^4k\\sin{kx}+8\\sin{8x},\\quad x\\in[0,\\pi]\n",
    "\\end{equation}\n",
    "\n",
    "Con condiciones de frontera periódicas\n",
    "\\begin{equation}\n",
    "    \\begin{split}\n",
    "        & u(0)=0 \\\\\n",
    "        & u(\\pi)=\\pi \\\\\n",
    "    \\end{split}\n",
    "\\end{equation}\n",
    "\n",
    "La solución analítica es\n",
    "\\begin{equation}\n",
    "    u(x)=x+\\sum_{k=1}^4\\frac{\\sin{kx}}{k}+\\frac{\\sin{8x}}{8}\n",
    "\\end{equation}"
   ]
  },
  {
   "cell_type": "code",
   "execution_count": 1,
   "id": "97f020ec",
   "metadata": {},
   "outputs": [
    {
     "name": "stderr",
     "output_type": "stream",
     "text": [
      "Using backend: tensorflow.compat.v1\n",
      "\n",
      "2022-10-22 09:52:37.559700: I tensorflow/core/platform/cpu_feature_guard.cc:193] This TensorFlow binary is optimized with oneAPI Deep Neural Network Library (oneDNN) to use the following CPU instructions in performance-critical operations:  AVX2 AVX512F AVX512_VNNI FMA\n",
      "To enable them in other operations, rebuild TensorFlow with the appropriate compiler flags.\n",
      "2022-10-22 09:52:37.677332: I tensorflow/core/util/util.cc:169] oneDNN custom operations are on. You may see slightly different numerical results due to floating-point round-off errors from different computation orders. To turn them off, set the environment variable `TF_ENABLE_ONEDNN_OPTS=0`.\n",
      "2022-10-22 09:52:37.681417: W tensorflow/stream_executor/platform/default/dso_loader.cc:64] Could not load dynamic library 'libcudart.so.11.0'; dlerror: libcudart.so.11.0: cannot open shared object file: No such file or directory\n",
      "2022-10-22 09:52:37.681432: I tensorflow/stream_executor/cuda/cudart_stub.cc:29] Ignore above cudart dlerror if you do not have a GPU set up on your machine.\n",
      "2022-10-22 09:52:37.701695: E tensorflow/stream_executor/cuda/cuda_blas.cc:2981] Unable to register cuBLAS factory: Attempting to register factory for plugin cuBLAS when one has already been registered\n",
      "2022-10-22 09:52:38.155212: W tensorflow/stream_executor/platform/default/dso_loader.cc:64] Could not load dynamic library 'libnvinfer.so.7'; dlerror: libnvinfer.so.7: cannot open shared object file: No such file or directory\n",
      "2022-10-22 09:52:38.155262: W tensorflow/stream_executor/platform/default/dso_loader.cc:64] Could not load dynamic library 'libnvinfer_plugin.so.7'; dlerror: libnvinfer_plugin.so.7: cannot open shared object file: No such file or directory\n",
      "2022-10-22 09:52:38.155265: W tensorflow/compiler/tf2tensorrt/utils/py_utils.cc:38] TF-TRT Warning: Cannot dlopen some TensorRT libraries. If you would like to use Nvidia GPU with TensorRT, please make sure the missing libraries mentioned above are installed properly.\n"
     ]
    },
    {
     "name": "stdout",
     "output_type": "stream",
     "text": [
      "WARNING:tensorflow:From /home/wind/.local/lib/python3.10/site-packages/tensorflow/python/compat/v2_compat.py:107: disable_resource_variables (from tensorflow.python.ops.variable_scope) is deprecated and will be removed in a future version.\n",
      "Instructions for updating:\n",
      "non-resource variables are not supported in the long term\n"
     ]
    },
    {
     "name": "stderr",
     "output_type": "stream",
     "text": [
      "2022-10-22 09:52:38.849397: E tensorflow/stream_executor/cuda/cuda_driver.cc:265] failed call to cuInit: CUDA_ERROR_NO_DEVICE: no CUDA-capable device is detected\n",
      "2022-10-22 09:52:38.849444: I tensorflow/stream_executor/cuda/cuda_diagnostics.cc:156] kernel driver does not appear to be running on this host (pop-os): /proc/driver/nvidia/version does not exist\n"
     ]
    },
    {
     "name": "stdout",
     "output_type": "stream",
     "text": [
      "WARNING:tensorflow:From /home/wind/.local/lib/python3.10/site-packages/deepxde/nn/initializers.py:118: The name tf.keras.initializers.he_normal is deprecated. Please use tf.compat.v1.keras.initializers.he_normal instead.\n",
      "\n"
     ]
    }
   ],
   "source": [
    "import deepxde as dde\n",
    "from deepxde.backend import tf\n",
    "import numpy as np\n",
    "\n",
    "#Usar doble precisión si la GPU lo soporta. Float32 por defecto.\n",
    "dde.config.real.set_float64()\n",
    "tf.keras.backend.set_floatx('float64')"
   ]
  },
  {
   "cell_type": "markdown",
   "id": "a279cfaf",
   "metadata": {},
   "source": [
    "## 1. Definir la Ecuación a Resolver"
   ]
  },
  {
   "cell_type": "code",
   "execution_count": 2,
   "id": "bb59d13f",
   "metadata": {},
   "outputs": [],
   "source": [
    " def pde(x, y):\n",
    "    dy_xx = dde.grad.hessian(y, x)\n",
    "    summation = sum([k*tf.sin(k*x) for k in range(1, 5)])\n",
    "    return dy_xx + summation + 8*tf.sin(8*x)\n",
    "\n",
    "def func(x):\n",
    "    summation = sum([np.sin(k*x)/k for k in range(1, 5)])\n",
    "    return x + summation + np.sin(8*x)/8"
   ]
  },
  {
   "cell_type": "markdown",
   "id": "3c56bfb3",
   "metadata": {},
   "source": [
    "## 2. Definir Dominio de la Ecuación"
   ]
  },
  {
   "cell_type": "code",
   "execution_count": 3,
   "id": "8045b9ec",
   "metadata": {},
   "outputs": [],
   "source": [
    "geom = dde.geometry.Interval(0, np.pi)"
   ]
  },
  {
   "cell_type": "markdown",
   "id": "2632156a",
   "metadata": {},
   "source": [
    "## 3. Definir Condiciones Iniciales y de Frontera\n",
    "\n",
    "No vamos a definir condiciones de frontera de la forma estandar, en lugar de eso, vamos a crear una operador de red que las va a imponer de forma fuerte. \n",
    "\n",
    "La idea es que \n",
    "\\begin{equation}\n",
    "    \\hat{u}(x)=x(\\pi-x)u(x)+x\n",
    "\\end{equation}\n",
    "\n",
    "Entonces cuando estamos en una frontera, $u(0)=0$ o $u(\\pi)=\\pi$ se satisfacen las condiciones de frontera automáticamente. \n",
    "\n",
    "Como las redes neuronales de por sí no son lineales, no pasa nada si se definen estas transformaciones no lineales. "
   ]
  },
  {
   "cell_type": "code",
   "execution_count": 4,
   "id": "47ef2a1f",
   "metadata": {},
   "outputs": [],
   "source": [
    "def  output_transform(x, y):\n",
    "    return x*(np.pi - x)*y + x\n",
    "\n",
    "#net.apply_output_transform(output_transform) #tenemos que colocar esto después de definir la red"
   ]
  },
  {
   "cell_type": "markdown",
   "id": "9ac18d3d",
   "metadata": {},
   "source": [
    "## 4. Crear Datos de Entrenamiento\n",
    "\n",
    "vamos a crear los datos de entrenamiento"
   ]
  },
  {
   "cell_type": "code",
   "execution_count": 5,
   "id": "f93f54e0",
   "metadata": {},
   "outputs": [],
   "source": [
    "data = dde.data.PDE(geom, pde, [], num_domain=126, solution=func, num_test=200, train_distribution='uniform')"
   ]
  },
  {
   "cell_type": "markdown",
   "id": "a496a084",
   "metadata": {},
   "source": [
    "## 5. Crear la Red Neuronal\n",
    "\n",
    "Como el término forzante se compone de senos, entonces la solución será una combinación lineal de senos. Es por esto que podemos aprovechar aún más los operadores de la red y aplicar una transformada de fourier a la red para conseguir una mejor solución\n",
    "\n",
    "~~~python\n",
    "class deepxde.nn.tensorflow_compat_v1.msffn.MsFFN(layer_sizes, \n",
    "                                                  activation, \n",
    "                                                  kernel_initializer, \n",
    "                                                  sigmas, \n",
    "                                                  regularization=None, \n",
    "                                                  dropout_rate=0, \n",
    "                                                  batch_normalization=None, \n",
    "                                                  layer_normalization=None, \n",
    "                                                  kernel_constraint=None, \n",
    "                                                  use_bias=True)\n",
    "~~~\n",
    "\n",
    "También existe una versión para problemas con dependencia temporal. Ver detalles en https://deepxde.readthedocs.io/en/latest/modules/deepxde.nn.tensorflow_compat_v1.html?highlight=nn.MsFFN#deepxde.nn.tensorflow_compat_v1.msffn.MsFFN. \n",
    "\n",
    "- **sigmas** – List of standard deviation of the distribution of fourier feature embeddings"
   ]
  },
  {
   "cell_type": "code",
   "execution_count": 6,
   "id": "ef8f28d0",
   "metadata": {},
   "outputs": [],
   "source": [
    "layer_size = [1] + [40]*3 + [1]\n",
    "activation = \"tanh\"\n",
    "initializer = \"Glorot uniform\"\n",
    "net = dde.nn.MsFFN(layer_size, activation, initializer, sigmas=[1, 10])\n",
    "\n",
    "net.apply_output_transform(output_transform) # aplicar la transformación"
   ]
  },
  {
   "cell_type": "markdown",
   "id": "010a9de7",
   "metadata": {},
   "source": [
    "## 6. Compilar y Entrenar el Modelo\n",
    "\n",
    "Vamos a utilizar otra opción que no hemos usado hasta ahora para el optimizador Adam. Esto es que el learning rate disminuya con las iteraciones. Ver https://deepxde.readthedocs.io/en/latest/modules/deepxde.html?highlight=decay#deepxde.model.Model.compile."
   ]
  },
  {
   "cell_type": "code",
   "execution_count": 7,
   "id": "bf13aaaf",
   "metadata": {},
   "outputs": [
    {
     "name": "stdout",
     "output_type": "stream",
     "text": [
      "Compiling model...\n",
      "Building Multiscale Fourier Feature Network...\n"
     ]
    },
    {
     "name": "stderr",
     "output_type": "stream",
     "text": [
      "/home/wind/.local/lib/python3.10/site-packages/deepxde/nn/tensorflow_compat_v1/fnn.py:103: UserWarning: `tf.layers.dense` is deprecated and will be removed in a future version. Please use `tf.keras.layers.Dense` instead.\n",
      "  return tf.layers.dense(\n",
      "2022-10-22 09:52:40.191101: I tensorflow/core/platform/cpu_feature_guard.cc:193] This TensorFlow binary is optimized with oneAPI Deep Neural Network Library (oneDNN) to use the following CPU instructions in performance-critical operations:  AVX2 AVX512F AVX512_VNNI FMA\n",
      "To enable them in other operations, rebuild TensorFlow with the appropriate compiler flags.\n"
     ]
    },
    {
     "name": "stdout",
     "output_type": "stream",
     "text": [
      "'compile' took 0.551420 s\n",
      "\n",
      "Initializing variables...\n",
      "Training model...\n",
      "\n"
     ]
    },
    {
     "name": "stderr",
     "output_type": "stream",
     "text": [
      "2022-10-22 09:52:40.708621: I tensorflow/compiler/mlir/mlir_graph_optimization_pass.cc:354] MLIR V1 optimization pass is not enabled\n"
     ]
    },
    {
     "name": "stdout",
     "output_type": "stream",
     "text": [
      "Step      Train loss    Test loss     Test metric   \n",
      "0         [1.35e+04]    [1.34e+04]    [1.01e+00]    \n",
      "1000      [1.34e+00]    [1.38e+00]    [2.04e-01]    \n",
      "2000      [2.71e-01]    [2.91e-01]    [3.58e-02]    \n",
      "3000      [1.23e-01]    [1.38e-01]    [5.53e-03]    \n",
      "4000      [7.16e-02]    [8.52e-02]    [1.78e-03]    \n",
      "5000      [4.45e-02]    [5.76e-02]    [8.02e-04]    \n",
      "6000      [2.90e-02]    [4.04e-02]    [2.98e-04]    \n",
      "7000      [1.94e-02]    [2.84e-02]    [8.92e-05]    \n",
      "8000      [1.31e-02]    [1.99e-02]    [2.85e-05]    \n",
      "9000      [8.76e-03]    [1.41e-02]    [1.82e-05]    \n",
      "10000     [5.67e-03]    [1.04e-02]    [1.92e-05]    \n",
      "11000     [3.47e-03]    [8.09e-03]    [2.21e-05]    \n",
      "12000     [2.03e-03]    [6.86e-03]    [3.18e-05]    \n",
      "13000     [1.16e-03]    [6.34e-03]    [3.96e-05]    \n",
      "14000     [9.24e-04]    [6.47e-03]    [4.27e-05]    \n",
      "15000     [5.16e-04]    [6.42e-03]    [5.17e-05]    \n",
      "16000     [5.11e-04]    [6.70e-03]    [6.83e-05]    \n",
      "17000     [1.95e-04]    [6.63e-03]    [5.34e-05]    \n",
      "18000     [2.71e-04]    [6.91e-03]    [5.78e-05]    \n",
      "19000     [2.20e-04]    [7.01e-03]    [5.85e-05]    \n",
      "20000     [7.84e-05]    [6.99e-03]    [5.66e-05]    \n",
      "21000     [3.54e-04]    [7.36e-03]    [7.39e-05]    \n",
      "22000     [8.55e-05]    [7.17e-03]    [5.60e-05]    \n",
      "23000     [8.41e-05]    [7.24e-03]    [6.10e-05]    \n",
      "24000     [5.19e-04]    [7.72e-03]    [7.01e-05]    \n",
      "25000     [3.21e-05]    [7.27e-03]    [5.42e-05]    \n",
      "\n",
      "Best model at step 25000:\n",
      "  train loss: 3.21e-05\n",
      "  test loss: 7.27e-03\n",
      "  test metric: [5.42e-05]\n",
      "\n",
      "'train' took 45.367101 s\n",
      "\n"
     ]
    }
   ],
   "source": [
    "# Modelo\n",
    "model = dde.Model(data, net)\n",
    "\n",
    "# Optimizador Adam\n",
    "model.compile(\n",
    "    \"adam\",\n",
    "    lr=3e-4,\n",
    "    metrics=[\"l2 relative error\"],\n",
    "    decay=(\"inverse time\", 1500, 0.9), # es posible hacer que el learning rate disminuya con las iteraciones\n",
    ")\n",
    "\n",
    "losshistory, train_state = model.train(iterations=25000)"
   ]
  },
  {
   "cell_type": "markdown",
   "id": "01b2632b",
   "metadata": {},
   "source": [
    "## 7. Visualizar la Solución"
   ]
  },
  {
   "cell_type": "code",
   "execution_count": 8,
   "id": "c195b8d7",
   "metadata": {},
   "outputs": [
    {
     "data": {
      "image/png": "[encoded data removed]",
      "text/plain": [
       "<Figure size 432x288 with 1 Axes>"
      ]
     },
     "metadata": {
      "needs_background": "light"
     },
     "output_type": "display_data"
    },
    {
     "data": {
      "image/png": "[encoded data removed]",
      "text/plain": [
       "<Figure size 432x288 with 1 Axes>"
      ]
     },
     "metadata": {
      "needs_background": "light"
     },
     "output_type": "display_data"
    }
   ],
   "source": [
    "dde.saveplot(model.losshistory, model.train_state, issave=False, isplot=True)"
   ]
  }
 ],
 "metadata": {
  "kernelspec": {
   "display_name": "Python 3 (ipykernel)",
   "language": "python",
   "name": "python3"
  },
  "language_info": {
   "codemirror_mode": {
    "name": "ipython",
    "version": 3
   },
   "file_extension": ".py",
   "mimetype": "text/x-python",
   "name": "python",
   "nbconvert_exporter": "python",
   "pygments_lexer": "ipython3",
   "version": "3.10.6"
  }
 },
 "nbformat": 4,
 "nbformat_minor": 5
}
